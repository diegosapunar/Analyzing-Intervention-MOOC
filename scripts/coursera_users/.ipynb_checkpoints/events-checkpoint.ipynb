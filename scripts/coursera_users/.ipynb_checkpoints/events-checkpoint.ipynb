{
 "cells": [
  {
   "cell_type": "markdown",
   "metadata": {},
   "source": [
    "# Events Coursera Users"
   ]
  },
  {
   "cell_type": "markdown",
   "metadata": {},
   "source": [
    "## Import Packages"
   ]
  },
  {
   "cell_type": "code",
   "execution_count": 176,
   "metadata": {},
   "outputs": [],
   "source": [
    "# data analysis and wrangling\n",
    "import pandas as pd\n",
    "import numpy as np\n",
    "\n",
    "# visualization\n",
    "%matplotlib inline\n",
    "import matplotlib.pyplot as plt"
   ]
  },
  {
   "cell_type": "markdown",
   "metadata": {},
   "source": [
    "## Load Data"
   ]
  },
  {
   "cell_type": "code",
   "execution_count": 177,
   "metadata": {},
   "outputs": [],
   "source": [
    "df = pd.read_csv('../data/NMP/eventos/events_NMP.csv', index_col='id')\n",
    "df_users = pd.read_csv('../data/NMP/cooked_data_coursera_users/users.csv', index_col='user_id')"
   ]
  },
  {
   "cell_type": "markdown",
   "metadata": {},
   "source": [
    "## Data Cleaning and Preparation"
   ]
  },
  {
   "cell_type": "code",
   "execution_count": 178,
   "metadata": {},
   "outputs": [],
   "source": [
    "# Deleting all the non coursera users\n",
    "df = df[df.user_id.isin(df_users.index.values)]"
   ]
  },
  {
   "cell_type": "code",
   "execution_count": 179,
   "metadata": {},
   "outputs": [],
   "source": [
    "# Deleting the unnecesary columns\n",
    "df = df.drop(columns=['visit_id', 'course_id', 'time'])"
   ]
  },
  {
   "cell_type": "code",
   "execution_count": 180,
   "metadata": {},
   "outputs": [],
   "source": [
    "# Deleting rows with NaN values, which are in the user_id columns\n",
    "df = df.dropna()"
   ]
  },
  {
   "cell_type": "markdown",
   "metadata": {},
   "source": [
    "### Interactions"
   ]
  },
  {
   "cell_type": "code",
   "execution_count": 181,
   "metadata": {},
   "outputs": [],
   "source": [
    "# Getting interactions\n",
    "df_interactions = df.groupby(['user_id']).agg({'user_id': 'count'})\n",
    "\n",
    "# Renaming the columns\n",
    "df_interactions = df_interactions.rename(columns={'user_id': 'interactions'})"
   ]
  },
  {
   "cell_type": "markdown",
   "metadata": {},
   "source": [
    "### Types"
   ]
  },
  {
   "cell_type": "code",
   "execution_count": 182,
   "metadata": {},
   "outputs": [],
   "source": [
    "# Getting Types\n",
    "df_types = pd.crosstab(df.user_id, df.type, margins=True)\n",
    "\n",
    "# Deleting Column All, since is already in df_interactions\n",
    "df_types = df_types.drop(columns='All')"
   ]
  },
  {
   "cell_type": "markdown",
   "metadata": {},
   "source": [
    "### Names"
   ]
  },
  {
   "cell_type": "code",
   "execution_count": 183,
   "metadata": {},
   "outputs": [],
   "source": [
    "# Getting Names\n",
    "df_names = pd.crosstab(df.user_id, df.name, margins=True)\n",
    "\n",
    "# Deleting Column All, since is already in df_interactions\n",
    "df_names = df_names.drop(columns='All')"
   ]
  },
  {
   "cell_type": "code",
   "execution_count": 184,
   "metadata": {},
   "outputs": [],
   "source": [
    "# Spliting df_names in 3 Data Frames\n",
    "buttons = []\n",
    "graphs = []\n",
    "menus = []\n",
    "\n",
    "for col in df_names.columns:\n",
    "    if 'Button' in col:\n",
    "        buttons.append(col)\n",
    "    elif 'Graph' in col:\n",
    "        graphs.append(col)\n",
    "    else:\n",
    "        menus.append(col)\n",
    "        \n",
    "df_buttons = df_names[buttons]\n",
    "df_graphs = df_names[graphs]\n",
    "df_menus = df_names[menus]"
   ]
  },
  {
   "cell_type": "markdown",
   "metadata": {},
   "source": [
    "## EDA: Exploratory Data Analysis"
   ]
  },
  {
   "cell_type": "markdown",
   "metadata": {},
   "source": [
    "### Interactions"
   ]
  },
  {
   "cell_type": "code",
   "execution_count": 185,
   "metadata": {},
   "outputs": [
    {
     "data": {
      "text/plain": [
       "Index(['interactions'], dtype='object')"
      ]
     },
     "execution_count": 185,
     "metadata": {},
     "output_type": "execute_result"
    }
   ],
   "source": [
    "# Features/Variable names\n",
    "df_interactions.columns"
   ]
  },
  {
   "cell_type": "code",
   "execution_count": 186,
   "metadata": {},
   "outputs": [
    {
     "data": {
      "text/html": [
       "<div>\n",
       "<style scoped>\n",
       "    .dataframe tbody tr th:only-of-type {\n",
       "        vertical-align: middle;\n",
       "    }\n",
       "\n",
       "    .dataframe tbody tr th {\n",
       "        vertical-align: top;\n",
       "    }\n",
       "\n",
       "    .dataframe thead th {\n",
       "        text-align: right;\n",
       "    }\n",
       "</style>\n",
       "<table border=\"1\" class=\"dataframe\">\n",
       "  <thead>\n",
       "    <tr style=\"text-align: right;\">\n",
       "      <th></th>\n",
       "      <th>interactions</th>\n",
       "    </tr>\n",
       "    <tr>\n",
       "      <th>user_id</th>\n",
       "      <th></th>\n",
       "    </tr>\n",
       "  </thead>\n",
       "  <tbody>\n",
       "    <tr>\n",
       "      <th>8.0</th>\n",
       "      <td>10</td>\n",
       "    </tr>\n",
       "    <tr>\n",
       "      <th>10.0</th>\n",
       "      <td>10</td>\n",
       "    </tr>\n",
       "    <tr>\n",
       "      <th>11.0</th>\n",
       "      <td>6</td>\n",
       "    </tr>\n",
       "    <tr>\n",
       "      <th>17.0</th>\n",
       "      <td>2</td>\n",
       "    </tr>\n",
       "    <tr>\n",
       "      <th>24.0</th>\n",
       "      <td>74</td>\n",
       "    </tr>\n",
       "  </tbody>\n",
       "</table>\n",
       "</div>"
      ],
      "text/plain": [
       "         interactions\n",
       "user_id              \n",
       "8.0                10\n",
       "10.0               10\n",
       "11.0                6\n",
       "17.0                2\n",
       "24.0               74"
      ]
     },
     "execution_count": 186,
     "metadata": {},
     "output_type": "execute_result"
    }
   ],
   "source": [
    "# Preview the data\n",
    "df_interactions.head(5)"
   ]
  },
  {
   "cell_type": "code",
   "execution_count": 187,
   "metadata": {},
   "outputs": [
    {
     "data": {
      "text/html": [
       "<div>\n",
       "<style scoped>\n",
       "    .dataframe tbody tr th:only-of-type {\n",
       "        vertical-align: middle;\n",
       "    }\n",
       "\n",
       "    .dataframe tbody tr th {\n",
       "        vertical-align: top;\n",
       "    }\n",
       "\n",
       "    .dataframe thead th {\n",
       "        text-align: right;\n",
       "    }\n",
       "</style>\n",
       "<table border=\"1\" class=\"dataframe\">\n",
       "  <thead>\n",
       "    <tr style=\"text-align: right;\">\n",
       "      <th></th>\n",
       "      <th>interactions</th>\n",
       "    </tr>\n",
       "  </thead>\n",
       "  <tbody>\n",
       "    <tr>\n",
       "      <th>count</th>\n",
       "      <td>211.000000</td>\n",
       "    </tr>\n",
       "    <tr>\n",
       "      <th>mean</th>\n",
       "      <td>16.412322</td>\n",
       "    </tr>\n",
       "    <tr>\n",
       "      <th>std</th>\n",
       "      <td>24.451811</td>\n",
       "    </tr>\n",
       "    <tr>\n",
       "      <th>min</th>\n",
       "      <td>1.000000</td>\n",
       "    </tr>\n",
       "    <tr>\n",
       "      <th>25%</th>\n",
       "      <td>3.000000</td>\n",
       "    </tr>\n",
       "    <tr>\n",
       "      <th>50%</th>\n",
       "      <td>8.000000</td>\n",
       "    </tr>\n",
       "    <tr>\n",
       "      <th>75%</th>\n",
       "      <td>17.500000</td>\n",
       "    </tr>\n",
       "    <tr>\n",
       "      <th>max</th>\n",
       "      <td>188.000000</td>\n",
       "    </tr>\n",
       "  </tbody>\n",
       "</table>\n",
       "</div>"
      ],
      "text/plain": [
       "       interactions\n",
       "count    211.000000\n",
       "mean      16.412322\n",
       "std       24.451811\n",
       "min        1.000000\n",
       "25%        3.000000\n",
       "50%        8.000000\n",
       "75%       17.500000\n",
       "max      188.000000"
      ]
     },
     "execution_count": 187,
     "metadata": {},
     "output_type": "execute_result"
    }
   ],
   "source": [
    "# General data statistics\n",
    "df_interactions.describe()"
   ]
  },
  {
   "cell_type": "code",
   "execution_count": 188,
   "metadata": {},
   "outputs": [
    {
     "data": {
      "text/plain": [
       "interactions    3463\n",
       "dtype: int64"
      ]
     },
     "execution_count": 188,
     "metadata": {},
     "output_type": "execute_result"
    }
   ],
   "source": [
    "# Number of interactions\n",
    "df_interactions.sum()"
   ]
  },
  {
   "cell_type": "markdown",
   "metadata": {},
   "source": [
    "### Types"
   ]
  },
  {
   "cell_type": "code",
   "execution_count": 189,
   "metadata": {},
   "outputs": [
    {
     "data": {
      "text/plain": [
       "Index(['Button', 'Graph', 'Menu'], dtype='object', name='type')"
      ]
     },
     "execution_count": 189,
     "metadata": {},
     "output_type": "execute_result"
    }
   ],
   "source": [
    "# Features/Variable names\n",
    "df_types.columns"
   ]
  },
  {
   "cell_type": "code",
   "execution_count": 190,
   "metadata": {},
   "outputs": [
    {
     "data": {
      "text/html": [
       "<div>\n",
       "<style scoped>\n",
       "    .dataframe tbody tr th:only-of-type {\n",
       "        vertical-align: middle;\n",
       "    }\n",
       "\n",
       "    .dataframe tbody tr th {\n",
       "        vertical-align: top;\n",
       "    }\n",
       "\n",
       "    .dataframe thead th {\n",
       "        text-align: right;\n",
       "    }\n",
       "</style>\n",
       "<table border=\"1\" class=\"dataframe\">\n",
       "  <thead>\n",
       "    <tr style=\"text-align: right;\">\n",
       "      <th>type</th>\n",
       "      <th>Button</th>\n",
       "      <th>Graph</th>\n",
       "      <th>Menu</th>\n",
       "    </tr>\n",
       "    <tr>\n",
       "      <th>user_id</th>\n",
       "      <th></th>\n",
       "      <th></th>\n",
       "      <th></th>\n",
       "    </tr>\n",
       "  </thead>\n",
       "  <tbody>\n",
       "    <tr>\n",
       "      <th>8.0</th>\n",
       "      <td>1</td>\n",
       "      <td>0</td>\n",
       "      <td>9</td>\n",
       "    </tr>\n",
       "    <tr>\n",
       "      <th>10.0</th>\n",
       "      <td>0</td>\n",
       "      <td>5</td>\n",
       "      <td>5</td>\n",
       "    </tr>\n",
       "    <tr>\n",
       "      <th>11.0</th>\n",
       "      <td>1</td>\n",
       "      <td>0</td>\n",
       "      <td>5</td>\n",
       "    </tr>\n",
       "    <tr>\n",
       "      <th>17.0</th>\n",
       "      <td>0</td>\n",
       "      <td>0</td>\n",
       "      <td>2</td>\n",
       "    </tr>\n",
       "    <tr>\n",
       "      <th>24.0</th>\n",
       "      <td>8</td>\n",
       "      <td>30</td>\n",
       "      <td>36</td>\n",
       "    </tr>\n",
       "  </tbody>\n",
       "</table>\n",
       "</div>"
      ],
      "text/plain": [
       "type     Button  Graph  Menu\n",
       "user_id                     \n",
       "8.0           1      0     9\n",
       "10.0          0      5     5\n",
       "11.0          1      0     5\n",
       "17.0          0      0     2\n",
       "24.0          8     30    36"
      ]
     },
     "execution_count": 190,
     "metadata": {},
     "output_type": "execute_result"
    }
   ],
   "source": [
    "# Preview the data\n",
    "df_types.head(5)"
   ]
  },
  {
   "cell_type": "code",
   "execution_count": 191,
   "metadata": {},
   "outputs": [
    {
     "data": {
      "text/html": [
       "<div>\n",
       "<style scoped>\n",
       "    .dataframe tbody tr th:only-of-type {\n",
       "        vertical-align: middle;\n",
       "    }\n",
       "\n",
       "    .dataframe tbody tr th {\n",
       "        vertical-align: top;\n",
       "    }\n",
       "\n",
       "    .dataframe thead th {\n",
       "        text-align: right;\n",
       "    }\n",
       "</style>\n",
       "<table border=\"1\" class=\"dataframe\">\n",
       "  <thead>\n",
       "    <tr style=\"text-align: right;\">\n",
       "      <th>type</th>\n",
       "      <th>Button</th>\n",
       "      <th>Graph</th>\n",
       "      <th>Menu</th>\n",
       "    </tr>\n",
       "  </thead>\n",
       "  <tbody>\n",
       "    <tr>\n",
       "      <th>count</th>\n",
       "      <td>211.000000</td>\n",
       "      <td>211.000000</td>\n",
       "      <td>211.000000</td>\n",
       "    </tr>\n",
       "    <tr>\n",
       "      <th>mean</th>\n",
       "      <td>3.549763</td>\n",
       "      <td>6.222749</td>\n",
       "      <td>6.639810</td>\n",
       "    </tr>\n",
       "    <tr>\n",
       "      <th>std</th>\n",
       "      <td>7.820068</td>\n",
       "      <td>16.154688</td>\n",
       "      <td>7.353206</td>\n",
       "    </tr>\n",
       "    <tr>\n",
       "      <th>min</th>\n",
       "      <td>0.000000</td>\n",
       "      <td>0.000000</td>\n",
       "      <td>0.000000</td>\n",
       "    </tr>\n",
       "    <tr>\n",
       "      <th>25%</th>\n",
       "      <td>0.000000</td>\n",
       "      <td>0.000000</td>\n",
       "      <td>2.000000</td>\n",
       "    </tr>\n",
       "    <tr>\n",
       "      <th>50%</th>\n",
       "      <td>1.000000</td>\n",
       "      <td>0.000000</td>\n",
       "      <td>4.000000</td>\n",
       "    </tr>\n",
       "    <tr>\n",
       "      <th>75%</th>\n",
       "      <td>3.000000</td>\n",
       "      <td>3.000000</td>\n",
       "      <td>9.000000</td>\n",
       "    </tr>\n",
       "    <tr>\n",
       "      <th>max</th>\n",
       "      <td>71.000000</td>\n",
       "      <td>106.000000</td>\n",
       "      <td>45.000000</td>\n",
       "    </tr>\n",
       "  </tbody>\n",
       "</table>\n",
       "</div>"
      ],
      "text/plain": [
       "type       Button       Graph        Menu\n",
       "count  211.000000  211.000000  211.000000\n",
       "mean     3.549763    6.222749    6.639810\n",
       "std      7.820068   16.154688    7.353206\n",
       "min      0.000000    0.000000    0.000000\n",
       "25%      0.000000    0.000000    2.000000\n",
       "50%      1.000000    0.000000    4.000000\n",
       "75%      3.000000    3.000000    9.000000\n",
       "max     71.000000  106.000000   45.000000"
      ]
     },
     "execution_count": 191,
     "metadata": {},
     "output_type": "execute_result"
    }
   ],
   "source": [
    "# General data statistics\n",
    "df_types.drop('All').describe()"
   ]
  },
  {
   "cell_type": "markdown",
   "metadata": {},
   "source": [
    "### Names: Buttons"
   ]
  },
  {
   "cell_type": "code",
   "execution_count": 192,
   "metadata": {},
   "outputs": [
    {
     "data": {
      "text/plain": [
       "Index(['Button_ComparisonDisabled', 'Button_ComparisonEnabled',\n",
       "       'Button_DefineGoal', 'Button_DownloadAllNotes', 'Button_DownloadNote',\n",
       "       'Button_EditNote', 'Button_Effectiveness',\n",
       "       'Button_EngagementPerformance', 'Button_FilterTime30Days',\n",
       "       'Button_FilterTime7Days', 'Button_FilterTimeViewAll',\n",
       "       'Button_FilterViewAll', 'Button_NewNote', 'Button_SearchNote'],\n",
       "      dtype='object', name='name')"
      ]
     },
     "execution_count": 192,
     "metadata": {},
     "output_type": "execute_result"
    }
   ],
   "source": [
    "# Features/Variable names\n",
    "df_buttons.columns"
   ]
  },
  {
   "cell_type": "code",
   "execution_count": 193,
   "metadata": {},
   "outputs": [
    {
     "data": {
      "text/html": [
       "<div>\n",
       "<style scoped>\n",
       "    .dataframe tbody tr th:only-of-type {\n",
       "        vertical-align: middle;\n",
       "    }\n",
       "\n",
       "    .dataframe tbody tr th {\n",
       "        vertical-align: top;\n",
       "    }\n",
       "\n",
       "    .dataframe thead th {\n",
       "        text-align: right;\n",
       "    }\n",
       "</style>\n",
       "<table border=\"1\" class=\"dataframe\">\n",
       "  <thead>\n",
       "    <tr style=\"text-align: right;\">\n",
       "      <th>name</th>\n",
       "      <th>Button_ComparisonDisabled</th>\n",
       "      <th>Button_ComparisonEnabled</th>\n",
       "      <th>Button_DefineGoal</th>\n",
       "      <th>Button_DownloadAllNotes</th>\n",
       "      <th>Button_DownloadNote</th>\n",
       "      <th>Button_EditNote</th>\n",
       "      <th>Button_Effectiveness</th>\n",
       "      <th>Button_EngagementPerformance</th>\n",
       "      <th>Button_FilterTime30Days</th>\n",
       "      <th>Button_FilterTime7Days</th>\n",
       "      <th>Button_FilterTimeViewAll</th>\n",
       "      <th>Button_FilterViewAll</th>\n",
       "      <th>Button_NewNote</th>\n",
       "      <th>Button_SearchNote</th>\n",
       "    </tr>\n",
       "    <tr>\n",
       "      <th>user_id</th>\n",
       "      <th></th>\n",
       "      <th></th>\n",
       "      <th></th>\n",
       "      <th></th>\n",
       "      <th></th>\n",
       "      <th></th>\n",
       "      <th></th>\n",
       "      <th></th>\n",
       "      <th></th>\n",
       "      <th></th>\n",
       "      <th></th>\n",
       "      <th></th>\n",
       "      <th></th>\n",
       "      <th></th>\n",
       "    </tr>\n",
       "  </thead>\n",
       "  <tbody>\n",
       "    <tr>\n",
       "      <th>8.0</th>\n",
       "      <td>0</td>\n",
       "      <td>0</td>\n",
       "      <td>0</td>\n",
       "      <td>0</td>\n",
       "      <td>0</td>\n",
       "      <td>0</td>\n",
       "      <td>0</td>\n",
       "      <td>0</td>\n",
       "      <td>0</td>\n",
       "      <td>1</td>\n",
       "      <td>0</td>\n",
       "      <td>0</td>\n",
       "      <td>0</td>\n",
       "      <td>0</td>\n",
       "    </tr>\n",
       "    <tr>\n",
       "      <th>10.0</th>\n",
       "      <td>0</td>\n",
       "      <td>0</td>\n",
       "      <td>0</td>\n",
       "      <td>0</td>\n",
       "      <td>0</td>\n",
       "      <td>0</td>\n",
       "      <td>0</td>\n",
       "      <td>0</td>\n",
       "      <td>0</td>\n",
       "      <td>0</td>\n",
       "      <td>0</td>\n",
       "      <td>0</td>\n",
       "      <td>0</td>\n",
       "      <td>0</td>\n",
       "    </tr>\n",
       "    <tr>\n",
       "      <th>11.0</th>\n",
       "      <td>0</td>\n",
       "      <td>0</td>\n",
       "      <td>0</td>\n",
       "      <td>0</td>\n",
       "      <td>0</td>\n",
       "      <td>0</td>\n",
       "      <td>0</td>\n",
       "      <td>0</td>\n",
       "      <td>0</td>\n",
       "      <td>0</td>\n",
       "      <td>0</td>\n",
       "      <td>0</td>\n",
       "      <td>1</td>\n",
       "      <td>0</td>\n",
       "    </tr>\n",
       "    <tr>\n",
       "      <th>17.0</th>\n",
       "      <td>0</td>\n",
       "      <td>0</td>\n",
       "      <td>0</td>\n",
       "      <td>0</td>\n",
       "      <td>0</td>\n",
       "      <td>0</td>\n",
       "      <td>0</td>\n",
       "      <td>0</td>\n",
       "      <td>0</td>\n",
       "      <td>0</td>\n",
       "      <td>0</td>\n",
       "      <td>0</td>\n",
       "      <td>0</td>\n",
       "      <td>0</td>\n",
       "    </tr>\n",
       "    <tr>\n",
       "      <th>24.0</th>\n",
       "      <td>0</td>\n",
       "      <td>0</td>\n",
       "      <td>0</td>\n",
       "      <td>3</td>\n",
       "      <td>0</td>\n",
       "      <td>0</td>\n",
       "      <td>3</td>\n",
       "      <td>0</td>\n",
       "      <td>0</td>\n",
       "      <td>0</td>\n",
       "      <td>0</td>\n",
       "      <td>2</td>\n",
       "      <td>0</td>\n",
       "      <td>0</td>\n",
       "    </tr>\n",
       "  </tbody>\n",
       "</table>\n",
       "</div>"
      ],
      "text/plain": [
       "name     Button_ComparisonDisabled  Button_ComparisonEnabled  \\\n",
       "user_id                                                        \n",
       "8.0                              0                         0   \n",
       "10.0                             0                         0   \n",
       "11.0                             0                         0   \n",
       "17.0                             0                         0   \n",
       "24.0                             0                         0   \n",
       "\n",
       "name     Button_DefineGoal  Button_DownloadAllNotes  Button_DownloadNote  \\\n",
       "user_id                                                                    \n",
       "8.0                      0                        0                    0   \n",
       "10.0                     0                        0                    0   \n",
       "11.0                     0                        0                    0   \n",
       "17.0                     0                        0                    0   \n",
       "24.0                     0                        3                    0   \n",
       "\n",
       "name     Button_EditNote  Button_Effectiveness  Button_EngagementPerformance  \\\n",
       "user_id                                                                        \n",
       "8.0                    0                     0                             0   \n",
       "10.0                   0                     0                             0   \n",
       "11.0                   0                     0                             0   \n",
       "17.0                   0                     0                             0   \n",
       "24.0                   0                     3                             0   \n",
       "\n",
       "name     Button_FilterTime30Days  Button_FilterTime7Days  \\\n",
       "user_id                                                    \n",
       "8.0                            0                       1   \n",
       "10.0                           0                       0   \n",
       "11.0                           0                       0   \n",
       "17.0                           0                       0   \n",
       "24.0                           0                       0   \n",
       "\n",
       "name     Button_FilterTimeViewAll  Button_FilterViewAll  Button_NewNote  \\\n",
       "user_id                                                                   \n",
       "8.0                             0                     0               0   \n",
       "10.0                            0                     0               0   \n",
       "11.0                            0                     0               1   \n",
       "17.0                            0                     0               0   \n",
       "24.0                            0                     2               0   \n",
       "\n",
       "name     Button_SearchNote  \n",
       "user_id                     \n",
       "8.0                      0  \n",
       "10.0                     0  \n",
       "11.0                     0  \n",
       "17.0                     0  \n",
       "24.0                     0  "
      ]
     },
     "execution_count": 193,
     "metadata": {},
     "output_type": "execute_result"
    }
   ],
   "source": [
    "# Preview the data\n",
    "df_buttons.head(5)"
   ]
  },
  {
   "cell_type": "code",
   "execution_count": 194,
   "metadata": {},
   "outputs": [
    {
     "data": {
      "text/html": [
       "<div>\n",
       "<style scoped>\n",
       "    .dataframe tbody tr th:only-of-type {\n",
       "        vertical-align: middle;\n",
       "    }\n",
       "\n",
       "    .dataframe tbody tr th {\n",
       "        vertical-align: top;\n",
       "    }\n",
       "\n",
       "    .dataframe thead th {\n",
       "        text-align: right;\n",
       "    }\n",
       "</style>\n",
       "<table border=\"1\" class=\"dataframe\">\n",
       "  <thead>\n",
       "    <tr style=\"text-align: right;\">\n",
       "      <th>name</th>\n",
       "      <th>Button_ComparisonDisabled</th>\n",
       "      <th>Button_ComparisonEnabled</th>\n",
       "      <th>Button_DefineGoal</th>\n",
       "      <th>Button_DownloadAllNotes</th>\n",
       "      <th>Button_DownloadNote</th>\n",
       "      <th>Button_EditNote</th>\n",
       "      <th>Button_Effectiveness</th>\n",
       "      <th>Button_EngagementPerformance</th>\n",
       "      <th>Button_FilterTime30Days</th>\n",
       "      <th>Button_FilterTime7Days</th>\n",
       "      <th>Button_FilterTimeViewAll</th>\n",
       "      <th>Button_FilterViewAll</th>\n",
       "      <th>Button_NewNote</th>\n",
       "      <th>Button_SearchNote</th>\n",
       "    </tr>\n",
       "  </thead>\n",
       "  <tbody>\n",
       "    <tr>\n",
       "      <th>count</th>\n",
       "      <td>211.000000</td>\n",
       "      <td>211.000000</td>\n",
       "      <td>211.000000</td>\n",
       "      <td>211.000000</td>\n",
       "      <td>211.000000</td>\n",
       "      <td>211.000000</td>\n",
       "      <td>211.000000</td>\n",
       "      <td>211.000000</td>\n",
       "      <td>211.000000</td>\n",
       "      <td>211.000000</td>\n",
       "      <td>211.000000</td>\n",
       "      <td>211.000000</td>\n",
       "      <td>211.000000</td>\n",
       "      <td>211.000000</td>\n",
       "    </tr>\n",
       "    <tr>\n",
       "      <th>mean</th>\n",
       "      <td>0.099526</td>\n",
       "      <td>0.308057</td>\n",
       "      <td>0.265403</td>\n",
       "      <td>0.312796</td>\n",
       "      <td>0.018957</td>\n",
       "      <td>0.369668</td>\n",
       "      <td>0.478673</td>\n",
       "      <td>0.156398</td>\n",
       "      <td>0.170616</td>\n",
       "      <td>0.284360</td>\n",
       "      <td>0.232227</td>\n",
       "      <td>0.246445</td>\n",
       "      <td>0.502370</td>\n",
       "      <td>0.104265</td>\n",
       "    </tr>\n",
       "    <tr>\n",
       "      <th>std</th>\n",
       "      <td>0.430448</td>\n",
       "      <td>1.048755</td>\n",
       "      <td>0.733996</td>\n",
       "      <td>0.843336</td>\n",
       "      <td>0.136699</td>\n",
       "      <td>1.975042</td>\n",
       "      <td>1.135266</td>\n",
       "      <td>0.506335</td>\n",
       "      <td>0.755481</td>\n",
       "      <td>1.289035</td>\n",
       "      <td>0.898732</td>\n",
       "      <td>1.409466</td>\n",
       "      <td>2.161072</td>\n",
       "      <td>0.638846</td>\n",
       "    </tr>\n",
       "    <tr>\n",
       "      <th>min</th>\n",
       "      <td>0.000000</td>\n",
       "      <td>0.000000</td>\n",
       "      <td>0.000000</td>\n",
       "      <td>0.000000</td>\n",
       "      <td>0.000000</td>\n",
       "      <td>0.000000</td>\n",
       "      <td>0.000000</td>\n",
       "      <td>0.000000</td>\n",
       "      <td>0.000000</td>\n",
       "      <td>0.000000</td>\n",
       "      <td>0.000000</td>\n",
       "      <td>0.000000</td>\n",
       "      <td>0.000000</td>\n",
       "      <td>0.000000</td>\n",
       "    </tr>\n",
       "    <tr>\n",
       "      <th>25%</th>\n",
       "      <td>0.000000</td>\n",
       "      <td>0.000000</td>\n",
       "      <td>0.000000</td>\n",
       "      <td>0.000000</td>\n",
       "      <td>0.000000</td>\n",
       "      <td>0.000000</td>\n",
       "      <td>0.000000</td>\n",
       "      <td>0.000000</td>\n",
       "      <td>0.000000</td>\n",
       "      <td>0.000000</td>\n",
       "      <td>0.000000</td>\n",
       "      <td>0.000000</td>\n",
       "      <td>0.000000</td>\n",
       "      <td>0.000000</td>\n",
       "    </tr>\n",
       "    <tr>\n",
       "      <th>50%</th>\n",
       "      <td>0.000000</td>\n",
       "      <td>0.000000</td>\n",
       "      <td>0.000000</td>\n",
       "      <td>0.000000</td>\n",
       "      <td>0.000000</td>\n",
       "      <td>0.000000</td>\n",
       "      <td>0.000000</td>\n",
       "      <td>0.000000</td>\n",
       "      <td>0.000000</td>\n",
       "      <td>0.000000</td>\n",
       "      <td>0.000000</td>\n",
       "      <td>0.000000</td>\n",
       "      <td>0.000000</td>\n",
       "      <td>0.000000</td>\n",
       "    </tr>\n",
       "    <tr>\n",
       "      <th>75%</th>\n",
       "      <td>0.000000</td>\n",
       "      <td>0.000000</td>\n",
       "      <td>0.000000</td>\n",
       "      <td>0.000000</td>\n",
       "      <td>0.000000</td>\n",
       "      <td>0.000000</td>\n",
       "      <td>1.000000</td>\n",
       "      <td>0.000000</td>\n",
       "      <td>0.000000</td>\n",
       "      <td>0.000000</td>\n",
       "      <td>0.000000</td>\n",
       "      <td>0.000000</td>\n",
       "      <td>0.000000</td>\n",
       "      <td>0.000000</td>\n",
       "    </tr>\n",
       "    <tr>\n",
       "      <th>max</th>\n",
       "      <td>3.000000</td>\n",
       "      <td>10.000000</td>\n",
       "      <td>6.000000</td>\n",
       "      <td>7.000000</td>\n",
       "      <td>1.000000</td>\n",
       "      <td>25.000000</td>\n",
       "      <td>11.000000</td>\n",
       "      <td>4.000000</td>\n",
       "      <td>9.000000</td>\n",
       "      <td>17.000000</td>\n",
       "      <td>8.000000</td>\n",
       "      <td>19.000000</td>\n",
       "      <td>26.000000</td>\n",
       "      <td>7.000000</td>\n",
       "    </tr>\n",
       "  </tbody>\n",
       "</table>\n",
       "</div>"
      ],
      "text/plain": [
       "name   Button_ComparisonDisabled  Button_ComparisonEnabled  Button_DefineGoal  \\\n",
       "count                 211.000000                211.000000         211.000000   \n",
       "mean                    0.099526                  0.308057           0.265403   \n",
       "std                     0.430448                  1.048755           0.733996   \n",
       "min                     0.000000                  0.000000           0.000000   \n",
       "25%                     0.000000                  0.000000           0.000000   \n",
       "50%                     0.000000                  0.000000           0.000000   \n",
       "75%                     0.000000                  0.000000           0.000000   \n",
       "max                     3.000000                 10.000000           6.000000   \n",
       "\n",
       "name   Button_DownloadAllNotes  Button_DownloadNote  Button_EditNote  \\\n",
       "count               211.000000           211.000000       211.000000   \n",
       "mean                  0.312796             0.018957         0.369668   \n",
       "std                   0.843336             0.136699         1.975042   \n",
       "min                   0.000000             0.000000         0.000000   \n",
       "25%                   0.000000             0.000000         0.000000   \n",
       "50%                   0.000000             0.000000         0.000000   \n",
       "75%                   0.000000             0.000000         0.000000   \n",
       "max                   7.000000             1.000000        25.000000   \n",
       "\n",
       "name   Button_Effectiveness  Button_EngagementPerformance  \\\n",
       "count            211.000000                    211.000000   \n",
       "mean               0.478673                      0.156398   \n",
       "std                1.135266                      0.506335   \n",
       "min                0.000000                      0.000000   \n",
       "25%                0.000000                      0.000000   \n",
       "50%                0.000000                      0.000000   \n",
       "75%                1.000000                      0.000000   \n",
       "max               11.000000                      4.000000   \n",
       "\n",
       "name   Button_FilterTime30Days  Button_FilterTime7Days  \\\n",
       "count               211.000000              211.000000   \n",
       "mean                  0.170616                0.284360   \n",
       "std                   0.755481                1.289035   \n",
       "min                   0.000000                0.000000   \n",
       "25%                   0.000000                0.000000   \n",
       "50%                   0.000000                0.000000   \n",
       "75%                   0.000000                0.000000   \n",
       "max                   9.000000               17.000000   \n",
       "\n",
       "name   Button_FilterTimeViewAll  Button_FilterViewAll  Button_NewNote  \\\n",
       "count                211.000000            211.000000      211.000000   \n",
       "mean                   0.232227              0.246445        0.502370   \n",
       "std                    0.898732              1.409466        2.161072   \n",
       "min                    0.000000              0.000000        0.000000   \n",
       "25%                    0.000000              0.000000        0.000000   \n",
       "50%                    0.000000              0.000000        0.000000   \n",
       "75%                    0.000000              0.000000        0.000000   \n",
       "max                    8.000000             19.000000       26.000000   \n",
       "\n",
       "name   Button_SearchNote  \n",
       "count         211.000000  \n",
       "mean            0.104265  \n",
       "std             0.638846  \n",
       "min             0.000000  \n",
       "25%             0.000000  \n",
       "50%             0.000000  \n",
       "75%             0.000000  \n",
       "max             7.000000  "
      ]
     },
     "execution_count": 194,
     "metadata": {},
     "output_type": "execute_result"
    }
   ],
   "source": [
    "# General data statistics\n",
    "df_buttons.drop('All').describe()"
   ]
  },
  {
   "cell_type": "markdown",
   "metadata": {},
   "source": [
    "### Names: Graphs"
   ]
  },
  {
   "cell_type": "code",
   "execution_count": 195,
   "metadata": {},
   "outputs": [
    {
     "data": {
      "text/plain": [
       "Index(['Graph_EffectivenessActivityType', 'Graph_EffectivenessByDayWeek',\n",
       "       'Graph_EngagementByNumberActivities',\n",
       "       'Graph_EngagementByTypeActivities', 'Graph_TimeInSessions',\n",
       "       'Graph_TimeUse', 'Graph_TimeUseOnCourse'],\n",
       "      dtype='object', name='name')"
      ]
     },
     "execution_count": 195,
     "metadata": {},
     "output_type": "execute_result"
    }
   ],
   "source": [
    "# Features/Variable names\n",
    "df_graphs.columns"
   ]
  },
  {
   "cell_type": "code",
   "execution_count": 196,
   "metadata": {},
   "outputs": [
    {
     "data": {
      "text/html": [
       "<div>\n",
       "<style scoped>\n",
       "    .dataframe tbody tr th:only-of-type {\n",
       "        vertical-align: middle;\n",
       "    }\n",
       "\n",
       "    .dataframe tbody tr th {\n",
       "        vertical-align: top;\n",
       "    }\n",
       "\n",
       "    .dataframe thead th {\n",
       "        text-align: right;\n",
       "    }\n",
       "</style>\n",
       "<table border=\"1\" class=\"dataframe\">\n",
       "  <thead>\n",
       "    <tr style=\"text-align: right;\">\n",
       "      <th>name</th>\n",
       "      <th>Graph_EffectivenessActivityType</th>\n",
       "      <th>Graph_EffectivenessByDayWeek</th>\n",
       "      <th>Graph_EngagementByNumberActivities</th>\n",
       "      <th>Graph_EngagementByTypeActivities</th>\n",
       "      <th>Graph_TimeInSessions</th>\n",
       "      <th>Graph_TimeUse</th>\n",
       "      <th>Graph_TimeUseOnCourse</th>\n",
       "    </tr>\n",
       "    <tr>\n",
       "      <th>user_id</th>\n",
       "      <th></th>\n",
       "      <th></th>\n",
       "      <th></th>\n",
       "      <th></th>\n",
       "      <th></th>\n",
       "      <th></th>\n",
       "      <th></th>\n",
       "    </tr>\n",
       "  </thead>\n",
       "  <tbody>\n",
       "    <tr>\n",
       "      <th>8.0</th>\n",
       "      <td>0</td>\n",
       "      <td>0</td>\n",
       "      <td>0</td>\n",
       "      <td>0</td>\n",
       "      <td>0</td>\n",
       "      <td>0</td>\n",
       "      <td>0</td>\n",
       "    </tr>\n",
       "    <tr>\n",
       "      <th>10.0</th>\n",
       "      <td>0</td>\n",
       "      <td>0</td>\n",
       "      <td>0</td>\n",
       "      <td>0</td>\n",
       "      <td>0</td>\n",
       "      <td>0</td>\n",
       "      <td>5</td>\n",
       "    </tr>\n",
       "    <tr>\n",
       "      <th>11.0</th>\n",
       "      <td>0</td>\n",
       "      <td>0</td>\n",
       "      <td>0</td>\n",
       "      <td>0</td>\n",
       "      <td>0</td>\n",
       "      <td>0</td>\n",
       "      <td>0</td>\n",
       "    </tr>\n",
       "    <tr>\n",
       "      <th>17.0</th>\n",
       "      <td>0</td>\n",
       "      <td>0</td>\n",
       "      <td>0</td>\n",
       "      <td>0</td>\n",
       "      <td>0</td>\n",
       "      <td>0</td>\n",
       "      <td>0</td>\n",
       "    </tr>\n",
       "    <tr>\n",
       "      <th>24.0</th>\n",
       "      <td>0</td>\n",
       "      <td>0</td>\n",
       "      <td>0</td>\n",
       "      <td>28</td>\n",
       "      <td>0</td>\n",
       "      <td>0</td>\n",
       "      <td>2</td>\n",
       "    </tr>\n",
       "  </tbody>\n",
       "</table>\n",
       "</div>"
      ],
      "text/plain": [
       "name     Graph_EffectivenessActivityType  Graph_EffectivenessByDayWeek  \\\n",
       "user_id                                                                  \n",
       "8.0                                    0                             0   \n",
       "10.0                                   0                             0   \n",
       "11.0                                   0                             0   \n",
       "17.0                                   0                             0   \n",
       "24.0                                   0                             0   \n",
       "\n",
       "name     Graph_EngagementByNumberActivities  Graph_EngagementByTypeActivities  \\\n",
       "user_id                                                                         \n",
       "8.0                                       0                                 0   \n",
       "10.0                                      0                                 0   \n",
       "11.0                                      0                                 0   \n",
       "17.0                                      0                                 0   \n",
       "24.0                                      0                                28   \n",
       "\n",
       "name     Graph_TimeInSessions  Graph_TimeUse  Graph_TimeUseOnCourse  \n",
       "user_id                                                              \n",
       "8.0                         0              0                      0  \n",
       "10.0                        0              0                      5  \n",
       "11.0                        0              0                      0  \n",
       "17.0                        0              0                      0  \n",
       "24.0                        0              0                      2  "
      ]
     },
     "execution_count": 196,
     "metadata": {},
     "output_type": "execute_result"
    }
   ],
   "source": [
    "# Preview the data\n",
    "df_graphs.head(5)"
   ]
  },
  {
   "cell_type": "code",
   "execution_count": 197,
   "metadata": {},
   "outputs": [
    {
     "data": {
      "text/html": [
       "<div>\n",
       "<style scoped>\n",
       "    .dataframe tbody tr th:only-of-type {\n",
       "        vertical-align: middle;\n",
       "    }\n",
       "\n",
       "    .dataframe tbody tr th {\n",
       "        vertical-align: top;\n",
       "    }\n",
       "\n",
       "    .dataframe thead th {\n",
       "        text-align: right;\n",
       "    }\n",
       "</style>\n",
       "<table border=\"1\" class=\"dataframe\">\n",
       "  <thead>\n",
       "    <tr style=\"text-align: right;\">\n",
       "      <th>name</th>\n",
       "      <th>Graph_EffectivenessActivityType</th>\n",
       "      <th>Graph_EffectivenessByDayWeek</th>\n",
       "      <th>Graph_EngagementByNumberActivities</th>\n",
       "      <th>Graph_EngagementByTypeActivities</th>\n",
       "      <th>Graph_TimeInSessions</th>\n",
       "      <th>Graph_TimeUse</th>\n",
       "      <th>Graph_TimeUseOnCourse</th>\n",
       "    </tr>\n",
       "  </thead>\n",
       "  <tbody>\n",
       "    <tr>\n",
       "      <th>count</th>\n",
       "      <td>211.000000</td>\n",
       "      <td>211.000000</td>\n",
       "      <td>211.000000</td>\n",
       "      <td>211.00000</td>\n",
       "      <td>211.000000</td>\n",
       "      <td>211.000000</td>\n",
       "      <td>211.000000</td>\n",
       "    </tr>\n",
       "    <tr>\n",
       "      <th>mean</th>\n",
       "      <td>0.161137</td>\n",
       "      <td>0.018957</td>\n",
       "      <td>0.056872</td>\n",
       "      <td>4.78673</td>\n",
       "      <td>0.009479</td>\n",
       "      <td>0.009479</td>\n",
       "      <td>1.180095</td>\n",
       "    </tr>\n",
       "    <tr>\n",
       "      <th>std</th>\n",
       "      <td>1.654030</td>\n",
       "      <td>0.217389</td>\n",
       "      <td>0.557706</td>\n",
       "      <td>13.91392</td>\n",
       "      <td>0.137686</td>\n",
       "      <td>0.137686</td>\n",
       "      <td>3.409480</td>\n",
       "    </tr>\n",
       "    <tr>\n",
       "      <th>min</th>\n",
       "      <td>0.000000</td>\n",
       "      <td>0.000000</td>\n",
       "      <td>0.000000</td>\n",
       "      <td>0.00000</td>\n",
       "      <td>0.000000</td>\n",
       "      <td>0.000000</td>\n",
       "      <td>0.000000</td>\n",
       "    </tr>\n",
       "    <tr>\n",
       "      <th>25%</th>\n",
       "      <td>0.000000</td>\n",
       "      <td>0.000000</td>\n",
       "      <td>0.000000</td>\n",
       "      <td>0.00000</td>\n",
       "      <td>0.000000</td>\n",
       "      <td>0.000000</td>\n",
       "      <td>0.000000</td>\n",
       "    </tr>\n",
       "    <tr>\n",
       "      <th>50%</th>\n",
       "      <td>0.000000</td>\n",
       "      <td>0.000000</td>\n",
       "      <td>0.000000</td>\n",
       "      <td>0.00000</td>\n",
       "      <td>0.000000</td>\n",
       "      <td>0.000000</td>\n",
       "      <td>0.000000</td>\n",
       "    </tr>\n",
       "    <tr>\n",
       "      <th>75%</th>\n",
       "      <td>0.000000</td>\n",
       "      <td>0.000000</td>\n",
       "      <td>0.000000</td>\n",
       "      <td>2.00000</td>\n",
       "      <td>0.000000</td>\n",
       "      <td>0.000000</td>\n",
       "      <td>0.000000</td>\n",
       "    </tr>\n",
       "    <tr>\n",
       "      <th>max</th>\n",
       "      <td>18.000000</td>\n",
       "      <td>3.000000</td>\n",
       "      <td>7.000000</td>\n",
       "      <td>103.00000</td>\n",
       "      <td>2.000000</td>\n",
       "      <td>2.000000</td>\n",
       "      <td>23.000000</td>\n",
       "    </tr>\n",
       "  </tbody>\n",
       "</table>\n",
       "</div>"
      ],
      "text/plain": [
       "name   Graph_EffectivenessActivityType  Graph_EffectivenessByDayWeek  \\\n",
       "count                       211.000000                    211.000000   \n",
       "mean                          0.161137                      0.018957   \n",
       "std                           1.654030                      0.217389   \n",
       "min                           0.000000                      0.000000   \n",
       "25%                           0.000000                      0.000000   \n",
       "50%                           0.000000                      0.000000   \n",
       "75%                           0.000000                      0.000000   \n",
       "max                          18.000000                      3.000000   \n",
       "\n",
       "name   Graph_EngagementByNumberActivities  Graph_EngagementByTypeActivities  \\\n",
       "count                          211.000000                         211.00000   \n",
       "mean                             0.056872                           4.78673   \n",
       "std                              0.557706                          13.91392   \n",
       "min                              0.000000                           0.00000   \n",
       "25%                              0.000000                           0.00000   \n",
       "50%                              0.000000                           0.00000   \n",
       "75%                              0.000000                           2.00000   \n",
       "max                              7.000000                         103.00000   \n",
       "\n",
       "name   Graph_TimeInSessions  Graph_TimeUse  Graph_TimeUseOnCourse  \n",
       "count            211.000000     211.000000             211.000000  \n",
       "mean               0.009479       0.009479               1.180095  \n",
       "std                0.137686       0.137686               3.409480  \n",
       "min                0.000000       0.000000               0.000000  \n",
       "25%                0.000000       0.000000               0.000000  \n",
       "50%                0.000000       0.000000               0.000000  \n",
       "75%                0.000000       0.000000               0.000000  \n",
       "max                2.000000       2.000000              23.000000  "
      ]
     },
     "execution_count": 197,
     "metadata": {},
     "output_type": "execute_result"
    }
   ],
   "source": [
    "# General data statistics\n",
    "df_graphs.drop('All').describe()"
   ]
  },
  {
   "cell_type": "markdown",
   "metadata": {},
   "source": [
    "### Names: Menu"
   ]
  },
  {
   "cell_type": "code",
   "execution_count": 198,
   "metadata": {},
   "outputs": [
    {
     "data": {
      "text/plain": [
       "Index(['Menu_ChooseCourse', 'Menu_GoalSetting', 'Menu_ViewNotes'], dtype='object', name='name')"
      ]
     },
     "execution_count": 198,
     "metadata": {},
     "output_type": "execute_result"
    }
   ],
   "source": [
    "# Features/Variable names\n",
    "df_menus.columns"
   ]
  },
  {
   "cell_type": "code",
   "execution_count": 199,
   "metadata": {},
   "outputs": [
    {
     "data": {
      "text/html": [
       "<div>\n",
       "<style scoped>\n",
       "    .dataframe tbody tr th:only-of-type {\n",
       "        vertical-align: middle;\n",
       "    }\n",
       "\n",
       "    .dataframe tbody tr th {\n",
       "        vertical-align: top;\n",
       "    }\n",
       "\n",
       "    .dataframe thead th {\n",
       "        text-align: right;\n",
       "    }\n",
       "</style>\n",
       "<table border=\"1\" class=\"dataframe\">\n",
       "  <thead>\n",
       "    <tr style=\"text-align: right;\">\n",
       "      <th>name</th>\n",
       "      <th>Menu_ChooseCourse</th>\n",
       "      <th>Menu_GoalSetting</th>\n",
       "      <th>Menu_ViewNotes</th>\n",
       "    </tr>\n",
       "    <tr>\n",
       "      <th>user_id</th>\n",
       "      <th></th>\n",
       "      <th></th>\n",
       "      <th></th>\n",
       "    </tr>\n",
       "  </thead>\n",
       "  <tbody>\n",
       "    <tr>\n",
       "      <th>8.0</th>\n",
       "      <td>5</td>\n",
       "      <td>2</td>\n",
       "      <td>2</td>\n",
       "    </tr>\n",
       "    <tr>\n",
       "      <th>10.0</th>\n",
       "      <td>3</td>\n",
       "      <td>1</td>\n",
       "      <td>1</td>\n",
       "    </tr>\n",
       "    <tr>\n",
       "      <th>11.0</th>\n",
       "      <td>2</td>\n",
       "      <td>0</td>\n",
       "      <td>3</td>\n",
       "    </tr>\n",
       "    <tr>\n",
       "      <th>17.0</th>\n",
       "      <td>0</td>\n",
       "      <td>1</td>\n",
       "      <td>1</td>\n",
       "    </tr>\n",
       "    <tr>\n",
       "      <th>24.0</th>\n",
       "      <td>23</td>\n",
       "      <td>5</td>\n",
       "      <td>8</td>\n",
       "    </tr>\n",
       "  </tbody>\n",
       "</table>\n",
       "</div>"
      ],
      "text/plain": [
       "name     Menu_ChooseCourse  Menu_GoalSetting  Menu_ViewNotes\n",
       "user_id                                                     \n",
       "8.0                      5                 2               2\n",
       "10.0                     3                 1               1\n",
       "11.0                     2                 0               3\n",
       "17.0                     0                 1               1\n",
       "24.0                    23                 5               8"
      ]
     },
     "execution_count": 199,
     "metadata": {},
     "output_type": "execute_result"
    }
   ],
   "source": [
    "# Preview the data\n",
    "df_menus.head(5)"
   ]
  },
  {
   "cell_type": "code",
   "execution_count": 200,
   "metadata": {},
   "outputs": [
    {
     "data": {
      "text/html": [
       "<div>\n",
       "<style scoped>\n",
       "    .dataframe tbody tr th:only-of-type {\n",
       "        vertical-align: middle;\n",
       "    }\n",
       "\n",
       "    .dataframe tbody tr th {\n",
       "        vertical-align: top;\n",
       "    }\n",
       "\n",
       "    .dataframe thead th {\n",
       "        text-align: right;\n",
       "    }\n",
       "</style>\n",
       "<table border=\"1\" class=\"dataframe\">\n",
       "  <thead>\n",
       "    <tr style=\"text-align: right;\">\n",
       "      <th>name</th>\n",
       "      <th>Menu_ChooseCourse</th>\n",
       "      <th>Menu_GoalSetting</th>\n",
       "      <th>Menu_ViewNotes</th>\n",
       "    </tr>\n",
       "  </thead>\n",
       "  <tbody>\n",
       "    <tr>\n",
       "      <th>count</th>\n",
       "      <td>211.000000</td>\n",
       "      <td>211.000000</td>\n",
       "      <td>211.000000</td>\n",
       "    </tr>\n",
       "    <tr>\n",
       "      <th>mean</th>\n",
       "      <td>3.161137</td>\n",
       "      <td>1.497630</td>\n",
       "      <td>1.981043</td>\n",
       "    </tr>\n",
       "    <tr>\n",
       "      <th>std</th>\n",
       "      <td>4.651943</td>\n",
       "      <td>1.487646</td>\n",
       "      <td>2.368367</td>\n",
       "    </tr>\n",
       "    <tr>\n",
       "      <th>min</th>\n",
       "      <td>0.000000</td>\n",
       "      <td>0.000000</td>\n",
       "      <td>0.000000</td>\n",
       "    </tr>\n",
       "    <tr>\n",
       "      <th>25%</th>\n",
       "      <td>0.000000</td>\n",
       "      <td>0.000000</td>\n",
       "      <td>1.000000</td>\n",
       "    </tr>\n",
       "    <tr>\n",
       "      <th>50%</th>\n",
       "      <td>2.000000</td>\n",
       "      <td>1.000000</td>\n",
       "      <td>1.000000</td>\n",
       "    </tr>\n",
       "    <tr>\n",
       "      <th>75%</th>\n",
       "      <td>4.000000</td>\n",
       "      <td>2.000000</td>\n",
       "      <td>2.500000</td>\n",
       "    </tr>\n",
       "    <tr>\n",
       "      <th>max</th>\n",
       "      <td>36.000000</td>\n",
       "      <td>8.000000</td>\n",
       "      <td>14.000000</td>\n",
       "    </tr>\n",
       "  </tbody>\n",
       "</table>\n",
       "</div>"
      ],
      "text/plain": [
       "name   Menu_ChooseCourse  Menu_GoalSetting  Menu_ViewNotes\n",
       "count         211.000000        211.000000      211.000000\n",
       "mean            3.161137          1.497630        1.981043\n",
       "std             4.651943          1.487646        2.368367\n",
       "min             0.000000          0.000000        0.000000\n",
       "25%             0.000000          0.000000        1.000000\n",
       "50%             2.000000          1.000000        1.000000\n",
       "75%             4.000000          2.000000        2.500000\n",
       "max            36.000000          8.000000       14.000000"
      ]
     },
     "execution_count": 200,
     "metadata": {},
     "output_type": "execute_result"
    }
   ],
   "source": [
    "# General data statistics\n",
    "df_menus.drop('All').describe()"
   ]
  },
  {
   "cell_type": "markdown",
   "metadata": {},
   "source": [
    "## Data Analysis and Visualizations"
   ]
  },
  {
   "cell_type": "markdown",
   "metadata": {},
   "source": [
    "### Users with Interactions"
   ]
  },
  {
   "cell_type": "code",
   "execution_count": 201,
   "metadata": {},
   "outputs": [
    {
     "data": {
      "image/png": "[encoded data removed]",
      "text/plain": [
       "<Figure size 576x432 with 1 Axes>"
      ]
     },
     "metadata": {},
     "output_type": "display_data"
    }
   ],
   "source": [
    "ax = pd.Series({ 'With Interactions': len(df_interactions), 'Without Interactions': len(df_users) - len(df_interactions)}).plot(kind='bar', figsize=(8,6), title=\"Users with Interactions\")\n",
    "ax.set_ylabel(\"Number of Users\")\n",
    "\n",
    "# Adding labels to the bars\n",
    "for p in ax.patches:\n",
    "    ax.annotate(str(p.get_height()), (p.get_x() * 1.005, p.get_height() * 1.005))"
   ]
  },
  {
   "cell_type": "markdown",
   "metadata": {},
   "source": [
    "### Interactions Frequencies"
   ]
  },
  {
   "cell_type": "code",
   "execution_count": 202,
   "metadata": {},
   "outputs": [
    {
     "data": {
      "text/plain": [
       "[]"
      ]
     },
     "execution_count": 202,
     "metadata": {},
     "output_type": "execute_result"
    },
    {
     "data": {
      "image/png": "[encoded data removed]",
      "text/plain": [
       "<Figure size 2160x576 with 1 Axes>"
      ]
     },
     "metadata": {},
     "output_type": "display_data"
    }
   ],
   "source": [
    "ax = df_interactions.plot(kind='bar', figsize=(30,8), title=\"Interactions by Users\")\n",
    "ax.set_ylabel(\"Number of Interactions\")\n",
    "ax.set_xlabel(\"Users\")\n",
    "\n",
    "ax.set_xticklabels([])"
   ]
  },
  {
   "cell_type": "markdown",
   "metadata": {},
   "source": [
    "### Interactions by Type"
   ]
  },
  {
   "cell_type": "code",
   "execution_count": 203,
   "metadata": {},
   "outputs": [
    {
     "data": {
      "image/png": "[encoded data removed]",
      "text/plain": [
       "<Figure size 864x720 with 1 Axes>"
      ]
     },
     "metadata": {},
     "output_type": "display_data"
    }
   ],
   "source": [
    "ax = df_types.loc['All'].sort_values(ascending=False).plot(kind='bar', figsize=(12,10), title=\"Number of Interactions by Type\")\n",
    "ax.set_ylabel(\"Number of Interactions\")\n",
    "ax.set_xlabel(\"Interaction Type\")\n",
    "\n",
    "# Adding labels to the bars\n",
    "for p in ax.patches:\n",
    "    ax.annotate(str(p.get_height()), (p.get_x() * 1.005, p.get_height() * 1.005))"
   ]
  },
  {
   "cell_type": "markdown",
   "metadata": {},
   "source": [
    "### Menu Interactions Frequencies"
   ]
  },
  {
   "cell_type": "code",
   "execution_count": 204,
   "metadata": {},
   "outputs": [
    {
     "data": {
      "image/png": "[encoded data removed]",
      "text/plain": [
       "<Figure size 864x720 with 1 Axes>"
      ]
     },
     "metadata": {},
     "output_type": "display_data"
    }
   ],
   "source": [
    "ax = df_types.drop('All').Menu.value_counts().plot(kind='bar', figsize=(12,10), title=\"Menu Interactions Frequencies\")\n",
    "ax.set_ylabel(\"Number of Users\")\n",
    "ax.set_xlabel(\"Number of Menu Interactions\")\n",
    "\n",
    "# Adding labels to the bars\n",
    "for p in ax.patches:\n",
    "    ax.annotate(str(p.get_height()), (p.get_x() * 1.005, p.get_height() * 1.005))"
   ]
  },
  {
   "cell_type": "markdown",
   "metadata": {},
   "source": [
    "### Graph Interactions Frequencies"
   ]
  },
  {
   "cell_type": "code",
   "execution_count": 205,
   "metadata": {},
   "outputs": [
    {
     "data": {
      "image/png": "[encoded data removed]",
      "text/plain": [
       "<Figure size 864x720 with 1 Axes>"
      ]
     },
     "metadata": {},
     "output_type": "display_data"
    }
   ],
   "source": [
    "ax = df_types.drop('All').Graph.value_counts().plot(kind='bar', figsize=(12,10), title=\"Graph Interactions Frequencies\")\n",
    "ax.set_ylabel(\"Number of Users\")\n",
    "ax.set_xlabel(\"Number of Graph Interactions\")\n",
    "\n",
    "# Adding labels to the bars\n",
    "for p in ax.patches:\n",
    "    ax.annotate(str(p.get_height()), (p.get_x() * 1.005, p.get_height() * 1.005))"
   ]
  },
  {
   "cell_type": "code",
   "execution_count": 206,
   "metadata": {},
   "outputs": [
    {
     "data": {
      "image/png": "[encoded data removed]",
      "text/plain": [
       "<Figure size 864x720 with 1 Axes>"
      ]
     },
     "metadata": {},
     "output_type": "display_data"
    }
   ],
   "source": [
    "ax = df_types[df_types.Graph > 0].drop('All').Graph.value_counts().plot(kind='bar', figsize=(12,10), title=\"Graph Interactions Frequencies without 0 interactions\")\n",
    "ax.set_ylabel(\"Number of Users\")\n",
    "ax.set_xlabel(\"Number of Graph Interactions\")\n",
    "\n",
    "# Adding labels to the bars\n",
    "for p in ax.patches:\n",
    "    ax.annotate(str(p.get_height()), (p.get_x() * 1.005, p.get_height() * 1.005))"
   ]
  },
  {
   "cell_type": "markdown",
   "metadata": {},
   "source": [
    "### Button Interactions Frequencies"
   ]
  },
  {
   "cell_type": "code",
   "execution_count": 207,
   "metadata": {},
   "outputs": [
    {
     "data": {
      "image/png": "[encoded data removed]",
      "text/plain": [
       "<Figure size 864x720 with 1 Axes>"
      ]
     },
     "metadata": {},
     "output_type": "display_data"
    }
   ],
   "source": [
    "ax = df_types.drop('All').Button.value_counts().plot(kind='bar', figsize=(12,10), title=\"Button Interactions Frequencies\")\n",
    "ax.set_ylabel(\"Number of Users\")\n",
    "ax.set_xlabel(\"Number of Button Interactions\")\n",
    "\n",
    "# Adding labels to the bars\n",
    "for p in ax.patches:\n",
    "    ax.annotate(str(p.get_height()), (p.get_x() * 1.005, p.get_height() * 1.005))"
   ]
  },
  {
   "cell_type": "code",
   "execution_count": 208,
   "metadata": {},
   "outputs": [
    {
     "data": {
      "image/png": "[encoded data removed]",
      "text/plain": [
       "<Figure size 864x720 with 1 Axes>"
      ]
     },
     "metadata": {},
     "output_type": "display_data"
    }
   ],
   "source": [
    "ax = df_types[df_types.Button > 0].drop('All').Button.value_counts().plot(kind='bar', figsize=(12,10), title=\"Button Interactions Frequencies without 0 interactions\")\n",
    "ax.set_ylabel(\"Number of Users\")\n",
    "ax.set_xlabel(\"Button Type\")\n",
    "\n",
    "# Adding labels to the bars\n",
    "for p in ax.patches:\n",
    "    ax.annotate(str(p.get_height()), (p.get_x() * 1.005, p.get_height() * 1.005))"
   ]
  },
  {
   "cell_type": "markdown",
   "metadata": {},
   "source": [
    "### Interactions by Button Type"
   ]
  },
  {
   "cell_type": "code",
   "execution_count": 209,
   "metadata": {},
   "outputs": [
    {
     "data": {
      "image/png": "[encoded data removed]",
      "text/plain": [
       "<Figure size 864x720 with 1 Axes>"
      ]
     },
     "metadata": {},
     "output_type": "display_data"
    }
   ],
   "source": [
    "ax = df_buttons.loc['All'].sort_values(ascending=False).plot(kind='bar', figsize=(12,10), title=\"Total Interactions by Button Type\")\n",
    "ax.set_ylabel(\"Number of Interactions\")\n",
    "ax.set_xlabel(\"Button Type\")\n",
    "\n",
    "# Adding labels to the bars\n",
    "for p in ax.patches:\n",
    "    ax.annotate(str(p.get_height()), (p.get_x() * 1.005, p.get_height() * 1.005))"
   ]
  },
  {
   "cell_type": "code",
   "execution_count": 210,
   "metadata": {},
   "outputs": [
    {
     "data": {
      "image/png": "[encoded data removed]",
      "text/plain": [
       "<Figure size 864x720 with 1 Axes>"
      ]
     },
     "metadata": {},
     "output_type": "display_data"
    }
   ],
   "source": [
    "ax = df_buttons.drop('All').mean().sort_values(ascending=False).plot(kind='bar', figsize=(12,10), title=\"Mean Interactions by Button Type\")\n",
    "ax.set_ylabel(\"Number of Interactions\")\n",
    "ax.set_xlabel(\"Button Type\")\n",
    "\n",
    "# Adding labels to the bars\n",
    "for p in ax.patches:\n",
    "    ax.annotate(str(round(p.get_height(), 2)), (p.get_x() * 1.005, p.get_height() * 1.005))"
   ]
  },
  {
   "cell_type": "markdown",
   "metadata": {},
   "source": [
    "### Interactions by Graph Type"
   ]
  },
  {
   "cell_type": "code",
   "execution_count": 211,
   "metadata": {},
   "outputs": [
    {
     "data": {
      "image/png": "[encoded data removed]",
      "text/plain": [
       "<Figure size 864x720 with 1 Axes>"
      ]
     },
     "metadata": {},
     "output_type": "display_data"
    }
   ],
   "source": [
    "ax = df_graphs.loc['All'].sort_values(ascending=False).plot(kind='bar', figsize=(12,10), title=\"Total Interactions by Graph Type\")\n",
    "ax.set_ylabel(\"Number of Interactions\")\n",
    "ax.set_xlabel(\"Graph Type\")\n",
    "\n",
    "# Adding labels to the bars\n",
    "for p in ax.patches:\n",
    "    ax.annotate(str(p.get_height()), (p.get_x() * 1.005, p.get_height() * 1.005))"
   ]
  },
  {
   "cell_type": "code",
   "execution_count": 216,
   "metadata": {},
   "outputs": [
    {
     "data": {
      "image/png": "[encoded data removed]",
      "text/plain": [
       "<Figure size 864x720 with 1 Axes>"
      ]
     },
     "metadata": {},
     "output_type": "display_data"
    }
   ],
   "source": [
    "ax = df_graphs.drop('All').mean().sort_values(ascending=False).plot(kind='bar', figsize=(12,10), title=\"Mean Interactions by Graph Type\")\n",
    "ax.set_ylabel(\"Number of Interactions\")\n",
    "ax.set_xlabel(\"Graph Type\")\n",
    "\n",
    "# Adding labels to the bars\n",
    "for p in ax.patches:\n",
    "    ax.annotate(str(round(p.get_height(), 2)), (p.get_x() * 1.005, p.get_height() * 1.005))"
   ]
  },
  {
   "cell_type": "markdown",
   "metadata": {},
   "source": [
    "### Interactions by Menu Type"
   ]
  },
  {
   "cell_type": "code",
   "execution_count": 213,
   "metadata": {},
   "outputs": [
    {
     "data": {
      "image/png": "[encoded data removed]",
      "text/plain": [
       "<Figure size 864x720 with 1 Axes>"
      ]
     },
     "metadata": {},
     "output_type": "display_data"
    }
   ],
   "source": [
    "ax = df_menus.loc['All'].sort_values(ascending=False).plot(kind='bar', figsize=(12,10), title=\"Total Interactions by Menu Type\")\n",
    "ax.set_ylabel(\"Number of Interactions\")\n",
    "ax.set_xlabel(\"Menu Type\")\n",
    "\n",
    "# Adding labels to the bars\n",
    "for p in ax.patches:\n",
    "    ax.annotate(str(p.get_height()), (p.get_x() * 1.005, p.get_height() * 1.005))"
   ]
  },
  {
   "cell_type": "code",
   "execution_count": 217,
   "metadata": {},
   "outputs": [
    {
     "data": {
      "image/png": "[encoded data removed]",
      "text/plain": [
       "<Figure size 864x720 with 1 Axes>"
      ]
     },
     "metadata": {},
     "output_type": "display_data"
    }
   ],
   "source": [
    "ax = df_menus.drop('All').mean().sort_values(ascending=False).plot(kind='bar', figsize=(12,10), title=\"Mean Interactions by Menu Type\")\n",
    "ax.set_ylabel(\"Number of Interactions\")\n",
    "ax.set_xlabel(\"Menu Type\")\n",
    "\n",
    "# Adding labels to the bars\n",
    "for p in ax.patches:\n",
    "    ax.annotate(str(round(p.get_height(), 2)), (p.get_x() * 1.005, p.get_height() * 1.005))"
   ]
  },
  {
   "cell_type": "markdown",
   "metadata": {},
   "source": [
    "## Export Data"
   ]
  },
  {
   "cell_type": "code",
   "execution_count": 215,
   "metadata": {},
   "outputs": [],
   "source": [
    "df.to_csv('../data/NMP/cooked_data_coursera_users/events.csv', index_label='id')\n",
    "df_interactions.to_csv('../data/NMP/cooked_data_coursera_users/interactions.csv', index_label='user_id')\n",
    "df_names.to_csv('../data/NMP/cooked_data_coursera_users/interactions_names.csv', index_label='user_id')\n",
    "df_types.to_csv('../data/NMP/cooked_data_coursera_users/interactions_types.csv', index_label='user_id')\n",
    "df_buttons.drop('All').to_csv('../data/NMP/cooked_data_coursera_users/buttons_by_users.csv', index_label='user_id')\n",
    "df_graphs.drop('All').to_csv('../data/NMP/cooked_data_coursera_users/graphs_by_users.csv', index_label='user_id')\n",
    "df_menus.drop('All').to_csv('../data/NMP/cooked_data_coursera_users/menus_by_users.csv', index_label='user_id')"
   ]
  },
  {
   "cell_type": "code",
   "execution_count": null,
   "metadata": {},
   "outputs": [],
   "source": []
  }
 ],
 "metadata": {
  "kernelspec": {
   "display_name": "Python 3",
   "language": "python",
   "name": "python3"
  },
  "language_info": {
   "codemirror_mode": {
    "name": "ipython",
    "version": 3
   },
   "file_extension": ".py",
   "mimetype": "text/x-python",
   "name": "python",
   "nbconvert_exporter": "python",
   "pygments_lexer": "ipython3",
   "version": "3.7.1"
  }
 },
 "nbformat": 4,
 "nbformat_minor": 2
}
