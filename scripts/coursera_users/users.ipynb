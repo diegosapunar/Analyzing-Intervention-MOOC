{
 "cells": [
  {
   "cell_type": "markdown",
   "metadata": {},
   "source": [
    "# Coursera Users"
   ]
  },
  {
   "cell_type": "markdown",
   "metadata": {},
   "source": [
    "## Import Packages"
   ]
  },
  {
   "cell_type": "code",
   "execution_count": 2,
   "metadata": {},
   "outputs": [],
   "source": [
    "# data analysis and wrangling\n",
    "import pandas as pd\n",
    "import numpy as np\n",
    "\n",
    "# visualization\n",
    "%matplotlib inline\n",
    "import matplotlib.pyplot as plt"
   ]
  },
  {
   "cell_type": "markdown",
   "metadata": {},
   "source": [
    "## Load Data"
   ]
  },
  {
   "cell_type": "code",
   "execution_count": 4,
   "metadata": {},
   "outputs": [],
   "source": [
    "df = pd.read_csv('../data/NMP/users/users_course.csv', index_col='user_id')"
   ]
  },
  {
   "cell_type": "markdown",
   "metadata": {},
   "source": [
    "## Data Cleaning and Preparation"
   ]
  },
  {
   "cell_type": "code",
   "execution_count": 5,
   "metadata": {},
   "outputs": [],
   "source": [
    "# Change courses with typos\n",
    "df.loc[df['short_name']  == 'gestionempresarialpyme', 'short_name'] = 'gestion-empresarial-pyme'\n",
    "df.loc[df['short_name']  == 'aulaconstructivista', 'short_name'] = 'aula-constructivista'"
   ]
  },
  {
   "cell_type": "code",
   "execution_count": 6,
   "metadata": {},
   "outputs": [],
   "source": [
    "# Change feature gender with typos\n",
    "df.loc[df['gender']  == 'male', 'gender'] = 'Male'\n",
    "df.loc[df['gender']  == 'female', 'gender'] = 'Female'"
   ]
  },
  {
   "cell_type": "code",
   "execution_count": 7,
   "metadata": {},
   "outputs": [],
   "source": [
    "# Creating Categories\n",
    "df['gender'] = df['gender'].astype('category')\n",
    "df['level_education'] = df['level_education'].astype('category')\n",
    "df['locale'] = df['locale'].astype('category')\n",
    "df['country'] = df['country'].astype('category')\n",
    "\n",
    "# We create categories for the courses\n",
    "df['short_name'] = df['short_name'].astype('category')\n",
    "\n",
    "# Adding Categories Necesaries\n",
    "df['level_education'] = df['level_education'].cat.add_categories(['Not Mentioned'])\n"
   ]
  },
  {
   "cell_type": "code",
   "execution_count": 8,
   "metadata": {},
   "outputs": [],
   "source": [
    "# Deleting Repeated Users\n",
    "df = df.drop_duplicates(keep='last')"
   ]
  },
  {
   "cell_type": "code",
   "execution_count": 9,
   "metadata": {},
   "outputs": [],
   "source": [
    "# We drop the columns that are not necessary for the analysis\n",
    "df = df.drop(columns=['agreement_accepted', 'start', 'created_at'])\n",
    "\n",
    "# Filling NaN Values in level_education, and coursera\n",
    "df = df.fillna({'level_education': 'Not Mentioned', 'lms_user_id': 0})\n",
    "\n",
    "# Create new Data Frame, with only the users with lms_user_id\n",
    "df = df[df.lms_user_id != 0]"
   ]
  },
  {
   "cell_type": "markdown",
   "metadata": {},
   "source": [
    "## EDA"
   ]
  },
  {
   "cell_type": "code",
   "execution_count": 10,
   "metadata": {},
   "outputs": [
    {
     "data": {
      "text/html": [
       "<div>\n",
       "<style scoped>\n",
       "    .dataframe tbody tr th:only-of-type {\n",
       "        vertical-align: middle;\n",
       "    }\n",
       "\n",
       "    .dataframe tbody tr th {\n",
       "        vertical-align: top;\n",
       "    }\n",
       "\n",
       "    .dataframe thead th {\n",
       "        text-align: right;\n",
       "    }\n",
       "</style>\n",
       "<table border=\"1\" class=\"dataframe\">\n",
       "  <thead>\n",
       "    <tr style=\"text-align: right;\">\n",
       "      <th></th>\n",
       "      <th>lms_user_id</th>\n",
       "      <th>email</th>\n",
       "      <th>gender</th>\n",
       "      <th>level_education</th>\n",
       "      <th>country</th>\n",
       "      <th>locale</th>\n",
       "      <th>short_name</th>\n",
       "    </tr>\n",
       "  </thead>\n",
       "  <tbody>\n",
       "    <tr>\n",
       "      <th>count</th>\n",
       "      <td>369</td>\n",
       "      <td>369</td>\n",
       "      <td>369</td>\n",
       "      <td>369</td>\n",
       "      <td>369</td>\n",
       "      <td>369</td>\n",
       "      <td>369</td>\n",
       "    </tr>\n",
       "    <tr>\n",
       "      <th>unique</th>\n",
       "      <td>320</td>\n",
       "      <td>321</td>\n",
       "      <td>2</td>\n",
       "      <td>6</td>\n",
       "      <td>21</td>\n",
       "      <td>2</td>\n",
       "      <td>10</td>\n",
       "    </tr>\n",
       "    <tr>\n",
       "      <th>top</th>\n",
       "      <td>b2a2eb82258ee3bbe1688aab9791a2ebfe9c5258</td>\n",
       "      <td>maxvalenzuela34@gmail.com</td>\n",
       "      <td>Male</td>\n",
       "      <td>bachelor</td>\n",
       "      <td>CL</td>\n",
       "      <td>en</td>\n",
       "      <td>gestion-empresarial-pyme</td>\n",
       "    </tr>\n",
       "    <tr>\n",
       "      <th>freq</th>\n",
       "      <td>4</td>\n",
       "      <td>4</td>\n",
       "      <td>236</td>\n",
       "      <td>190</td>\n",
       "      <td>194</td>\n",
       "      <td>199</td>\n",
       "      <td>106</td>\n",
       "    </tr>\n",
       "  </tbody>\n",
       "</table>\n",
       "</div>"
      ],
      "text/plain": [
       "                                     lms_user_id                      email  \\\n",
       "count                                        369                        369   \n",
       "unique                                       320                        321   \n",
       "top     b2a2eb82258ee3bbe1688aab9791a2ebfe9c5258  maxvalenzuela34@gmail.com   \n",
       "freq                                           4                          4   \n",
       "\n",
       "       gender level_education country locale                short_name  \n",
       "count     369             369     369    369                       369  \n",
       "unique      2               6      21      2                        10  \n",
       "top      Male        bachelor      CL     en  gestion-empresarial-pyme  \n",
       "freq      236             190     194    199                       106  "
      ]
     },
     "execution_count": 10,
     "metadata": {},
     "output_type": "execute_result"
    }
   ],
   "source": [
    "df.describe()"
   ]
  },
  {
   "cell_type": "code",
   "execution_count": 19,
   "metadata": {},
   "outputs": [
    {
     "data": {
      "text/plain": [
       "Index(['lms_user_id', 'email', 'gender', 'level_education', 'country',\n",
       "       'locale', 'short_name'],\n",
       "      dtype='object')"
      ]
     },
     "execution_count": 19,
     "metadata": {},
     "output_type": "execute_result"
    }
   ],
   "source": [
    "df.columns"
   ]
  },
  {
   "cell_type": "code",
   "execution_count": 12,
   "metadata": {},
   "outputs": [
    {
     "data": {
      "text/html": [
       "<div>\n",
       "<style scoped>\n",
       "    .dataframe tbody tr th:only-of-type {\n",
       "        vertical-align: middle;\n",
       "    }\n",
       "\n",
       "    .dataframe tbody tr th {\n",
       "        vertical-align: top;\n",
       "    }\n",
       "\n",
       "    .dataframe thead th {\n",
       "        text-align: right;\n",
       "    }\n",
       "</style>\n",
       "<table border=\"1\" class=\"dataframe\">\n",
       "  <thead>\n",
       "    <tr style=\"text-align: right;\">\n",
       "      <th></th>\n",
       "      <th>lms_user_id</th>\n",
       "      <th>email</th>\n",
       "      <th>gender</th>\n",
       "      <th>level_education</th>\n",
       "      <th>country</th>\n",
       "      <th>locale</th>\n",
       "      <th>short_name</th>\n",
       "    </tr>\n",
       "    <tr>\n",
       "      <th>user_id</th>\n",
       "      <th></th>\n",
       "      <th></th>\n",
       "      <th></th>\n",
       "      <th></th>\n",
       "      <th></th>\n",
       "      <th></th>\n",
       "      <th></th>\n",
       "    </tr>\n",
       "  </thead>\n",
       "  <tbody>\n",
       "    <tr>\n",
       "      <th>4</th>\n",
       "      <td>dcaa4951beaa883d4f4632128c3806cc7b14e8a0</td>\n",
       "      <td>jmiguelangelsc@gmail.com</td>\n",
       "      <td>Male</td>\n",
       "      <td>master</td>\n",
       "      <td>MX</td>\n",
       "      <td>en</td>\n",
       "      <td>gestion-organizaciones-efectivas</td>\n",
       "    </tr>\n",
       "    <tr>\n",
       "      <th>4</th>\n",
       "      <td>dcaa4951beaa883d4f4632128c3806cc7b14e8a0</td>\n",
       "      <td>jmiguelangelsc@gmail.com</td>\n",
       "      <td>Male</td>\n",
       "      <td>master</td>\n",
       "      <td>MX</td>\n",
       "      <td>en</td>\n",
       "      <td>gestion-organizaciones-efectivas</td>\n",
       "    </tr>\n",
       "    <tr>\n",
       "      <th>8</th>\n",
       "      <td>92f3ebe50c73bf7dd92fd84145aa3384f3efacd0</td>\n",
       "      <td>esilvajim@gmail.com</td>\n",
       "      <td>Male</td>\n",
       "      <td>bachelor</td>\n",
       "      <td>CL</td>\n",
       "      <td>es</td>\n",
       "      <td>gestion-organizaciones-efectivas</td>\n",
       "    </tr>\n",
       "    <tr>\n",
       "      <th>10</th>\n",
       "      <td>fcf8db9c443110c0b544c47cee399cd41f204bd6</td>\n",
       "      <td>fecambra92@gmail.com</td>\n",
       "      <td>Male</td>\n",
       "      <td>master</td>\n",
       "      <td>MX</td>\n",
       "      <td>es</td>\n",
       "      <td>gestion-organizaciones-efectivas</td>\n",
       "    </tr>\n",
       "    <tr>\n",
       "      <th>11</th>\n",
       "      <td>b99c4fd3f906d7ce60f2dfee285574544b4b714e</td>\n",
       "      <td>cjavila@uc.cl</td>\n",
       "      <td>Male</td>\n",
       "      <td>bachelor</td>\n",
       "      <td>CL</td>\n",
       "      <td>es</td>\n",
       "      <td>gestion-organizaciones-efectivas</td>\n",
       "    </tr>\n",
       "  </tbody>\n",
       "</table>\n",
       "</div>"
      ],
      "text/plain": [
       "                                      lms_user_id                     email  \\\n",
       "user_id                                                                       \n",
       "4        dcaa4951beaa883d4f4632128c3806cc7b14e8a0  jmiguelangelsc@gmail.com   \n",
       "4        dcaa4951beaa883d4f4632128c3806cc7b14e8a0  jmiguelangelsc@gmail.com   \n",
       "8        92f3ebe50c73bf7dd92fd84145aa3384f3efacd0       esilvajim@gmail.com   \n",
       "10       fcf8db9c443110c0b544c47cee399cd41f204bd6      fecambra92@gmail.com   \n",
       "11       b99c4fd3f906d7ce60f2dfee285574544b4b714e             cjavila@uc.cl   \n",
       "\n",
       "        gender level_education country locale  \\\n",
       "user_id                                         \n",
       "4         Male          master      MX     en   \n",
       "4         Male          master      MX     en   \n",
       "8         Male        bachelor      CL     es   \n",
       "10        Male          master      MX     es   \n",
       "11        Male        bachelor      CL     es   \n",
       "\n",
       "                               short_name  \n",
       "user_id                                    \n",
       "4        gestion-organizaciones-efectivas  \n",
       "4        gestion-organizaciones-efectivas  \n",
       "8        gestion-organizaciones-efectivas  \n",
       "10       gestion-organizaciones-efectivas  \n",
       "11       gestion-organizaciones-efectivas  "
      ]
     },
     "execution_count": 12,
     "metadata": {},
     "output_type": "execute_result"
    }
   ],
   "source": [
    "df.head(5)"
   ]
  },
  {
   "cell_type": "markdown",
   "metadata": {},
   "source": [
    "## Data Analysis and Visualizations"
   ]
  },
  {
   "cell_type": "markdown",
   "metadata": {},
   "source": [
    "#### Gender"
   ]
  },
  {
   "cell_type": "code",
   "execution_count": 13,
   "metadata": {},
   "outputs": [
    {
     "data": {
      "image/png": "[encoded data removed]",
      "text/plain": [
       "<Figure size 576x432 with 1 Axes>"
      ]
     },
     "metadata": {},
     "output_type": "display_data"
    }
   ],
   "source": [
    "ax = df.gender.value_counts().plot(kind='bar', figsize=(8,6), title=\"Coursera Users' Gender\")\n",
    "ax.set_xlabel(\"Gender\")\n",
    "ax.set_ylabel(\"Quantity\")\n",
    "\n",
    "# Adding labels to the bars\n",
    "for p in ax.patches:\n",
    "    ax.annotate(str(p.get_height()), (p.get_x() * 1.005, p.get_height() * 1.005))"
   ]
  },
  {
   "cell_type": "markdown",
   "metadata": {},
   "source": [
    "#### Education Level"
   ]
  },
  {
   "cell_type": "code",
   "execution_count": 14,
   "metadata": {},
   "outputs": [
    {
     "data": {
      "image/png": "[encoded data removed]",
      "text/plain": [
       "<Figure size 720x576 with 1 Axes>"
      ]
     },
     "metadata": {},
     "output_type": "display_data"
    }
   ],
   "source": [
    "ax = df.level_education.value_counts().plot(kind='bar', figsize=(10,8), title=\"Coursera Users' Education Level\")\n",
    "ax.set_xlabel(\"Education Level\")\n",
    "ax.set_ylabel(\"Quantity\")\n",
    "\n",
    "# Adding labels to the bars\n",
    "for p in ax.patches:\n",
    "    ax.annotate(str(p.get_height()), (p.get_x() * 1.005, p.get_height() * 1.005))"
   ]
  },
  {
   "cell_type": "markdown",
   "metadata": {},
   "source": [
    "#### Country"
   ]
  },
  {
   "cell_type": "code",
   "execution_count": 15,
   "metadata": {},
   "outputs": [
    {
     "data": {
      "image/png": "[encoded data removed]",
      "text/plain": [
       "<Figure size 864x720 with 1 Axes>"
      ]
     },
     "metadata": {},
     "output_type": "display_data"
    }
   ],
   "source": [
    "ax = df.country.value_counts().plot(kind='bar', figsize=(12,10), title=\"Coursera Users' Country\")\n",
    "ax.set_xlabel(\"Country\")\n",
    "ax.set_ylabel(\"Quantity\")\n",
    "\n",
    "# Adding labels to the bars\n",
    "for p in ax.patches:\n",
    "    ax.annotate(str(p.get_height()), (p.get_x() * 1.005, p.get_height() * 1.005))"
   ]
  },
  {
   "cell_type": "markdown",
   "metadata": {},
   "source": [
    "#### Locale"
   ]
  },
  {
   "cell_type": "code",
   "execution_count": 16,
   "metadata": {},
   "outputs": [
    {
     "data": {
      "image/png": "[encoded data removed]",
      "text/plain": [
       "<Figure size 576x432 with 1 Axes>"
      ]
     },
     "metadata": {},
     "output_type": "display_data"
    }
   ],
   "source": [
    "ax = df.locale.value_counts().plot(kind='bar', figsize=(8,6), title=\"Coursera Users' Locale\")\n",
    "ax.set_xlabel(\"Locale\")\n",
    "ax.set_ylabel(\"Quantity\")\n",
    "\n",
    "# Adding labels to the bars\n",
    "for p in ax.patches:\n",
    "    ax.annotate(str(p.get_height()), (p.get_x() * 1.005, p.get_height() * 1.005))"
   ]
  },
  {
   "cell_type": "markdown",
   "metadata": {},
   "source": [
    "## Export Data"
   ]
  },
  {
   "cell_type": "code",
   "execution_count": 18,
   "metadata": {},
   "outputs": [],
   "source": [
    "df.to_csv('../data/NMP/cooked_data_coursera_users/users.csv')"
   ]
  },
  {
   "cell_type": "code",
   "execution_count": null,
   "metadata": {},
   "outputs": [],
   "source": []
  }
 ],
 "metadata": {
  "kernelspec": {
   "display_name": "Python 3",
   "language": "python",
   "name": "python3"
  },
  "language_info": {
   "codemirror_mode": {
    "name": "ipython",
    "version": 3
   },
   "file_extension": ".py",
   "mimetype": "text/x-python",
   "name": "python",
   "nbconvert_exporter": "python",
   "pygments_lexer": "ipython3",
   "version": "3.7.1"
  }
 },
 "nbformat": 4,
 "nbformat_minor": 2
}
