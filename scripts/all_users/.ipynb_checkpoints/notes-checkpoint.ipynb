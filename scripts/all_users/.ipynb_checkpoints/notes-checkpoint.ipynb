{
 "cells": [
  {
   "cell_type": "markdown",
   "metadata": {},
   "source": [
    "# Notes All Users"
   ]
  },
  {
   "cell_type": "markdown",
   "metadata": {},
   "source": [
    "## Import Packages"
   ]
  },
  {
   "cell_type": "code",
   "execution_count": 21,
   "metadata": {},
   "outputs": [],
   "source": [
    "# data analysis and wrangling\n",
    "import pandas as pd\n",
    "import numpy as np\n",
    "\n",
    "# visualization\n",
    "%matplotlib inline\n",
    "import matplotlib.pyplot as plt"
   ]
  },
  {
   "cell_type": "markdown",
   "metadata": {},
   "source": [
    "## Load Data"
   ]
  },
  {
   "cell_type": "code",
   "execution_count": 22,
   "metadata": {},
   "outputs": [],
   "source": [
    "df = pd.read_csv('../data/NMP/notas/users_notes.csv', index_col='note_id')"
   ]
  },
  {
   "cell_type": "markdown",
   "metadata": {},
   "source": [
    "## Data Cleaning and Preparation"
   ]
  },
  {
   "cell_type": "code",
   "execution_count": 23,
   "metadata": {},
   "outputs": [
    {
     "data": {
      "text/plain": [
       "Index(['user_id', 'title', 'body', 'course_id', 'created_at', 'Unnamed: 6',\n",
       "       'Unnamed: 7', 'Unnamed: 8', 'Unnamed: 9', 'Unnamed: 10',\n",
       "       ...\n",
       "       'Unnamed: 126', 'Unnamed: 127', 'Unnamed: 128', 'Unnamed: 129',\n",
       "       'Unnamed: 130', 'Unnamed: 131', 'Unnamed: 132', 'Unnamed: 133',\n",
       "       'Unnamed: 134', 'Unnamed: 135'],\n",
       "      dtype='object', length=135)"
      ]
     },
     "execution_count": 23,
     "metadata": {},
     "output_type": "execute_result"
    }
   ],
   "source": [
    "# The .csv is bugged\n",
    "df.columns"
   ]
  },
  {
   "cell_type": "code",
   "execution_count": 24,
   "metadata": {},
   "outputs": [
    {
     "data": {
      "text/html": [
       "<div>\n",
       "<style scoped>\n",
       "    .dataframe tbody tr th:only-of-type {\n",
       "        vertical-align: middle;\n",
       "    }\n",
       "\n",
       "    .dataframe tbody tr th {\n",
       "        vertical-align: top;\n",
       "    }\n",
       "\n",
       "    .dataframe thead th {\n",
       "        text-align: right;\n",
       "    }\n",
       "</style>\n",
       "<table border=\"1\" class=\"dataframe\">\n",
       "  <thead>\n",
       "    <tr style=\"text-align: right;\">\n",
       "      <th></th>\n",
       "      <th>user_id</th>\n",
       "      <th>title</th>\n",
       "      <th>body</th>\n",
       "      <th>course_id</th>\n",
       "      <th>created_at</th>\n",
       "      <th>Unnamed: 6</th>\n",
       "      <th>Unnamed: 7</th>\n",
       "      <th>Unnamed: 8</th>\n",
       "      <th>Unnamed: 9</th>\n",
       "      <th>Unnamed: 10</th>\n",
       "      <th>...</th>\n",
       "      <th>Unnamed: 126</th>\n",
       "      <th>Unnamed: 127</th>\n",
       "      <th>Unnamed: 128</th>\n",
       "      <th>Unnamed: 129</th>\n",
       "      <th>Unnamed: 130</th>\n",
       "      <th>Unnamed: 131</th>\n",
       "      <th>Unnamed: 132</th>\n",
       "      <th>Unnamed: 133</th>\n",
       "      <th>Unnamed: 134</th>\n",
       "      <th>Unnamed: 135</th>\n",
       "    </tr>\n",
       "    <tr>\n",
       "      <th>note_id</th>\n",
       "      <th></th>\n",
       "      <th></th>\n",
       "      <th></th>\n",
       "      <th></th>\n",
       "      <th></th>\n",
       "      <th></th>\n",
       "      <th></th>\n",
       "      <th></th>\n",
       "      <th></th>\n",
       "      <th></th>\n",
       "      <th></th>\n",
       "      <th></th>\n",
       "      <th></th>\n",
       "      <th></th>\n",
       "      <th></th>\n",
       "      <th></th>\n",
       "      <th></th>\n",
       "      <th></th>\n",
       "      <th></th>\n",
       "      <th></th>\n",
       "      <th></th>\n",
       "    </tr>\n",
       "  </thead>\n",
       "  <tbody>\n",
       "    <tr>\n",
       "      <th>12</th>\n",
       "      <td>14</td>\n",
       "      <td>Disrupcion Tecnologica</td>\n",
       "      <td>&lt;p&gt;&lt;span style=\"font-size: 10px;\"&gt;Luego de que...</td>\n",
       "      <td>2</td>\n",
       "      <td>2018-02-20 14:48:14.327012</td>\n",
       "      <td>NaN</td>\n",
       "      <td>NaN</td>\n",
       "      <td>NaN</td>\n",
       "      <td>NaN</td>\n",
       "      <td>NaN</td>\n",
       "      <td>...</td>\n",
       "      <td>NaN</td>\n",
       "      <td>NaN</td>\n",
       "      <td>NaN</td>\n",
       "      <td>NaN</td>\n",
       "      <td>NaN</td>\n",
       "      <td>NaN</td>\n",
       "      <td>NaN</td>\n",
       "      <td>NaN</td>\n",
       "      <td>NaN</td>\n",
       "      <td>NaN</td>\n",
       "    </tr>\n",
       "    <tr>\n",
       "      <th>1</th>\n",
       "      <td>3</td>\n",
       "      <td>Recordatorio de repaso</td>\n",
       "      <td>&lt;p&gt;Repasar posteriormente el tema de teoría de...</td>\n",
       "      <td>2</td>\n",
       "      <td>2018-02-07 20:43:35.801686</td>\n",
       "      <td>NaN</td>\n",
       "      <td>NaN</td>\n",
       "      <td>NaN</td>\n",
       "      <td>NaN</td>\n",
       "      <td>NaN</td>\n",
       "      <td>...</td>\n",
       "      <td>NaN</td>\n",
       "      <td>NaN</td>\n",
       "      <td>NaN</td>\n",
       "      <td>NaN</td>\n",
       "      <td>NaN</td>\n",
       "      <td>NaN</td>\n",
       "      <td>NaN</td>\n",
       "      <td>NaN</td>\n",
       "      <td>NaN</td>\n",
       "      <td>NaN</td>\n",
       "    </tr>\n",
       "    <tr>\n",
       "      <th>2</th>\n",
       "      <td>3</td>\n",
       "      <td>Nota de contenido</td>\n",
       "      <td>&lt;p&gt;&lt;span style=\"color: rgb(51, 51, 51); font-f...</td>\n",
       "      <td>2</td>\n",
       "      <td>2018-02-07 21:03:52.094832</td>\n",
       "      <td>NaN</td>\n",
       "      <td>NaN</td>\n",
       "      <td>NaN</td>\n",
       "      <td>NaN</td>\n",
       "      <td>NaN</td>\n",
       "      <td>...</td>\n",
       "      <td>NaN</td>\n",
       "      <td>NaN</td>\n",
       "      <td>NaN</td>\n",
       "      <td>NaN</td>\n",
       "      <td>NaN</td>\n",
       "      <td>NaN</td>\n",
       "      <td>NaN</td>\n",
       "      <td>NaN</td>\n",
       "      <td>NaN</td>\n",
       "      <td>NaN</td>\n",
       "    </tr>\n",
       "    <tr>\n",
       "      <th>3</th>\n",
       "      <td>5</td>\n",
       "      <td>recursos</td>\n",
       "      <td>&lt;p&gt;los recursos cambian&amp;nbsp</td>\n",
       "      <td>&lt;/p&gt;</td>\n",
       "      <td>NaN</td>\n",
       "      <td>2018-02-13 23:05:25.158851</td>\n",
       "      <td>NaN</td>\n",
       "      <td>NaN</td>\n",
       "      <td>NaN</td>\n",
       "      <td>NaN</td>\n",
       "      <td>...</td>\n",
       "      <td>NaN</td>\n",
       "      <td>NaN</td>\n",
       "      <td>NaN</td>\n",
       "      <td>NaN</td>\n",
       "      <td>NaN</td>\n",
       "      <td>NaN</td>\n",
       "      <td>NaN</td>\n",
       "      <td>NaN</td>\n",
       "      <td>NaN</td>\n",
       "      <td>NaN</td>\n",
       "    </tr>\n",
       "    <tr>\n",
       "      <th>4</th>\n",
       "      <td>7</td>\n",
       "      <td>Visión sistemática</td>\n",
       "      <td>&lt;p&gt;Tipos de recursos que poseen las organizaci...</td>\n",
       "      <td>NaN</td>\n",
       "      <td>2018-02-14 02:32:58.02324</td>\n",
       "      <td>NaN</td>\n",
       "      <td>NaN</td>\n",
       "      <td>NaN</td>\n",
       "      <td>NaN</td>\n",
       "      <td>NaN</td>\n",
       "      <td>...</td>\n",
       "      <td>NaN</td>\n",
       "      <td>NaN</td>\n",
       "      <td>NaN</td>\n",
       "      <td>NaN</td>\n",
       "      <td>NaN</td>\n",
       "      <td>NaN</td>\n",
       "      <td>NaN</td>\n",
       "      <td>NaN</td>\n",
       "      <td>NaN</td>\n",
       "      <td>NaN</td>\n",
       "    </tr>\n",
       "  </tbody>\n",
       "</table>\n",
       "<p>5 rows × 135 columns</p>\n",
       "</div>"
      ],
      "text/plain": [
       "         user_id                   title  \\\n",
       "note_id                                    \n",
       "12            14  Disrupcion Tecnologica   \n",
       "1              3  Recordatorio de repaso   \n",
       "2              3       Nota de contenido   \n",
       "3              5                recursos   \n",
       "4              7      Visión sistemática   \n",
       "\n",
       "                                                      body course_id  \\\n",
       "note_id                                                                \n",
       "12       <p><span style=\"font-size: 10px;\">Luego de que...         2   \n",
       "1        <p>Repasar posteriormente el tema de teoría de...         2   \n",
       "2        <p><span style=\"color: rgb(51, 51, 51); font-f...         2   \n",
       "3                             <p>los recursos cambian&nbsp      </p>   \n",
       "4        <p>Tipos de recursos que poseen las organizaci...       NaN   \n",
       "\n",
       "                         created_at                  Unnamed: 6 Unnamed: 7  \\\n",
       "note_id                                                                      \n",
       "12       2018-02-20 14:48:14.327012                         NaN        NaN   \n",
       "1        2018-02-07 20:43:35.801686                         NaN        NaN   \n",
       "2        2018-02-07 21:03:52.094832                         NaN        NaN   \n",
       "3                               NaN  2018-02-13 23:05:25.158851        NaN   \n",
       "4         2018-02-14 02:32:58.02324                         NaN        NaN   \n",
       "\n",
       "        Unnamed: 8 Unnamed: 9 Unnamed: 10     ...      Unnamed: 126  \\\n",
       "note_id                                       ...                     \n",
       "12             NaN        NaN         NaN     ...               NaN   \n",
       "1              NaN        NaN         NaN     ...               NaN   \n",
       "2              NaN        NaN         NaN     ...               NaN   \n",
       "3              NaN        NaN         NaN     ...               NaN   \n",
       "4              NaN        NaN         NaN     ...               NaN   \n",
       "\n",
       "        Unnamed: 127 Unnamed: 128 Unnamed: 129 Unnamed: 130 Unnamed: 131  \\\n",
       "note_id                                                                    \n",
       "12               NaN          NaN          NaN          NaN          NaN   \n",
       "1                NaN          NaN          NaN          NaN          NaN   \n",
       "2                NaN          NaN          NaN          NaN          NaN   \n",
       "3                NaN          NaN          NaN          NaN          NaN   \n",
       "4                NaN          NaN          NaN          NaN          NaN   \n",
       "\n",
       "        Unnamed: 132 Unnamed: 133 Unnamed: 134 Unnamed: 135  \n",
       "note_id                                                      \n",
       "12               NaN          NaN          NaN          NaN  \n",
       "1                NaN          NaN          NaN          NaN  \n",
       "2                NaN          NaN          NaN          NaN  \n",
       "3                NaN          NaN          NaN          NaN  \n",
       "4                NaN          NaN          NaN          NaN  \n",
       "\n",
       "[5 rows x 135 columns]"
      ]
     },
     "execution_count": 24,
     "metadata": {},
     "output_type": "execute_result"
    }
   ],
   "source": [
    "df.head(5)"
   ]
  },
  {
   "cell_type": "code",
   "execution_count": 25,
   "metadata": {},
   "outputs": [],
   "source": [
    "# Dropping extra (bugged) columns. Now only with user_id\n",
    "df = df.user_id"
   ]
  },
  {
   "cell_type": "code",
   "execution_count": 26,
   "metadata": {},
   "outputs": [],
   "source": [
    "df = df.value_counts()"
   ]
  },
  {
   "cell_type": "markdown",
   "metadata": {},
   "source": [
    "## EDA: Exploratory Data Analysis"
   ]
  },
  {
   "cell_type": "code",
   "execution_count": 27,
   "metadata": {},
   "outputs": [
    {
     "data": {
      "text/plain": [
       "count    236.000000\n",
       "mean       3.478814\n",
       "std        4.949487\n",
       "min        1.000000\n",
       "25%        1.000000\n",
       "50%        2.000000\n",
       "75%        4.000000\n",
       "max       44.000000\n",
       "Name: user_id, dtype: float64"
      ]
     },
     "execution_count": 27,
     "metadata": {},
     "output_type": "execute_result"
    }
   ],
   "source": [
    "# General data statistics\n",
    "df.describe()"
   ]
  },
  {
   "cell_type": "code",
   "execution_count": 28,
   "metadata": {},
   "outputs": [
    {
     "data": {
      "text/plain": [
       "555    44\n",
       "293    36\n",
       "348    26\n",
       "473    20\n",
       "36     19\n",
       "Name: user_id, dtype: int64"
      ]
     },
     "execution_count": 28,
     "metadata": {},
     "output_type": "execute_result"
    }
   ],
   "source": [
    "# Preview new Data Frame\n",
    "df.head(5)"
   ]
  },
  {
   "cell_type": "markdown",
   "metadata": {},
   "source": [
    "## Data Analysis and Visualizations"
   ]
  },
  {
   "cell_type": "markdown",
   "metadata": {},
   "source": [
    "### Users with Notes"
   ]
  },
  {
   "cell_type": "code",
   "execution_count": 29,
   "metadata": {},
   "outputs": [
    {
     "data": {
      "image/png": "[encoded data removed]",
      "text/plain": [
       "<Figure size 576x432 with 1 Axes>"
      ]
     },
     "metadata": {},
     "output_type": "display_data"
    }
   ],
   "source": [
    "ax = pd.Series({'Without Notes': 572 - len(df), 'With Notes': len(df)}).plot(kind='bar', figsize=(8,6), title=\"Users with Notes\")\n",
    "ax.set_ylabel(\"Number of Users\")\n",
    "\n",
    "# Adding labels to the bars\n",
    "for p in ax.patches:\n",
    "    ax.annotate(str(p.get_height()), (p.get_x() * 1.005, p.get_height() * 1.005))"
   ]
  },
  {
   "cell_type": "markdown",
   "metadata": {},
   "source": [
    "### Notes Frequencies"
   ]
  },
  {
   "cell_type": "code",
   "execution_count": 30,
   "metadata": {},
   "outputs": [
    {
     "data": {
      "image/png": "[encoded data removed]",
      "text/plain": [
       "<Figure size 576x432 with 1 Axes>"
      ]
     },
     "metadata": {},
     "output_type": "display_data"
    }
   ],
   "source": [
    "ax = df.value_counts().plot(kind='bar', figsize=(8,6), title=\"Notes Frequencies\")\n",
    "ax.set_xlabel(\"Number of Notes\")\n",
    "ax.set_ylabel(\"Number of Users\")\n",
    "\n",
    "# Adding labels to the bars\n",
    "for p in ax.patches:\n",
    "    ax.annotate(str(p.get_height()), (p.get_x() * 1.005, p.get_height() * 1.005))"
   ]
  },
  {
   "cell_type": "markdown",
   "metadata": {},
   "source": [
    "## Export Data"
   ]
  },
  {
   "cell_type": "code",
   "execution_count": 31,
   "metadata": {},
   "outputs": [],
   "source": [
    "df.to_csv('../data/NMP/cooked_data_all_users/notes_by_user.csv', index_label='user_id', header=['frequency'])"
   ]
  },
  {
   "cell_type": "code",
   "execution_count": null,
   "metadata": {},
   "outputs": [],
   "source": []
  }
 ],
 "metadata": {
  "kernelspec": {
   "display_name": "Python 3",
   "language": "python",
   "name": "python3"
  },
  "language_info": {
   "codemirror_mode": {
    "name": "ipython",
    "version": 3
   },
   "file_extension": ".py",
   "mimetype": "text/x-python",
   "name": "python",
   "nbconvert_exporter": "python",
   "pygments_lexer": "ipython3",
   "version": "3.7.1"
  }
 },
 "nbformat": 4,
 "nbformat_minor": 2
}
