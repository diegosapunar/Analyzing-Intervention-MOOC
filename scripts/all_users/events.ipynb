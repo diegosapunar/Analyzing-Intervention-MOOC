{
 "cells": [
  {
   "cell_type": "markdown",
   "metadata": {},
   "source": [
    "# Events All Users"
   ]
  },
  {
   "cell_type": "markdown",
   "metadata": {},
   "source": [
    "## Import Packages"
   ]
  },
  {
   "cell_type": "code",
   "execution_count": 131,
   "metadata": {},
   "outputs": [],
   "source": [
    "# data analysis and wrangling\n",
    "import pandas as pd\n",
    "import numpy as np\n",
    "\n",
    "# visualization\n",
    "%matplotlib inline\n",
    "import matplotlib.pyplot as plt"
   ]
  },
  {
   "cell_type": "markdown",
   "metadata": {},
   "source": [
    "## Load Data"
   ]
  },
  {
   "cell_type": "code",
   "execution_count": 132,
   "metadata": {},
   "outputs": [],
   "source": [
    "df = pd.read_csv('../data/NMP/eventos/events_NMP.csv', index_col='id')"
   ]
  },
  {
   "cell_type": "markdown",
   "metadata": {},
   "source": [
    "## Data Cleaning and Preparation"
   ]
  },
  {
   "cell_type": "code",
   "execution_count": 133,
   "metadata": {},
   "outputs": [],
   "source": [
    "# Deleting the unnecesary columns\n",
    "df = df.drop(columns=['visit_id', 'course_id', 'time'])"
   ]
  },
  {
   "cell_type": "code",
   "execution_count": 134,
   "metadata": {},
   "outputs": [],
   "source": [
    "# Deleting rows with NaN values, which are in the user_id columns\n",
    "df = df.dropna()"
   ]
  },
  {
   "cell_type": "markdown",
   "metadata": {},
   "source": [
    "### Interactions"
   ]
  },
  {
   "cell_type": "code",
   "execution_count": 135,
   "metadata": {},
   "outputs": [],
   "source": [
    "# Getting interactions\n",
    "df_interactions = df.groupby(['user_id']).agg({'user_id': 'count'})\n",
    "\n",
    "# Renaming the columns\n",
    "df_interactions = df_interactions.rename(columns={'user_id': 'interactions'})"
   ]
  },
  {
   "cell_type": "markdown",
   "metadata": {},
   "source": [
    "### Types"
   ]
  },
  {
   "cell_type": "code",
   "execution_count": 136,
   "metadata": {},
   "outputs": [],
   "source": [
    "# Getting Types\n",
    "df_types = pd.crosstab(df.user_id, df.type, margins=True)\n",
    "\n",
    "# Deleting Column All, since is already in df_interactions\n",
    "df_types = df_types.drop(columns='All')"
   ]
  },
  {
   "cell_type": "markdown",
   "metadata": {},
   "source": [
    "### Names"
   ]
  },
  {
   "cell_type": "code",
   "execution_count": 137,
   "metadata": {},
   "outputs": [],
   "source": [
    "# Getting Names\n",
    "df_names = pd.crosstab(df.user_id, df.name, margins=True)\n",
    "\n",
    "# Deleting Column All, since is already in df_interactions\n",
    "df_names = df_names.drop(columns='All')"
   ]
  },
  {
   "cell_type": "code",
   "execution_count": 138,
   "metadata": {},
   "outputs": [],
   "source": [
    "# Spliting df_names in 3 Data Frames\n",
    "buttons = []\n",
    "graphs = []\n",
    "menus = []\n",
    "\n",
    "for col in df_names.columns:\n",
    "    if 'Button' in col:\n",
    "        buttons.append(col)\n",
    "    elif 'Graph' in col:\n",
    "        graphs.append(col)\n",
    "    else:\n",
    "        menus.append(col)\n",
    "        \n",
    "df_buttons = df_names[buttons]\n",
    "df_graphs = df_names[graphs]\n",
    "df_menus = df_names[menus]"
   ]
  },
  {
   "cell_type": "markdown",
   "metadata": {},
   "source": [
    "## EDA: Exploratory Data Analysis"
   ]
  },
  {
   "cell_type": "markdown",
   "metadata": {},
   "source": [
    "### Interactions"
   ]
  },
  {
   "cell_type": "code",
   "execution_count": 139,
   "metadata": {},
   "outputs": [
    {
     "data": {
      "text/plain": [
       "Index(['interactions'], dtype='object')"
      ]
     },
     "execution_count": 139,
     "metadata": {},
     "output_type": "execute_result"
    }
   ],
   "source": [
    "# Features/Variable names\n",
    "df_interactions.columns"
   ]
  },
  {
   "cell_type": "code",
   "execution_count": 140,
   "metadata": {},
   "outputs": [
    {
     "data": {
      "text/html": [
       "<div>\n",
       "<style scoped>\n",
       "    .dataframe tbody tr th:only-of-type {\n",
       "        vertical-align: middle;\n",
       "    }\n",
       "\n",
       "    .dataframe tbody tr th {\n",
       "        vertical-align: top;\n",
       "    }\n",
       "\n",
       "    .dataframe thead th {\n",
       "        text-align: right;\n",
       "    }\n",
       "</style>\n",
       "<table border=\"1\" class=\"dataframe\">\n",
       "  <thead>\n",
       "    <tr style=\"text-align: right;\">\n",
       "      <th></th>\n",
       "      <th>interactions</th>\n",
       "    </tr>\n",
       "    <tr>\n",
       "      <th>user_id</th>\n",
       "      <th></th>\n",
       "    </tr>\n",
       "  </thead>\n",
       "  <tbody>\n",
       "    <tr>\n",
       "      <th>2.0</th>\n",
       "      <td>144</td>\n",
       "    </tr>\n",
       "    <tr>\n",
       "      <th>3.0</th>\n",
       "      <td>664</td>\n",
       "    </tr>\n",
       "    <tr>\n",
       "      <th>5.0</th>\n",
       "      <td>6</td>\n",
       "    </tr>\n",
       "    <tr>\n",
       "      <th>8.0</th>\n",
       "      <td>10</td>\n",
       "    </tr>\n",
       "    <tr>\n",
       "      <th>9.0</th>\n",
       "      <td>29</td>\n",
       "    </tr>\n",
       "  </tbody>\n",
       "</table>\n",
       "</div>"
      ],
      "text/plain": [
       "         interactions\n",
       "user_id              \n",
       "2.0               144\n",
       "3.0               664\n",
       "5.0                 6\n",
       "8.0                10\n",
       "9.0                29"
      ]
     },
     "execution_count": 140,
     "metadata": {},
     "output_type": "execute_result"
    }
   ],
   "source": [
    "# Preview the data\n",
    "df_interactions.head(5)"
   ]
  },
  {
   "cell_type": "code",
   "execution_count": 141,
   "metadata": {},
   "outputs": [
    {
     "data": {
      "text/html": [
       "<div>\n",
       "<style scoped>\n",
       "    .dataframe tbody tr th:only-of-type {\n",
       "        vertical-align: middle;\n",
       "    }\n",
       "\n",
       "    .dataframe tbody tr th {\n",
       "        vertical-align: top;\n",
       "    }\n",
       "\n",
       "    .dataframe thead th {\n",
       "        text-align: right;\n",
       "    }\n",
       "</style>\n",
       "<table border=\"1\" class=\"dataframe\">\n",
       "  <thead>\n",
       "    <tr style=\"text-align: right;\">\n",
       "      <th></th>\n",
       "      <th>interactions</th>\n",
       "    </tr>\n",
       "  </thead>\n",
       "  <tbody>\n",
       "    <tr>\n",
       "      <th>count</th>\n",
       "      <td>494.000000</td>\n",
       "    </tr>\n",
       "    <tr>\n",
       "      <th>mean</th>\n",
       "      <td>17.228745</td>\n",
       "    </tr>\n",
       "    <tr>\n",
       "      <th>std</th>\n",
       "      <td>41.365465</td>\n",
       "    </tr>\n",
       "    <tr>\n",
       "      <th>min</th>\n",
       "      <td>1.000000</td>\n",
       "    </tr>\n",
       "    <tr>\n",
       "      <th>25%</th>\n",
       "      <td>3.000000</td>\n",
       "    </tr>\n",
       "    <tr>\n",
       "      <th>50%</th>\n",
       "      <td>7.000000</td>\n",
       "    </tr>\n",
       "    <tr>\n",
       "      <th>75%</th>\n",
       "      <td>15.000000</td>\n",
       "    </tr>\n",
       "    <tr>\n",
       "      <th>max</th>\n",
       "      <td>664.000000</td>\n",
       "    </tr>\n",
       "  </tbody>\n",
       "</table>\n",
       "</div>"
      ],
      "text/plain": [
       "       interactions\n",
       "count    494.000000\n",
       "mean      17.228745\n",
       "std       41.365465\n",
       "min        1.000000\n",
       "25%        3.000000\n",
       "50%        7.000000\n",
       "75%       15.000000\n",
       "max      664.000000"
      ]
     },
     "execution_count": 141,
     "metadata": {},
     "output_type": "execute_result"
    }
   ],
   "source": [
    "# General data statistics\n",
    "df_interactions.describe()"
   ]
  },
  {
   "cell_type": "code",
   "execution_count": 142,
   "metadata": {},
   "outputs": [
    {
     "data": {
      "text/plain": [
       "interactions    8511\n",
       "dtype: int64"
      ]
     },
     "execution_count": 142,
     "metadata": {},
     "output_type": "execute_result"
    }
   ],
   "source": [
    "# Number of interactions\n",
    "df_interactions.sum()"
   ]
  },
  {
   "cell_type": "markdown",
   "metadata": {},
   "source": [
    "### Types"
   ]
  },
  {
   "cell_type": "code",
   "execution_count": 143,
   "metadata": {},
   "outputs": [
    {
     "data": {
      "text/plain": [
       "Index(['Button', 'Graph', 'Menu'], dtype='object', name='type')"
      ]
     },
     "execution_count": 143,
     "metadata": {},
     "output_type": "execute_result"
    }
   ],
   "source": [
    "# Features/Variable names\n",
    "df_types.columns"
   ]
  },
  {
   "cell_type": "code",
   "execution_count": 144,
   "metadata": {},
   "outputs": [
    {
     "data": {
      "text/html": [
       "<div>\n",
       "<style scoped>\n",
       "    .dataframe tbody tr th:only-of-type {\n",
       "        vertical-align: middle;\n",
       "    }\n",
       "\n",
       "    .dataframe tbody tr th {\n",
       "        vertical-align: top;\n",
       "    }\n",
       "\n",
       "    .dataframe thead th {\n",
       "        text-align: right;\n",
       "    }\n",
       "</style>\n",
       "<table border=\"1\" class=\"dataframe\">\n",
       "  <thead>\n",
       "    <tr style=\"text-align: right;\">\n",
       "      <th>type</th>\n",
       "      <th>Button</th>\n",
       "      <th>Graph</th>\n",
       "      <th>Menu</th>\n",
       "    </tr>\n",
       "    <tr>\n",
       "      <th>user_id</th>\n",
       "      <th></th>\n",
       "      <th></th>\n",
       "      <th></th>\n",
       "    </tr>\n",
       "  </thead>\n",
       "  <tbody>\n",
       "    <tr>\n",
       "      <th>2.0</th>\n",
       "      <td>62</td>\n",
       "      <td>31</td>\n",
       "      <td>51</td>\n",
       "    </tr>\n",
       "    <tr>\n",
       "      <th>3.0</th>\n",
       "      <td>67</td>\n",
       "      <td>504</td>\n",
       "      <td>93</td>\n",
       "    </tr>\n",
       "    <tr>\n",
       "      <th>5.0</th>\n",
       "      <td>0</td>\n",
       "      <td>2</td>\n",
       "      <td>4</td>\n",
       "    </tr>\n",
       "    <tr>\n",
       "      <th>8.0</th>\n",
       "      <td>1</td>\n",
       "      <td>0</td>\n",
       "      <td>9</td>\n",
       "    </tr>\n",
       "    <tr>\n",
       "      <th>9.0</th>\n",
       "      <td>2</td>\n",
       "      <td>0</td>\n",
       "      <td>27</td>\n",
       "    </tr>\n",
       "  </tbody>\n",
       "</table>\n",
       "</div>"
      ],
      "text/plain": [
       "type     Button  Graph  Menu\n",
       "user_id                     \n",
       "2.0          62     31    51\n",
       "3.0          67    504    93\n",
       "5.0           0      2     4\n",
       "8.0           1      0     9\n",
       "9.0           2      0    27"
      ]
     },
     "execution_count": 144,
     "metadata": {},
     "output_type": "execute_result"
    }
   ],
   "source": [
    "# Preview the data\n",
    "df_types.head(5)"
   ]
  },
  {
   "cell_type": "code",
   "execution_count": 145,
   "metadata": {},
   "outputs": [
    {
     "data": {
      "text/html": [
       "<div>\n",
       "<style scoped>\n",
       "    .dataframe tbody tr th:only-of-type {\n",
       "        vertical-align: middle;\n",
       "    }\n",
       "\n",
       "    .dataframe tbody tr th {\n",
       "        vertical-align: top;\n",
       "    }\n",
       "\n",
       "    .dataframe thead th {\n",
       "        text-align: right;\n",
       "    }\n",
       "</style>\n",
       "<table border=\"1\" class=\"dataframe\">\n",
       "  <thead>\n",
       "    <tr style=\"text-align: right;\">\n",
       "      <th>type</th>\n",
       "      <th>Button</th>\n",
       "      <th>Graph</th>\n",
       "      <th>Menu</th>\n",
       "    </tr>\n",
       "  </thead>\n",
       "  <tbody>\n",
       "    <tr>\n",
       "      <th>count</th>\n",
       "      <td>494.000000</td>\n",
       "      <td>494.000000</td>\n",
       "      <td>494.000000</td>\n",
       "    </tr>\n",
       "    <tr>\n",
       "      <th>mean</th>\n",
       "      <td>3.686235</td>\n",
       "      <td>6.244939</td>\n",
       "      <td>7.297571</td>\n",
       "    </tr>\n",
       "    <tr>\n",
       "      <th>std</th>\n",
       "      <td>11.452908</td>\n",
       "      <td>26.847075</td>\n",
       "      <td>10.442857</td>\n",
       "    </tr>\n",
       "    <tr>\n",
       "      <th>min</th>\n",
       "      <td>0.000000</td>\n",
       "      <td>0.000000</td>\n",
       "      <td>0.000000</td>\n",
       "    </tr>\n",
       "    <tr>\n",
       "      <th>25%</th>\n",
       "      <td>0.000000</td>\n",
       "      <td>0.000000</td>\n",
       "      <td>2.000000</td>\n",
       "    </tr>\n",
       "    <tr>\n",
       "      <th>50%</th>\n",
       "      <td>1.000000</td>\n",
       "      <td>0.000000</td>\n",
       "      <td>4.000000</td>\n",
       "    </tr>\n",
       "    <tr>\n",
       "      <th>75%</th>\n",
       "      <td>3.000000</td>\n",
       "      <td>1.750000</td>\n",
       "      <td>9.000000</td>\n",
       "    </tr>\n",
       "    <tr>\n",
       "      <th>max</th>\n",
       "      <td>140.000000</td>\n",
       "      <td>504.000000</td>\n",
       "      <td>93.000000</td>\n",
       "    </tr>\n",
       "  </tbody>\n",
       "</table>\n",
       "</div>"
      ],
      "text/plain": [
       "type       Button       Graph        Menu\n",
       "count  494.000000  494.000000  494.000000\n",
       "mean     3.686235    6.244939    7.297571\n",
       "std     11.452908   26.847075   10.442857\n",
       "min      0.000000    0.000000    0.000000\n",
       "25%      0.000000    0.000000    2.000000\n",
       "50%      1.000000    0.000000    4.000000\n",
       "75%      3.000000    1.750000    9.000000\n",
       "max    140.000000  504.000000   93.000000"
      ]
     },
     "execution_count": 145,
     "metadata": {},
     "output_type": "execute_result"
    }
   ],
   "source": [
    "# General data statistics\n",
    "df_types.drop('All').describe()"
   ]
  },
  {
   "cell_type": "markdown",
   "metadata": {},
   "source": [
    "### Names"
   ]
  },
  {
   "cell_type": "code",
   "execution_count": 146,
   "metadata": {},
   "outputs": [
    {
     "data": {
      "text/plain": [
       "Index(['Button_ComparisonDisabled', 'Button_ComparisonEnabled',\n",
       "       'Button_DefineGoal', 'Button_DownloadAllNotes', 'Button_DownloadNote',\n",
       "       'Button_EditNote', 'Button_Effectiveness',\n",
       "       'Button_EngagementPerformance', 'Button_FilterTime30Days',\n",
       "       'Button_FilterTime7Days', 'Button_FilterTimeViewAll',\n",
       "       'Button_FilterViewAll', 'Button_NewNote', 'Button_SearchNote'],\n",
       "      dtype='object', name='name')"
      ]
     },
     "execution_count": 146,
     "metadata": {},
     "output_type": "execute_result"
    }
   ],
   "source": [
    "# Features/Variable names\n",
    "df_buttons.columns"
   ]
  },
  {
   "cell_type": "code",
   "execution_count": 147,
   "metadata": {},
   "outputs": [
    {
     "data": {
      "text/plain": [
       "Index(['Graph_EffectivenessActivityType', 'Graph_EffectivenessByDayWeek',\n",
       "       'Graph_EngagementByNumberActivities',\n",
       "       'Graph_EngagementByTypeActivities', 'Graph_TimeInSessions',\n",
       "       'Graph_TimeUse', 'Graph_TimeUseOnCourse'],\n",
       "      dtype='object', name='name')"
      ]
     },
     "execution_count": 147,
     "metadata": {},
     "output_type": "execute_result"
    }
   ],
   "source": [
    "# Features/Variable names\n",
    "df_graphs.columns"
   ]
  },
  {
   "cell_type": "code",
   "execution_count": 148,
   "metadata": {},
   "outputs": [
    {
     "data": {
      "text/plain": [
       "Index(['Menu_ChooseCourse', 'Menu_GoalSetting', 'Menu_ViewNotes'], dtype='object', name='name')"
      ]
     },
     "execution_count": 148,
     "metadata": {},
     "output_type": "execute_result"
    }
   ],
   "source": [
    "# Features/Variable names\n",
    "df_menus.columns"
   ]
  },
  {
   "cell_type": "code",
   "execution_count": 149,
   "metadata": {},
   "outputs": [
    {
     "data": {
      "text/html": [
       "<div>\n",
       "<style scoped>\n",
       "    .dataframe tbody tr th:only-of-type {\n",
       "        vertical-align: middle;\n",
       "    }\n",
       "\n",
       "    .dataframe tbody tr th {\n",
       "        vertical-align: top;\n",
       "    }\n",
       "\n",
       "    .dataframe thead th {\n",
       "        text-align: right;\n",
       "    }\n",
       "</style>\n",
       "<table border=\"1\" class=\"dataframe\">\n",
       "  <thead>\n",
       "    <tr style=\"text-align: right;\">\n",
       "      <th>name</th>\n",
       "      <th>Button_ComparisonDisabled</th>\n",
       "      <th>Button_ComparisonEnabled</th>\n",
       "      <th>Button_DefineGoal</th>\n",
       "      <th>Button_DownloadAllNotes</th>\n",
       "      <th>Button_DownloadNote</th>\n",
       "      <th>Button_EditNote</th>\n",
       "      <th>Button_Effectiveness</th>\n",
       "      <th>Button_EngagementPerformance</th>\n",
       "      <th>Button_FilterTime30Days</th>\n",
       "      <th>Button_FilterTime7Days</th>\n",
       "      <th>Button_FilterTimeViewAll</th>\n",
       "      <th>Button_FilterViewAll</th>\n",
       "      <th>Button_NewNote</th>\n",
       "      <th>Button_SearchNote</th>\n",
       "    </tr>\n",
       "    <tr>\n",
       "      <th>user_id</th>\n",
       "      <th></th>\n",
       "      <th></th>\n",
       "      <th></th>\n",
       "      <th></th>\n",
       "      <th></th>\n",
       "      <th></th>\n",
       "      <th></th>\n",
       "      <th></th>\n",
       "      <th></th>\n",
       "      <th></th>\n",
       "      <th></th>\n",
       "      <th></th>\n",
       "      <th></th>\n",
       "      <th></th>\n",
       "    </tr>\n",
       "  </thead>\n",
       "  <tbody>\n",
       "    <tr>\n",
       "      <th>2.0</th>\n",
       "      <td>2</td>\n",
       "      <td>2</td>\n",
       "      <td>1</td>\n",
       "      <td>0</td>\n",
       "      <td>0</td>\n",
       "      <td>0</td>\n",
       "      <td>26</td>\n",
       "      <td>11</td>\n",
       "      <td>2</td>\n",
       "      <td>2</td>\n",
       "      <td>1</td>\n",
       "      <td>13</td>\n",
       "      <td>2</td>\n",
       "      <td>0</td>\n",
       "    </tr>\n",
       "    <tr>\n",
       "      <th>3.0</th>\n",
       "      <td>5</td>\n",
       "      <td>14</td>\n",
       "      <td>4</td>\n",
       "      <td>3</td>\n",
       "      <td>2</td>\n",
       "      <td>3</td>\n",
       "      <td>17</td>\n",
       "      <td>5</td>\n",
       "      <td>3</td>\n",
       "      <td>7</td>\n",
       "      <td>2</td>\n",
       "      <td>1</td>\n",
       "      <td>1</td>\n",
       "      <td>0</td>\n",
       "    </tr>\n",
       "    <tr>\n",
       "      <th>5.0</th>\n",
       "      <td>0</td>\n",
       "      <td>0</td>\n",
       "      <td>0</td>\n",
       "      <td>0</td>\n",
       "      <td>0</td>\n",
       "      <td>0</td>\n",
       "      <td>0</td>\n",
       "      <td>0</td>\n",
       "      <td>0</td>\n",
       "      <td>0</td>\n",
       "      <td>0</td>\n",
       "      <td>0</td>\n",
       "      <td>0</td>\n",
       "      <td>0</td>\n",
       "    </tr>\n",
       "    <tr>\n",
       "      <th>8.0</th>\n",
       "      <td>0</td>\n",
       "      <td>0</td>\n",
       "      <td>0</td>\n",
       "      <td>0</td>\n",
       "      <td>0</td>\n",
       "      <td>0</td>\n",
       "      <td>0</td>\n",
       "      <td>0</td>\n",
       "      <td>0</td>\n",
       "      <td>1</td>\n",
       "      <td>0</td>\n",
       "      <td>0</td>\n",
       "      <td>0</td>\n",
       "      <td>0</td>\n",
       "    </tr>\n",
       "    <tr>\n",
       "      <th>9.0</th>\n",
       "      <td>0</td>\n",
       "      <td>0</td>\n",
       "      <td>0</td>\n",
       "      <td>1</td>\n",
       "      <td>0</td>\n",
       "      <td>0</td>\n",
       "      <td>0</td>\n",
       "      <td>0</td>\n",
       "      <td>0</td>\n",
       "      <td>0</td>\n",
       "      <td>0</td>\n",
       "      <td>0</td>\n",
       "      <td>1</td>\n",
       "      <td>0</td>\n",
       "    </tr>\n",
       "  </tbody>\n",
       "</table>\n",
       "</div>"
      ],
      "text/plain": [
       "name     Button_ComparisonDisabled  Button_ComparisonEnabled  \\\n",
       "user_id                                                        \n",
       "2.0                              2                         2   \n",
       "3.0                              5                        14   \n",
       "5.0                              0                         0   \n",
       "8.0                              0                         0   \n",
       "9.0                              0                         0   \n",
       "\n",
       "name     Button_DefineGoal  Button_DownloadAllNotes  Button_DownloadNote  \\\n",
       "user_id                                                                    \n",
       "2.0                      1                        0                    0   \n",
       "3.0                      4                        3                    2   \n",
       "5.0                      0                        0                    0   \n",
       "8.0                      0                        0                    0   \n",
       "9.0                      0                        1                    0   \n",
       "\n",
       "name     Button_EditNote  Button_Effectiveness  Button_EngagementPerformance  \\\n",
       "user_id                                                                        \n",
       "2.0                    0                    26                            11   \n",
       "3.0                    3                    17                             5   \n",
       "5.0                    0                     0                             0   \n",
       "8.0                    0                     0                             0   \n",
       "9.0                    0                     0                             0   \n",
       "\n",
       "name     Button_FilterTime30Days  Button_FilterTime7Days  \\\n",
       "user_id                                                    \n",
       "2.0                            2                       2   \n",
       "3.0                            3                       7   \n",
       "5.0                            0                       0   \n",
       "8.0                            0                       1   \n",
       "9.0                            0                       0   \n",
       "\n",
       "name     Button_FilterTimeViewAll  Button_FilterViewAll  Button_NewNote  \\\n",
       "user_id                                                                   \n",
       "2.0                             1                    13               2   \n",
       "3.0                             2                     1               1   \n",
       "5.0                             0                     0               0   \n",
       "8.0                             0                     0               0   \n",
       "9.0                             0                     0               1   \n",
       "\n",
       "name     Button_SearchNote  \n",
       "user_id                     \n",
       "2.0                      0  \n",
       "3.0                      0  \n",
       "5.0                      0  \n",
       "8.0                      0  \n",
       "9.0                      0  "
      ]
     },
     "execution_count": 149,
     "metadata": {},
     "output_type": "execute_result"
    }
   ],
   "source": [
    "# Preview the data\n",
    "df_buttons.head(5)"
   ]
  },
  {
   "cell_type": "code",
   "execution_count": 150,
   "metadata": {},
   "outputs": [
    {
     "data": {
      "text/html": [
       "<div>\n",
       "<style scoped>\n",
       "    .dataframe tbody tr th:only-of-type {\n",
       "        vertical-align: middle;\n",
       "    }\n",
       "\n",
       "    .dataframe tbody tr th {\n",
       "        vertical-align: top;\n",
       "    }\n",
       "\n",
       "    .dataframe thead th {\n",
       "        text-align: right;\n",
       "    }\n",
       "</style>\n",
       "<table border=\"1\" class=\"dataframe\">\n",
       "  <thead>\n",
       "    <tr style=\"text-align: right;\">\n",
       "      <th>name</th>\n",
       "      <th>Graph_EffectivenessActivityType</th>\n",
       "      <th>Graph_EffectivenessByDayWeek</th>\n",
       "      <th>Graph_EngagementByNumberActivities</th>\n",
       "      <th>Graph_EngagementByTypeActivities</th>\n",
       "      <th>Graph_TimeInSessions</th>\n",
       "      <th>Graph_TimeUse</th>\n",
       "      <th>Graph_TimeUseOnCourse</th>\n",
       "    </tr>\n",
       "    <tr>\n",
       "      <th>user_id</th>\n",
       "      <th></th>\n",
       "      <th></th>\n",
       "      <th></th>\n",
       "      <th></th>\n",
       "      <th></th>\n",
       "      <th></th>\n",
       "      <th></th>\n",
       "    </tr>\n",
       "  </thead>\n",
       "  <tbody>\n",
       "    <tr>\n",
       "      <th>2.0</th>\n",
       "      <td>4</td>\n",
       "      <td>2</td>\n",
       "      <td>0</td>\n",
       "      <td>8</td>\n",
       "      <td>1</td>\n",
       "      <td>2</td>\n",
       "      <td>14</td>\n",
       "    </tr>\n",
       "    <tr>\n",
       "      <th>3.0</th>\n",
       "      <td>0</td>\n",
       "      <td>0</td>\n",
       "      <td>0</td>\n",
       "      <td>301</td>\n",
       "      <td>0</td>\n",
       "      <td>0</td>\n",
       "      <td>203</td>\n",
       "    </tr>\n",
       "    <tr>\n",
       "      <th>5.0</th>\n",
       "      <td>0</td>\n",
       "      <td>0</td>\n",
       "      <td>0</td>\n",
       "      <td>2</td>\n",
       "      <td>0</td>\n",
       "      <td>0</td>\n",
       "      <td>0</td>\n",
       "    </tr>\n",
       "    <tr>\n",
       "      <th>8.0</th>\n",
       "      <td>0</td>\n",
       "      <td>0</td>\n",
       "      <td>0</td>\n",
       "      <td>0</td>\n",
       "      <td>0</td>\n",
       "      <td>0</td>\n",
       "      <td>0</td>\n",
       "    </tr>\n",
       "    <tr>\n",
       "      <th>9.0</th>\n",
       "      <td>0</td>\n",
       "      <td>0</td>\n",
       "      <td>0</td>\n",
       "      <td>0</td>\n",
       "      <td>0</td>\n",
       "      <td>0</td>\n",
       "      <td>0</td>\n",
       "    </tr>\n",
       "  </tbody>\n",
       "</table>\n",
       "</div>"
      ],
      "text/plain": [
       "name     Graph_EffectivenessActivityType  Graph_EffectivenessByDayWeek  \\\n",
       "user_id                                                                  \n",
       "2.0                                    4                             2   \n",
       "3.0                                    0                             0   \n",
       "5.0                                    0                             0   \n",
       "8.0                                    0                             0   \n",
       "9.0                                    0                             0   \n",
       "\n",
       "name     Graph_EngagementByNumberActivities  Graph_EngagementByTypeActivities  \\\n",
       "user_id                                                                         \n",
       "2.0                                       0                                 8   \n",
       "3.0                                       0                               301   \n",
       "5.0                                       0                                 2   \n",
       "8.0                                       0                                 0   \n",
       "9.0                                       0                                 0   \n",
       "\n",
       "name     Graph_TimeInSessions  Graph_TimeUse  Graph_TimeUseOnCourse  \n",
       "user_id                                                              \n",
       "2.0                         1              2                     14  \n",
       "3.0                         0              0                    203  \n",
       "5.0                         0              0                      0  \n",
       "8.0                         0              0                      0  \n",
       "9.0                         0              0                      0  "
      ]
     },
     "execution_count": 150,
     "metadata": {},
     "output_type": "execute_result"
    }
   ],
   "source": [
    "# Preview the data\n",
    "df_graphs.head(5)"
   ]
  },
  {
   "cell_type": "code",
   "execution_count": 151,
   "metadata": {},
   "outputs": [
    {
     "data": {
      "text/html": [
       "<div>\n",
       "<style scoped>\n",
       "    .dataframe tbody tr th:only-of-type {\n",
       "        vertical-align: middle;\n",
       "    }\n",
       "\n",
       "    .dataframe tbody tr th {\n",
       "        vertical-align: top;\n",
       "    }\n",
       "\n",
       "    .dataframe thead th {\n",
       "        text-align: right;\n",
       "    }\n",
       "</style>\n",
       "<table border=\"1\" class=\"dataframe\">\n",
       "  <thead>\n",
       "    <tr style=\"text-align: right;\">\n",
       "      <th>name</th>\n",
       "      <th>Menu_ChooseCourse</th>\n",
       "      <th>Menu_GoalSetting</th>\n",
       "      <th>Menu_ViewNotes</th>\n",
       "    </tr>\n",
       "    <tr>\n",
       "      <th>user_id</th>\n",
       "      <th></th>\n",
       "      <th></th>\n",
       "      <th></th>\n",
       "    </tr>\n",
       "  </thead>\n",
       "  <tbody>\n",
       "    <tr>\n",
       "      <th>2.0</th>\n",
       "      <td>34</td>\n",
       "      <td>9</td>\n",
       "      <td>8</td>\n",
       "    </tr>\n",
       "    <tr>\n",
       "      <th>3.0</th>\n",
       "      <td>40</td>\n",
       "      <td>28</td>\n",
       "      <td>25</td>\n",
       "    </tr>\n",
       "    <tr>\n",
       "      <th>5.0</th>\n",
       "      <td>2</td>\n",
       "      <td>1</td>\n",
       "      <td>1</td>\n",
       "    </tr>\n",
       "    <tr>\n",
       "      <th>8.0</th>\n",
       "      <td>5</td>\n",
       "      <td>2</td>\n",
       "      <td>2</td>\n",
       "    </tr>\n",
       "    <tr>\n",
       "      <th>9.0</th>\n",
       "      <td>18</td>\n",
       "      <td>3</td>\n",
       "      <td>6</td>\n",
       "    </tr>\n",
       "  </tbody>\n",
       "</table>\n",
       "</div>"
      ],
      "text/plain": [
       "name     Menu_ChooseCourse  Menu_GoalSetting  Menu_ViewNotes\n",
       "user_id                                                     \n",
       "2.0                     34                 9               8\n",
       "3.0                     40                28              25\n",
       "5.0                      2                 1               1\n",
       "8.0                      5                 2               2\n",
       "9.0                     18                 3               6"
      ]
     },
     "execution_count": 151,
     "metadata": {},
     "output_type": "execute_result"
    }
   ],
   "source": [
    "# Preview the data\n",
    "df_menus.head(5)"
   ]
  },
  {
   "cell_type": "code",
   "execution_count": 152,
   "metadata": {},
   "outputs": [
    {
     "data": {
      "text/html": [
       "<div>\n",
       "<style scoped>\n",
       "    .dataframe tbody tr th:only-of-type {\n",
       "        vertical-align: middle;\n",
       "    }\n",
       "\n",
       "    .dataframe tbody tr th {\n",
       "        vertical-align: top;\n",
       "    }\n",
       "\n",
       "    .dataframe thead th {\n",
       "        text-align: right;\n",
       "    }\n",
       "</style>\n",
       "<table border=\"1\" class=\"dataframe\">\n",
       "  <thead>\n",
       "    <tr style=\"text-align: right;\">\n",
       "      <th>name</th>\n",
       "      <th>Button_ComparisonDisabled</th>\n",
       "      <th>Button_ComparisonEnabled</th>\n",
       "      <th>Button_DefineGoal</th>\n",
       "      <th>Button_DownloadAllNotes</th>\n",
       "      <th>Button_DownloadNote</th>\n",
       "      <th>Button_EditNote</th>\n",
       "      <th>Button_Effectiveness</th>\n",
       "      <th>Button_EngagementPerformance</th>\n",
       "      <th>Button_FilterTime30Days</th>\n",
       "      <th>Button_FilterTime7Days</th>\n",
       "      <th>Button_FilterTimeViewAll</th>\n",
       "      <th>Button_FilterViewAll</th>\n",
       "      <th>Button_NewNote</th>\n",
       "      <th>Button_SearchNote</th>\n",
       "    </tr>\n",
       "  </thead>\n",
       "  <tbody>\n",
       "    <tr>\n",
       "      <th>count</th>\n",
       "      <td>494.000000</td>\n",
       "      <td>494.000000</td>\n",
       "      <td>494.000000</td>\n",
       "      <td>494.000000</td>\n",
       "      <td>494.000000</td>\n",
       "      <td>494.000000</td>\n",
       "      <td>494.000000</td>\n",
       "      <td>494.000000</td>\n",
       "      <td>494.000000</td>\n",
       "      <td>494.000000</td>\n",
       "      <td>494.000000</td>\n",
       "      <td>494.000000</td>\n",
       "      <td>494.000000</td>\n",
       "      <td>494.000000</td>\n",
       "    </tr>\n",
       "    <tr>\n",
       "      <th>mean</th>\n",
       "      <td>0.135628</td>\n",
       "      <td>0.342105</td>\n",
       "      <td>0.267206</td>\n",
       "      <td>0.331984</td>\n",
       "      <td>0.159919</td>\n",
       "      <td>0.429150</td>\n",
       "      <td>0.469636</td>\n",
       "      <td>0.161943</td>\n",
       "      <td>0.121457</td>\n",
       "      <td>0.186235</td>\n",
       "      <td>0.194332</td>\n",
       "      <td>0.194332</td>\n",
       "      <td>0.609312</td>\n",
       "      <td>0.082996</td>\n",
       "    </tr>\n",
       "    <tr>\n",
       "      <th>std</th>\n",
       "      <td>0.667885</td>\n",
       "      <td>1.406436</td>\n",
       "      <td>0.793903</td>\n",
       "      <td>1.113767</td>\n",
       "      <td>1.856061</td>\n",
       "      <td>2.707896</td>\n",
       "      <td>1.729733</td>\n",
       "      <td>0.738735</td>\n",
       "      <td>0.570954</td>\n",
       "      <td>0.939192</td>\n",
       "      <td>0.819816</td>\n",
       "      <td>1.131643</td>\n",
       "      <td>2.908195</td>\n",
       "      <td>0.500704</td>\n",
       "    </tr>\n",
       "    <tr>\n",
       "      <th>min</th>\n",
       "      <td>0.000000</td>\n",
       "      <td>0.000000</td>\n",
       "      <td>0.000000</td>\n",
       "      <td>0.000000</td>\n",
       "      <td>0.000000</td>\n",
       "      <td>0.000000</td>\n",
       "      <td>0.000000</td>\n",
       "      <td>0.000000</td>\n",
       "      <td>0.000000</td>\n",
       "      <td>0.000000</td>\n",
       "      <td>0.000000</td>\n",
       "      <td>0.000000</td>\n",
       "      <td>0.000000</td>\n",
       "      <td>0.000000</td>\n",
       "    </tr>\n",
       "    <tr>\n",
       "      <th>25%</th>\n",
       "      <td>0.000000</td>\n",
       "      <td>0.000000</td>\n",
       "      <td>0.000000</td>\n",
       "      <td>0.000000</td>\n",
       "      <td>0.000000</td>\n",
       "      <td>0.000000</td>\n",
       "      <td>0.000000</td>\n",
       "      <td>0.000000</td>\n",
       "      <td>0.000000</td>\n",
       "      <td>0.000000</td>\n",
       "      <td>0.000000</td>\n",
       "      <td>0.000000</td>\n",
       "      <td>0.000000</td>\n",
       "      <td>0.000000</td>\n",
       "    </tr>\n",
       "    <tr>\n",
       "      <th>50%</th>\n",
       "      <td>0.000000</td>\n",
       "      <td>0.000000</td>\n",
       "      <td>0.000000</td>\n",
       "      <td>0.000000</td>\n",
       "      <td>0.000000</td>\n",
       "      <td>0.000000</td>\n",
       "      <td>0.000000</td>\n",
       "      <td>0.000000</td>\n",
       "      <td>0.000000</td>\n",
       "      <td>0.000000</td>\n",
       "      <td>0.000000</td>\n",
       "      <td>0.000000</td>\n",
       "      <td>0.000000</td>\n",
       "      <td>0.000000</td>\n",
       "    </tr>\n",
       "    <tr>\n",
       "      <th>75%</th>\n",
       "      <td>0.000000</td>\n",
       "      <td>0.000000</td>\n",
       "      <td>0.000000</td>\n",
       "      <td>0.000000</td>\n",
       "      <td>0.000000</td>\n",
       "      <td>0.000000</td>\n",
       "      <td>0.000000</td>\n",
       "      <td>0.000000</td>\n",
       "      <td>0.000000</td>\n",
       "      <td>0.000000</td>\n",
       "      <td>0.000000</td>\n",
       "      <td>0.000000</td>\n",
       "      <td>0.000000</td>\n",
       "      <td>0.000000</td>\n",
       "    </tr>\n",
       "    <tr>\n",
       "      <th>max</th>\n",
       "      <td>6.000000</td>\n",
       "      <td>17.000000</td>\n",
       "      <td>7.000000</td>\n",
       "      <td>19.000000</td>\n",
       "      <td>29.000000</td>\n",
       "      <td>42.000000</td>\n",
       "      <td>26.000000</td>\n",
       "      <td>11.000000</td>\n",
       "      <td>9.000000</td>\n",
       "      <td>17.000000</td>\n",
       "      <td>10.000000</td>\n",
       "      <td>19.000000</td>\n",
       "      <td>46.000000</td>\n",
       "      <td>7.000000</td>\n",
       "    </tr>\n",
       "  </tbody>\n",
       "</table>\n",
       "</div>"
      ],
      "text/plain": [
       "name   Button_ComparisonDisabled  Button_ComparisonEnabled  Button_DefineGoal  \\\n",
       "count                 494.000000                494.000000         494.000000   \n",
       "mean                    0.135628                  0.342105           0.267206   \n",
       "std                     0.667885                  1.406436           0.793903   \n",
       "min                     0.000000                  0.000000           0.000000   \n",
       "25%                     0.000000                  0.000000           0.000000   \n",
       "50%                     0.000000                  0.000000           0.000000   \n",
       "75%                     0.000000                  0.000000           0.000000   \n",
       "max                     6.000000                 17.000000           7.000000   \n",
       "\n",
       "name   Button_DownloadAllNotes  Button_DownloadNote  Button_EditNote  \\\n",
       "count               494.000000           494.000000       494.000000   \n",
       "mean                  0.331984             0.159919         0.429150   \n",
       "std                   1.113767             1.856061         2.707896   \n",
       "min                   0.000000             0.000000         0.000000   \n",
       "25%                   0.000000             0.000000         0.000000   \n",
       "50%                   0.000000             0.000000         0.000000   \n",
       "75%                   0.000000             0.000000         0.000000   \n",
       "max                  19.000000            29.000000        42.000000   \n",
       "\n",
       "name   Button_Effectiveness  Button_EngagementPerformance  \\\n",
       "count            494.000000                    494.000000   \n",
       "mean               0.469636                      0.161943   \n",
       "std                1.729733                      0.738735   \n",
       "min                0.000000                      0.000000   \n",
       "25%                0.000000                      0.000000   \n",
       "50%                0.000000                      0.000000   \n",
       "75%                0.000000                      0.000000   \n",
       "max               26.000000                     11.000000   \n",
       "\n",
       "name   Button_FilterTime30Days  Button_FilterTime7Days  \\\n",
       "count               494.000000              494.000000   \n",
       "mean                  0.121457                0.186235   \n",
       "std                   0.570954                0.939192   \n",
       "min                   0.000000                0.000000   \n",
       "25%                   0.000000                0.000000   \n",
       "50%                   0.000000                0.000000   \n",
       "75%                   0.000000                0.000000   \n",
       "max                   9.000000               17.000000   \n",
       "\n",
       "name   Button_FilterTimeViewAll  Button_FilterViewAll  Button_NewNote  \\\n",
       "count                494.000000            494.000000      494.000000   \n",
       "mean                   0.194332              0.194332        0.609312   \n",
       "std                    0.819816              1.131643        2.908195   \n",
       "min                    0.000000              0.000000        0.000000   \n",
       "25%                    0.000000              0.000000        0.000000   \n",
       "50%                    0.000000              0.000000        0.000000   \n",
       "75%                    0.000000              0.000000        0.000000   \n",
       "max                   10.000000             19.000000       46.000000   \n",
       "\n",
       "name   Button_SearchNote  \n",
       "count         494.000000  \n",
       "mean            0.082996  \n",
       "std             0.500704  \n",
       "min             0.000000  \n",
       "25%             0.000000  \n",
       "50%             0.000000  \n",
       "75%             0.000000  \n",
       "max             7.000000  "
      ]
     },
     "execution_count": 152,
     "metadata": {},
     "output_type": "execute_result"
    }
   ],
   "source": [
    "# General data statistics\n",
    "df_buttons.drop('All').describe()"
   ]
  },
  {
   "cell_type": "code",
   "execution_count": 153,
   "metadata": {},
   "outputs": [
    {
     "data": {
      "text/html": [
       "<div>\n",
       "<style scoped>\n",
       "    .dataframe tbody tr th:only-of-type {\n",
       "        vertical-align: middle;\n",
       "    }\n",
       "\n",
       "    .dataframe tbody tr th {\n",
       "        vertical-align: top;\n",
       "    }\n",
       "\n",
       "    .dataframe thead th {\n",
       "        text-align: right;\n",
       "    }\n",
       "</style>\n",
       "<table border=\"1\" class=\"dataframe\">\n",
       "  <thead>\n",
       "    <tr style=\"text-align: right;\">\n",
       "      <th>name</th>\n",
       "      <th>Graph_EffectivenessActivityType</th>\n",
       "      <th>Graph_EffectivenessByDayWeek</th>\n",
       "      <th>Graph_EngagementByNumberActivities</th>\n",
       "      <th>Graph_EngagementByTypeActivities</th>\n",
       "      <th>Graph_TimeInSessions</th>\n",
       "      <th>Graph_TimeUse</th>\n",
       "      <th>Graph_TimeUseOnCourse</th>\n",
       "    </tr>\n",
       "  </thead>\n",
       "  <tbody>\n",
       "    <tr>\n",
       "      <th>count</th>\n",
       "      <td>494.000000</td>\n",
       "      <td>494.000000</td>\n",
       "      <td>494.000000</td>\n",
       "      <td>494.000000</td>\n",
       "      <td>494.000000</td>\n",
       "      <td>494.000000</td>\n",
       "      <td>494.000000</td>\n",
       "    </tr>\n",
       "    <tr>\n",
       "      <th>mean</th>\n",
       "      <td>0.095142</td>\n",
       "      <td>0.012146</td>\n",
       "      <td>0.034413</td>\n",
       "      <td>4.609312</td>\n",
       "      <td>0.016194</td>\n",
       "      <td>0.016194</td>\n",
       "      <td>1.461538</td>\n",
       "    </tr>\n",
       "    <tr>\n",
       "      <th>std</th>\n",
       "      <td>1.116471</td>\n",
       "      <td>0.168077</td>\n",
       "      <td>0.388514</td>\n",
       "      <td>18.277975</td>\n",
       "      <td>0.210623</td>\n",
       "      <td>0.167734</td>\n",
       "      <td>9.823469</td>\n",
       "    </tr>\n",
       "    <tr>\n",
       "      <th>min</th>\n",
       "      <td>0.000000</td>\n",
       "      <td>0.000000</td>\n",
       "      <td>0.000000</td>\n",
       "      <td>0.000000</td>\n",
       "      <td>0.000000</td>\n",
       "      <td>0.000000</td>\n",
       "      <td>0.000000</td>\n",
       "    </tr>\n",
       "    <tr>\n",
       "      <th>25%</th>\n",
       "      <td>0.000000</td>\n",
       "      <td>0.000000</td>\n",
       "      <td>0.000000</td>\n",
       "      <td>0.000000</td>\n",
       "      <td>0.000000</td>\n",
       "      <td>0.000000</td>\n",
       "      <td>0.000000</td>\n",
       "    </tr>\n",
       "    <tr>\n",
       "      <th>50%</th>\n",
       "      <td>0.000000</td>\n",
       "      <td>0.000000</td>\n",
       "      <td>0.000000</td>\n",
       "      <td>0.000000</td>\n",
       "      <td>0.000000</td>\n",
       "      <td>0.000000</td>\n",
       "      <td>0.000000</td>\n",
       "    </tr>\n",
       "    <tr>\n",
       "      <th>75%</th>\n",
       "      <td>0.000000</td>\n",
       "      <td>0.000000</td>\n",
       "      <td>0.000000</td>\n",
       "      <td>0.000000</td>\n",
       "      <td>0.000000</td>\n",
       "      <td>0.000000</td>\n",
       "      <td>0.000000</td>\n",
       "    </tr>\n",
       "    <tr>\n",
       "      <th>max</th>\n",
       "      <td>18.000000</td>\n",
       "      <td>3.000000</td>\n",
       "      <td>7.000000</td>\n",
       "      <td>301.000000</td>\n",
       "      <td>4.000000</td>\n",
       "      <td>2.000000</td>\n",
       "      <td>203.000000</td>\n",
       "    </tr>\n",
       "  </tbody>\n",
       "</table>\n",
       "</div>"
      ],
      "text/plain": [
       "name   Graph_EffectivenessActivityType  Graph_EffectivenessByDayWeek  \\\n",
       "count                       494.000000                    494.000000   \n",
       "mean                          0.095142                      0.012146   \n",
       "std                           1.116471                      0.168077   \n",
       "min                           0.000000                      0.000000   \n",
       "25%                           0.000000                      0.000000   \n",
       "50%                           0.000000                      0.000000   \n",
       "75%                           0.000000                      0.000000   \n",
       "max                          18.000000                      3.000000   \n",
       "\n",
       "name   Graph_EngagementByNumberActivities  Graph_EngagementByTypeActivities  \\\n",
       "count                          494.000000                        494.000000   \n",
       "mean                             0.034413                          4.609312   \n",
       "std                              0.388514                         18.277975   \n",
       "min                              0.000000                          0.000000   \n",
       "25%                              0.000000                          0.000000   \n",
       "50%                              0.000000                          0.000000   \n",
       "75%                              0.000000                          0.000000   \n",
       "max                              7.000000                        301.000000   \n",
       "\n",
       "name   Graph_TimeInSessions  Graph_TimeUse  Graph_TimeUseOnCourse  \n",
       "count            494.000000     494.000000             494.000000  \n",
       "mean               0.016194       0.016194               1.461538  \n",
       "std                0.210623       0.167734               9.823469  \n",
       "min                0.000000       0.000000               0.000000  \n",
       "25%                0.000000       0.000000               0.000000  \n",
       "50%                0.000000       0.000000               0.000000  \n",
       "75%                0.000000       0.000000               0.000000  \n",
       "max                4.000000       2.000000             203.000000  "
      ]
     },
     "execution_count": 153,
     "metadata": {},
     "output_type": "execute_result"
    }
   ],
   "source": [
    "# General data statistics\n",
    "df_graphs.drop('All').describe()"
   ]
  },
  {
   "cell_type": "code",
   "execution_count": 154,
   "metadata": {},
   "outputs": [
    {
     "data": {
      "text/html": [
       "<div>\n",
       "<style scoped>\n",
       "    .dataframe tbody tr th:only-of-type {\n",
       "        vertical-align: middle;\n",
       "    }\n",
       "\n",
       "    .dataframe tbody tr th {\n",
       "        vertical-align: top;\n",
       "    }\n",
       "\n",
       "    .dataframe thead th {\n",
       "        text-align: right;\n",
       "    }\n",
       "</style>\n",
       "<table border=\"1\" class=\"dataframe\">\n",
       "  <thead>\n",
       "    <tr style=\"text-align: right;\">\n",
       "      <th>name</th>\n",
       "      <th>Menu_ChooseCourse</th>\n",
       "      <th>Menu_GoalSetting</th>\n",
       "      <th>Menu_ViewNotes</th>\n",
       "    </tr>\n",
       "  </thead>\n",
       "  <tbody>\n",
       "    <tr>\n",
       "      <th>count</th>\n",
       "      <td>494.000000</td>\n",
       "      <td>494.000000</td>\n",
       "      <td>494.000000</td>\n",
       "    </tr>\n",
       "    <tr>\n",
       "      <th>mean</th>\n",
       "      <td>3.447368</td>\n",
       "      <td>1.639676</td>\n",
       "      <td>2.210526</td>\n",
       "    </tr>\n",
       "    <tr>\n",
       "      <th>std</th>\n",
       "      <td>5.453125</td>\n",
       "      <td>2.435314</td>\n",
       "      <td>4.144476</td>\n",
       "    </tr>\n",
       "    <tr>\n",
       "      <th>min</th>\n",
       "      <td>0.000000</td>\n",
       "      <td>0.000000</td>\n",
       "      <td>0.000000</td>\n",
       "    </tr>\n",
       "    <tr>\n",
       "      <th>25%</th>\n",
       "      <td>1.000000</td>\n",
       "      <td>1.000000</td>\n",
       "      <td>1.000000</td>\n",
       "    </tr>\n",
       "    <tr>\n",
       "      <th>50%</th>\n",
       "      <td>2.000000</td>\n",
       "      <td>1.000000</td>\n",
       "      <td>1.000000</td>\n",
       "    </tr>\n",
       "    <tr>\n",
       "      <th>75%</th>\n",
       "      <td>4.000000</td>\n",
       "      <td>2.000000</td>\n",
       "      <td>2.000000</td>\n",
       "    </tr>\n",
       "    <tr>\n",
       "      <th>max</th>\n",
       "      <td>45.000000</td>\n",
       "      <td>31.000000</td>\n",
       "      <td>57.000000</td>\n",
       "    </tr>\n",
       "  </tbody>\n",
       "</table>\n",
       "</div>"
      ],
      "text/plain": [
       "name   Menu_ChooseCourse  Menu_GoalSetting  Menu_ViewNotes\n",
       "count         494.000000        494.000000      494.000000\n",
       "mean            3.447368          1.639676        2.210526\n",
       "std             5.453125          2.435314        4.144476\n",
       "min             0.000000          0.000000        0.000000\n",
       "25%             1.000000          1.000000        1.000000\n",
       "50%             2.000000          1.000000        1.000000\n",
       "75%             4.000000          2.000000        2.000000\n",
       "max            45.000000         31.000000       57.000000"
      ]
     },
     "execution_count": 154,
     "metadata": {},
     "output_type": "execute_result"
    }
   ],
   "source": [
    "# General data statistics\n",
    "df_menus.drop('All').describe()"
   ]
  },
  {
   "cell_type": "markdown",
   "metadata": {},
   "source": [
    "## Data Analysis and Visualization"
   ]
  },
  {
   "cell_type": "markdown",
   "metadata": {},
   "source": [
    "### Users with Interactions"
   ]
  },
  {
   "cell_type": "code",
   "execution_count": 155,
   "metadata": {},
   "outputs": [
    {
     "data": {
      "image/png": "[encoded data removed]",
      "text/plain": [
       "<Figure size 576x432 with 1 Axes>"
      ]
     },
     "metadata": {},
     "output_type": "display_data"
    }
   ],
   "source": [
    "ax = pd.Series({ 'With Interactions': len(df_interactions), 'Without Interactions': 572 - len(df_interactions)}).plot(kind='bar', figsize=(8,6), title=\"Users with Interactions\")\n",
    "ax.set_ylabel(\"Number of Users\")\n",
    "\n",
    "# Adding labels to the bars\n",
    "for p in ax.patches:\n",
    "    ax.annotate(str(p.get_height()), (p.get_x() * 1.005, p.get_height() * 1.005))"
   ]
  },
  {
   "cell_type": "markdown",
   "metadata": {},
   "source": [
    "### Interactions Frequencies"
   ]
  },
  {
   "cell_type": "code",
   "execution_count": 156,
   "metadata": {},
   "outputs": [
    {
     "data": {
      "text/plain": [
       "[]"
      ]
     },
     "execution_count": 156,
     "metadata": {},
     "output_type": "execute_result"
    },
    {
     "data": {
      "image/png": "[encoded data removed]",
      "text/plain": [
       "<Figure size 2160x576 with 1 Axes>"
      ]
     },
     "metadata": {},
     "output_type": "display_data"
    }
   ],
   "source": [
    "ax = df_interactions.plot(kind='bar', figsize=(30,8), title=\"Interactions by Users\")\n",
    "ax.set_ylabel(\"Number of Interactions\")\n",
    "ax.set_xlabel(\"Users\")\n",
    "\n",
    "ax.set_xticklabels([])"
   ]
  },
  {
   "cell_type": "markdown",
   "metadata": {},
   "source": [
    "### Interactions by Type"
   ]
  },
  {
   "cell_type": "code",
   "execution_count": 157,
   "metadata": {},
   "outputs": [
    {
     "data": {
      "image/png": "[encoded data removed]",
      "text/plain": [
       "<Figure size 864x720 with 1 Axes>"
      ]
     },
     "metadata": {},
     "output_type": "display_data"
    }
   ],
   "source": [
    "ax = df_types.loc['All'].sort_values(ascending=False).plot(kind='bar', figsize=(12,10), title=\"Number of Interactions by Type\")\n",
    "ax.set_ylabel(\"Number of Interactions\")\n",
    "ax.set_xlabel(\"Interaction Type\")\n",
    "\n",
    "# Adding labels to the bars\n",
    "for p in ax.patches:\n",
    "    ax.annotate(str(p.get_height()), (p.get_x() * 1.005, p.get_height() * 1.005))"
   ]
  },
  {
   "cell_type": "markdown",
   "metadata": {},
   "source": [
    "### Menu Interactions Frequencies"
   ]
  },
  {
   "cell_type": "code",
   "execution_count": 158,
   "metadata": {},
   "outputs": [
    {
     "data": {
      "image/png": "[encoded data removed]",
      "text/plain": [
       "<Figure size 864x720 with 1 Axes>"
      ]
     },
     "metadata": {},
     "output_type": "display_data"
    }
   ],
   "source": [
    "ax = df_types.drop('All').Menu.value_counts().plot(kind='bar', figsize=(12,10), title=\"Menu Interactions Frequencies\")\n",
    "ax.set_ylabel(\"Number of Users\")\n",
    "ax.set_xlabel(\"Number of Menu Interactions\")\n",
    "\n",
    "# Adding labels to the bars\n",
    "for p in ax.patches:\n",
    "    ax.annotate(str(p.get_height()), (p.get_x() * 1.005, p.get_height() * 1.005))"
   ]
  },
  {
   "cell_type": "markdown",
   "metadata": {},
   "source": [
    "### Graph Interactions Frequencies"
   ]
  },
  {
   "cell_type": "code",
   "execution_count": 159,
   "metadata": {},
   "outputs": [
    {
     "data": {
      "image/png": "[encoded data removed]",
      "text/plain": [
       "<Figure size 864x720 with 1 Axes>"
      ]
     },
     "metadata": {},
     "output_type": "display_data"
    }
   ],
   "source": [
    "ax = df_types.drop('All').Graph.value_counts().plot(kind='bar', figsize=(12,10), title=\"Graph Interactions Frequencies\")\n",
    "ax.set_ylabel(\"Number of Users\")\n",
    "ax.set_xlabel(\"Number of Graph Interactions\")\n",
    "\n",
    "# Adding labels to the bars\n",
    "for p in ax.patches:\n",
    "    ax.annotate(str(p.get_height()), (p.get_x() * 1.005, p.get_height() * 1.005))"
   ]
  },
  {
   "cell_type": "code",
   "execution_count": 160,
   "metadata": {},
   "outputs": [
    {
     "data": {
      "image/png": "[encoded data removed]",
      "text/plain": [
       "<Figure size 864x720 with 1 Axes>"
      ]
     },
     "metadata": {},
     "output_type": "display_data"
    }
   ],
   "source": [
    "ax = df_types[df_types.Graph > 0].drop('All').Graph.value_counts().plot(kind='bar', figsize=(12,10), title=\"Graph Interactions Frequencies without 0 interactions\")\n",
    "ax.set_ylabel(\"Number of Users\")\n",
    "ax.set_xlabel(\"Number of Graph Interactions\")\n",
    "\n",
    "# Adding labels to the bars\n",
    "for p in ax.patches:\n",
    "    ax.annotate(str(p.get_height()), (p.get_x() * 1.005, p.get_height() * 1.005))"
   ]
  },
  {
   "cell_type": "markdown",
   "metadata": {},
   "source": [
    "### Button Interactions Frequencies"
   ]
  },
  {
   "cell_type": "code",
   "execution_count": 161,
   "metadata": {},
   "outputs": [
    {
     "data": {
      "image/png": "[encoded data removed]",
      "text/plain": [
       "<Figure size 864x720 with 1 Axes>"
      ]
     },
     "metadata": {},
     "output_type": "display_data"
    }
   ],
   "source": [
    "ax = df_types.drop('All').Button.value_counts().plot(kind='bar', figsize=(12,10), title=\"Button Interactions Frequencies\")\n",
    "ax.set_ylabel(\"Number of Users\")\n",
    "ax.set_xlabel(\"Number of Button Interactions\")\n",
    "\n",
    "# Adding labels to the bars\n",
    "for p in ax.patches:\n",
    "    ax.annotate(str(p.get_height()), (p.get_x() * 1.005, p.get_height() * 1.005))"
   ]
  },
  {
   "cell_type": "code",
   "execution_count": 162,
   "metadata": {},
   "outputs": [
    {
     "data": {
      "image/png": "[encoded data removed]",
      "text/plain": [
       "<Figure size 864x720 with 1 Axes>"
      ]
     },
     "metadata": {},
     "output_type": "display_data"
    }
   ],
   "source": [
    "ax = df_types[df_types.Button > 0].drop('All').Button.value_counts().plot(kind='bar', figsize=(12,10), title=\"Button Interactions Frequencies without 0 interactions\")\n",
    "ax.set_ylabel(\"Number of Users\")\n",
    "ax.set_xlabel(\"Button Type\")\n",
    "\n",
    "# Adding labels to the bars\n",
    "for p in ax.patches:\n",
    "    ax.annotate(str(p.get_height()), (p.get_x() * 1.005, p.get_height() * 1.005))"
   ]
  },
  {
   "cell_type": "markdown",
   "metadata": {},
   "source": [
    "### Interactions by Button Type"
   ]
  },
  {
   "cell_type": "code",
   "execution_count": 163,
   "metadata": {},
   "outputs": [
    {
     "data": {
      "image/png": "[encoded data removed]",
      "text/plain": [
       "<Figure size 864x720 with 1 Axes>"
      ]
     },
     "metadata": {},
     "output_type": "display_data"
    }
   ],
   "source": [
    "ax = df_buttons.loc['All'].sort_values(ascending=False).plot(kind='bar', figsize=(12,10), title=\"Total Interactions by Button Type\")\n",
    "ax.set_ylabel(\"Number of Interactions\")\n",
    "ax.set_xlabel(\"Button Type\")\n",
    "\n",
    "# Adding labels to the bars\n",
    "for p in ax.patches:\n",
    "    ax.annotate(str(p.get_height()), (p.get_x() * 1.005, p.get_height() * 1.005))"
   ]
  },
  {
   "cell_type": "code",
   "execution_count": 164,
   "metadata": {},
   "outputs": [
    {
     "data": {
      "image/png": "[encoded data removed]",
      "text/plain": [
       "<Figure size 864x720 with 1 Axes>"
      ]
     },
     "metadata": {},
     "output_type": "display_data"
    }
   ],
   "source": [
    "ax = df_buttons.drop('All').mean().sort_values(ascending=False).plot(kind='bar', figsize=(12,10), title=\"Mean Interactions by Button Type\")\n",
    "ax.set_ylabel(\"Number of Interactions\")\n",
    "ax.set_xlabel(\"Button Type\")\n",
    "\n",
    "# Adding labels to the bars\n",
    "for p in ax.patches:\n",
    "    ax.annotate(str(round(p.get_height(), 2)), (p.get_x() * 1.005, p.get_height() * 1.005))"
   ]
  },
  {
   "cell_type": "markdown",
   "metadata": {},
   "source": [
    "### Interactions by Graph Type"
   ]
  },
  {
   "cell_type": "code",
   "execution_count": 165,
   "metadata": {},
   "outputs": [
    {
     "data": {
      "image/png": "[encoded data removed]",
      "text/plain": [
       "<Figure size 864x720 with 1 Axes>"
      ]
     },
     "metadata": {},
     "output_type": "display_data"
    }
   ],
   "source": [
    "ax = df_graphs.loc['All'].sort_values(ascending=False).plot(kind='bar', figsize=(12,10), title=\"Total Interactions by Graph Type\")\n",
    "ax.set_ylabel(\"Number of Interactions\")\n",
    "ax.set_xlabel(\"Graph Type\")\n",
    "\n",
    "# Adding labels to the bars\n",
    "for p in ax.patches:\n",
    "    ax.annotate(str(p.get_height()), (p.get_x() * 1.005, p.get_height() * 1.005))"
   ]
  },
  {
   "cell_type": "code",
   "execution_count": 166,
   "metadata": {},
   "outputs": [
    {
     "data": {
      "image/png": "[encoded data removed]",
      "text/plain": [
       "<Figure size 864x720 with 1 Axes>"
      ]
     },
     "metadata": {},
     "output_type": "display_data"
    }
   ],
   "source": [
    "ax = df_graphs.drop('All').mean().sort_values(ascending=False).plot(kind='bar', figsize=(12,10), title=\"Mean Interactions by Graph Type\")\n",
    "ax.set_ylabel(\"Number of Interactions\")\n",
    "ax.set_xlabel(\"Graph Type\")\n",
    "\n",
    "# Adding labels to the bars\n",
    "for p in ax.patches:\n",
    "    ax.annotate(str(round(p.get_height(), 2)), (p.get_x() * 1.005, p.get_height() * 1.005))"
   ]
  },
  {
   "cell_type": "markdown",
   "metadata": {},
   "source": [
    "### Interactions by Menu Type"
   ]
  },
  {
   "cell_type": "code",
   "execution_count": 167,
   "metadata": {},
   "outputs": [
    {
     "data": {
      "image/png": "[encoded data removed]",
      "text/plain": [
       "<Figure size 864x720 with 1 Axes>"
      ]
     },
     "metadata": {},
     "output_type": "display_data"
    }
   ],
   "source": [
    "ax = df_menus.loc['All'].sort_values(ascending=False).plot(kind='bar', figsize=(12,10), title=\"Total Interactions by Menu Type\")\n",
    "ax.set_ylabel(\"Number of Interactions\")\n",
    "ax.set_xlabel(\"Menu Type\")\n",
    "\n",
    "# Adding labels to the bars\n",
    "for p in ax.patches:\n",
    "    ax.annotate(str(p.get_height()), (p.get_x() * 1.005, p.get_height() * 1.005))"
   ]
  },
  {
   "cell_type": "code",
   "execution_count": 172,
   "metadata": {},
   "outputs": [
    {
     "data": {
      "image/png": "[encoded data removed]",
      "text/plain": [
       "<Figure size 864x720 with 1 Axes>"
      ]
     },
     "metadata": {},
     "output_type": "display_data"
    }
   ],
   "source": [
    "ax = df_menus.drop('All').mean().sort_values(ascending=False).plot(kind='bar', figsize=(12,10), title=\"Mean Interactions by Menu Type\")\n",
    "ax.set_ylabel(\"Number of Interactions\")\n",
    "ax.set_xlabel(\"Menu Type\")\n",
    "\n",
    "# Adding labels to the bars\n",
    "for p in ax.patches:\n",
    "    ax.annotate(str(round(p.get_height(), 2)), (p.get_x() * 1.005, p.get_height() * 1.005))"
   ]
  },
  {
   "cell_type": "markdown",
   "metadata": {},
   "source": [
    "## Export Data"
   ]
  },
  {
   "cell_type": "code",
   "execution_count": 169,
   "metadata": {},
   "outputs": [],
   "source": [
    "df.to_csv('../data/NMP/cooked_data_all_users/events.csv', index_label='id')\n",
    "df_interactions.to_csv('../data/NMP/cooked_data_all_users/interactions.csv', index_label='user_id')\n",
    "df_names.to_csv('../data/NMP/cooked_data_all_users/interactions_names.csv', index_label='user_id')\n",
    "df_types.to_csv('../data/NMP/cooked_data_all_users/interactions_types.csv', index_label='user_id')\n",
    "df_buttons.drop('All').to_csv('../data/NMP/cooked_data_all_users/buttons_by_users.csv', index_label='user_id')\n",
    "df_graphs.drop('All').to_csv('../data/NMP/cooked_data_all_users/graphs_by_users.csv', index_label='user_id')\n",
    "df_menus.drop('All').to_csv('../data/NMP/cooked_data_all_users/menus_by_users.csv', index_label='user_id')"
   ]
  },
  {
   "cell_type": "code",
   "execution_count": 170,
   "metadata": {},
   "outputs": [
    {
     "data": {
      "text/plain": [
       "name\n",
       "Button_ComparisonDisabled    0.270707\n",
       "Button_ComparisonEnabled     0.682828\n",
       "Button_DefineGoal            0.533333\n",
       "Button_DownloadAllNotes      0.662626\n",
       "Button_DownloadNote          0.319192\n",
       "dtype: float64"
      ]
     },
     "execution_count": 170,
     "metadata": {},
     "output_type": "execute_result"
    }
   ],
   "source": [
    "df_buttons.mean().head(5)"
   ]
  },
  {
   "cell_type": "code",
   "execution_count": 171,
   "metadata": {},
   "outputs": [
    {
     "data": {
      "text/html": [
       "<div>\n",
       "<style scoped>\n",
       "    .dataframe tbody tr th:only-of-type {\n",
       "        vertical-align: middle;\n",
       "    }\n",
       "\n",
       "    .dataframe tbody tr th {\n",
       "        vertical-align: top;\n",
       "    }\n",
       "\n",
       "    .dataframe thead th {\n",
       "        text-align: right;\n",
       "    }\n",
       "</style>\n",
       "<table border=\"1\" class=\"dataframe\">\n",
       "  <thead>\n",
       "    <tr style=\"text-align: right;\">\n",
       "      <th>name</th>\n",
       "      <th>Button_ComparisonDisabled</th>\n",
       "      <th>Button_ComparisonEnabled</th>\n",
       "      <th>Button_DefineGoal</th>\n",
       "      <th>Button_DownloadAllNotes</th>\n",
       "      <th>Button_DownloadNote</th>\n",
       "      <th>Button_EditNote</th>\n",
       "      <th>Button_Effectiveness</th>\n",
       "      <th>Button_EngagementPerformance</th>\n",
       "      <th>Button_FilterTime30Days</th>\n",
       "      <th>Button_FilterTime7Days</th>\n",
       "      <th>Button_FilterTimeViewAll</th>\n",
       "      <th>Button_FilterViewAll</th>\n",
       "      <th>Button_NewNote</th>\n",
       "      <th>Button_SearchNote</th>\n",
       "    </tr>\n",
       "    <tr>\n",
       "      <th>user_id</th>\n",
       "      <th></th>\n",
       "      <th></th>\n",
       "      <th></th>\n",
       "      <th></th>\n",
       "      <th></th>\n",
       "      <th></th>\n",
       "      <th></th>\n",
       "      <th></th>\n",
       "      <th></th>\n",
       "      <th></th>\n",
       "      <th></th>\n",
       "      <th></th>\n",
       "      <th></th>\n",
       "      <th></th>\n",
       "    </tr>\n",
       "  </thead>\n",
       "  <tbody>\n",
       "    <tr>\n",
       "      <th>2.0</th>\n",
       "      <td>2</td>\n",
       "      <td>2</td>\n",
       "      <td>1</td>\n",
       "      <td>0</td>\n",
       "      <td>0</td>\n",
       "      <td>0</td>\n",
       "      <td>26</td>\n",
       "      <td>11</td>\n",
       "      <td>2</td>\n",
       "      <td>2</td>\n",
       "      <td>1</td>\n",
       "      <td>13</td>\n",
       "      <td>2</td>\n",
       "      <td>0</td>\n",
       "    </tr>\n",
       "    <tr>\n",
       "      <th>3.0</th>\n",
       "      <td>5</td>\n",
       "      <td>14</td>\n",
       "      <td>4</td>\n",
       "      <td>3</td>\n",
       "      <td>2</td>\n",
       "      <td>3</td>\n",
       "      <td>17</td>\n",
       "      <td>5</td>\n",
       "      <td>3</td>\n",
       "      <td>7</td>\n",
       "      <td>2</td>\n",
       "      <td>1</td>\n",
       "      <td>1</td>\n",
       "      <td>0</td>\n",
       "    </tr>\n",
       "    <tr>\n",
       "      <th>5.0</th>\n",
       "      <td>0</td>\n",
       "      <td>0</td>\n",
       "      <td>0</td>\n",
       "      <td>0</td>\n",
       "      <td>0</td>\n",
       "      <td>0</td>\n",
       "      <td>0</td>\n",
       "      <td>0</td>\n",
       "      <td>0</td>\n",
       "      <td>0</td>\n",
       "      <td>0</td>\n",
       "      <td>0</td>\n",
       "      <td>0</td>\n",
       "      <td>0</td>\n",
       "    </tr>\n",
       "    <tr>\n",
       "      <th>8.0</th>\n",
       "      <td>0</td>\n",
       "      <td>0</td>\n",
       "      <td>0</td>\n",
       "      <td>0</td>\n",
       "      <td>0</td>\n",
       "      <td>0</td>\n",
       "      <td>0</td>\n",
       "      <td>0</td>\n",
       "      <td>0</td>\n",
       "      <td>1</td>\n",
       "      <td>0</td>\n",
       "      <td>0</td>\n",
       "      <td>0</td>\n",
       "      <td>0</td>\n",
       "    </tr>\n",
       "    <tr>\n",
       "      <th>9.0</th>\n",
       "      <td>0</td>\n",
       "      <td>0</td>\n",
       "      <td>0</td>\n",
       "      <td>1</td>\n",
       "      <td>0</td>\n",
       "      <td>0</td>\n",
       "      <td>0</td>\n",
       "      <td>0</td>\n",
       "      <td>0</td>\n",
       "      <td>0</td>\n",
       "      <td>0</td>\n",
       "      <td>0</td>\n",
       "      <td>1</td>\n",
       "      <td>0</td>\n",
       "    </tr>\n",
       "  </tbody>\n",
       "</table>\n",
       "</div>"
      ],
      "text/plain": [
       "name     Button_ComparisonDisabled  Button_ComparisonEnabled  \\\n",
       "user_id                                                        \n",
       "2.0                              2                         2   \n",
       "3.0                              5                        14   \n",
       "5.0                              0                         0   \n",
       "8.0                              0                         0   \n",
       "9.0                              0                         0   \n",
       "\n",
       "name     Button_DefineGoal  Button_DownloadAllNotes  Button_DownloadNote  \\\n",
       "user_id                                                                    \n",
       "2.0                      1                        0                    0   \n",
       "3.0                      4                        3                    2   \n",
       "5.0                      0                        0                    0   \n",
       "8.0                      0                        0                    0   \n",
       "9.0                      0                        1                    0   \n",
       "\n",
       "name     Button_EditNote  Button_Effectiveness  Button_EngagementPerformance  \\\n",
       "user_id                                                                        \n",
       "2.0                    0                    26                            11   \n",
       "3.0                    3                    17                             5   \n",
       "5.0                    0                     0                             0   \n",
       "8.0                    0                     0                             0   \n",
       "9.0                    0                     0                             0   \n",
       "\n",
       "name     Button_FilterTime30Days  Button_FilterTime7Days  \\\n",
       "user_id                                                    \n",
       "2.0                            2                       2   \n",
       "3.0                            3                       7   \n",
       "5.0                            0                       0   \n",
       "8.0                            0                       1   \n",
       "9.0                            0                       0   \n",
       "\n",
       "name     Button_FilterTimeViewAll  Button_FilterViewAll  Button_NewNote  \\\n",
       "user_id                                                                   \n",
       "2.0                             1                    13               2   \n",
       "3.0                             2                     1               1   \n",
       "5.0                             0                     0               0   \n",
       "8.0                             0                     0               0   \n",
       "9.0                             0                     0               1   \n",
       "\n",
       "name     Button_SearchNote  \n",
       "user_id                     \n",
       "2.0                      0  \n",
       "3.0                      0  \n",
       "5.0                      0  \n",
       "8.0                      0  \n",
       "9.0                      0  "
      ]
     },
     "execution_count": 171,
     "metadata": {},
     "output_type": "execute_result"
    }
   ],
   "source": [
    "df_buttons.head()"
   ]
  },
  {
   "cell_type": "code",
   "execution_count": null,
   "metadata": {},
   "outputs": [],
   "source": []
  }
 ],
 "metadata": {
  "kernelspec": {
   "display_name": "Python 3",
   "language": "python",
   "name": "python3"
  },
  "language_info": {
   "codemirror_mode": {
    "name": "ipython",
    "version": 3
   },
   "file_extension": ".py",
   "mimetype": "text/x-python",
   "name": "python",
   "nbconvert_exporter": "python",
   "pygments_lexer": "ipython3",
   "version": "3.7.1"
  }
 },
 "nbformat": 4,
 "nbformat_minor": 2
}
