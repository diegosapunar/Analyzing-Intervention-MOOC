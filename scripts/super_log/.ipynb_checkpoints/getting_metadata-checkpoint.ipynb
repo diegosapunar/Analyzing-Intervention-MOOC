{
 "cells": [
  {
   "cell_type": "markdown",
   "metadata": {},
   "source": [
    "# Getting MetaData"
   ]
  },
  {
   "cell_type": "markdown",
   "metadata": {},
   "source": [
    "## Import Packages"
   ]
  },
  {
   "cell_type": "code",
   "execution_count": 235,
   "metadata": {},
   "outputs": [],
   "source": [
    "# data analysis and wrangling\n",
    "import pandas as pd\n",
    "import numpy as np\n",
    "\n",
    "# visualization\n",
    "%matplotlib inline\n",
    "import matplotlib.pyplot as plt\n",
    "\n",
    "# wrangling os\n",
    "import os"
   ]
  },
  {
   "cell_type": "markdown",
   "metadata": {},
   "source": [
    "## Load Data"
   ]
  },
  {
   "cell_type": "code",
   "execution_count": 236,
   "metadata": {},
   "outputs": [],
   "source": [
    "# Selecting course name\n",
    "'''\n",
    "   - gestion-organizaciones-efectivas\n",
    "   - explorando-energia-sustentable\n",
    "   - camino-excelencia-gestion-proyectos\n",
    "   - gestion-empresarial-pyme\n",
    "   - aprendiendo-programar-python\n",
    "   - analisis-sistemas-de-transporte\n",
    "   - electrones-en-accion\n",
    "   - web-semantica\n",
    "   - aula-constructivista\n",
    "   - liderazgo-educativo\n",
    "   - equilibrio\n",
    "'''\n",
    "\n",
    "course_name = 'gestion-empresarial-pyme'"
   ]
  },
  {
   "cell_type": "code",
   "execution_count": 237,
   "metadata": {},
   "outputs": [],
   "source": [
    "df_items = pd.read_csv('../data/coursera/' + course_name + '/course_branch_items.csv')\n",
    "df_lessons = pd.read_csv('../data/coursera/' + course_name + '/course_lessons.csv')\n",
    "#df_modules = pd.read_csv('../data/coursera/' + course_name + '/course_modules.csv')"
   ]
  },
  {
   "cell_type": "markdown",
   "metadata": {},
   "source": [
    "## Data Cleaning and Preparation"
   ]
  },
  {
   "cell_type": "code",
   "execution_count": 238,
   "metadata": {},
   "outputs": [
    {
     "data": {
      "text/plain": [
       "\"\\ndf_modules = pd.DataFrame([['6tp5o', 2], \\n                  ['ZfUi0', 1], \\n                  ['cVERW', 6], \\n                  ['ef4LD', 7], \\n                  ['mqxCZ', 8], \\n                  ['zkTHl', 9], \\n                  ['wVnGO', 5], \\n                  ['rOc3O', 4], \\n                  ['30VYl', 3], \\n                  ['AXmuL', 0]], \\n                  columns=['course_module_id', 'course_module_order'])\\n                  \""
      ]
     },
     "execution_count": 238,
     "metadata": {},
     "output_type": "execute_result"
    }
   ],
   "source": [
    "## Haciendo df_modules a mano, para debugear\n",
    "# Aula:\n",
    "\n",
    "'''\n",
    "df_modules = pd.DataFrame([['6tp5o', 2], \n",
    "                  ['ZfUi0', 1], \n",
    "                  ['cVERW', 6], \n",
    "                  ['ef4LD', 7], \n",
    "                  ['mqxCZ', 8], \n",
    "                  ['zkTHl', 9], \n",
    "                  ['wVnGO', 5], \n",
    "                  ['rOc3O', 4], \n",
    "                  ['30VYl', 3], \n",
    "                  ['AXmuL', 0]], \n",
    "                  columns=['course_module_id', 'course_module_order'])\n",
    "                  '''\n"
   ]
  },
  {
   "cell_type": "code",
   "execution_count": 239,
   "metadata": {},
   "outputs": [],
   "source": [
    "## Haciendo df_modules a mano, para debugear\n",
    "# PYMES:\n",
    "df_modules = pd.DataFrame([['us5NO', 4], \n",
    "                  ['O20CK', 2], \n",
    "                  ['VZJd6', 1], \n",
    "                  ['s4gpp', 0], \n",
    "                  ['nduaX', 3]], \n",
    "                  columns=['course_module_id', 'course_module_order'])"
   ]
  },
  {
   "cell_type": "code",
   "execution_count": 240,
   "metadata": {},
   "outputs": [],
   "source": [
    "def create_folder(directory):\n",
    "    if not os.path.exists(directory):\n",
    "        os.makedirs(directory)"
   ]
  },
  {
   "cell_type": "code",
   "execution_count": 241,
   "metadata": {},
   "outputs": [],
   "source": [
    "def create_data(item_type, item_category, course_name):\n",
    "    for index, row in df_modules[['course_module_id', 'course_module_order']].iterrows():\n",
    "        # I create the new DataFrame\n",
    "        df = pd.DataFrame(columns=['course_item_id', 'course_branch_item_name'])\n",
    "        for i in df_lessons[df_lessons.course_module_id == row.course_module_id].course_lesson_id:\n",
    "            a = df_items[(df_items.course_lesson_id == i) & (df_items.course_item_type_id == item_type)][['course_item_id', 'course_branch_item_name']]\n",
    "            df = df.append(a , ignore_index=True)\n",
    "            \n",
    "            # Delete Repeated rows\n",
    "            df.drop_duplicates(inplace=True)\n",
    "            # Export Data\n",
    "            df.to_csv('../data/coursera/cooked_data/'+ course_name +'/metadata/raw/' + item_category +'/week_' + str(row.course_module_order + 1) + '.csv')"
   ]
  },
  {
   "cell_type": "code",
   "execution_count": 242,
   "metadata": {},
   "outputs": [],
   "source": [
    "# Items types availables in course_item_types.csv\n",
    "item_categories = ['lecture', \n",
    "                      'assess_open_single_page', \n",
    "                      'supplement',\n",
    "                      'peer', \n",
    "                      'quiz', \n",
    "                      'exam',\n",
    "                      'others', \n",
    "                      'graded_peer',\n",
    "                      'closed_peer', \n",
    "                      'graded_programming', \n",
    "                      'ungraded_programming', \n",
    "                      'phased_peer', \n",
    "                      'graded_lti',\n",
    "                      'ungraded_lti', \n",
    "                      'slideshow', \n",
    "                      'staff_graded',\n",
    "                      'notebook', \n",
    "                      'graded_discussion_prompt', \n",
    "                      'ungraded_widget']"
   ]
  },
  {
   "cell_type": "markdown",
   "metadata": {},
   "source": [
    "## Export Data"
   ]
  },
  {
   "cell_type": "code",
   "execution_count": 243,
   "metadata": {},
   "outputs": [],
   "source": [
    "# Create course_name\n",
    "dic = '../data/coursera/cooked_data/' + course_name\n",
    "create_folder(dic)"
   ]
  },
  {
   "cell_type": "code",
   "execution_count": 244,
   "metadata": {},
   "outputs": [],
   "source": [
    "for item_type, item_category in enumerate(item_categories):\n",
    "    dic = '../data/coursera/cooked_data/' + course_name +'/metadata/raw/' + item_category\n",
    "    create_folder(dic)\n",
    "    create_data(item_type + 1, item_category, course_name)"
   ]
  },
  {
   "cell_type": "code",
   "execution_count": null,
   "metadata": {},
   "outputs": [],
   "source": []
  }
 ],
 "metadata": {
  "kernelspec": {
   "display_name": "Python 3",
   "language": "python",
   "name": "python3"
  },
  "language_info": {
   "codemirror_mode": {
    "name": "ipython",
    "version": 3
   },
   "file_extension": ".py",
   "mimetype": "text/x-python",
   "name": "python",
   "nbconvert_exporter": "python",
   "pygments_lexer": "ipython3",
   "version": "3.7.1"
  }
 },
 "nbformat": 4,
 "nbformat_minor": 2
}
