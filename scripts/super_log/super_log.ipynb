{
 "cells": [
  {
   "cell_type": "markdown",
   "metadata": {},
   "source": [
    "# Getting Items results by Week"
   ]
  },
  {
   "cell_type": "markdown",
   "metadata": {},
   "source": [
    "## Import Packages"
   ]
  },
  {
   "cell_type": "code",
   "execution_count": 220,
   "metadata": {},
   "outputs": [],
   "source": [
    "# data analysis and wrangling\n",
    "import pandas as pd\n",
    "import numpy as np\n",
    "\n",
    "# visualization\n",
    "%matplotlib inline\n",
    "import matplotlib.pyplot as plt\n",
    "\n",
    "# wrangling os\n",
    "import os"
   ]
  },
  {
   "cell_type": "markdown",
   "metadata": {},
   "source": [
    "## Load Data"
   ]
  },
  {
   "cell_type": "code",
   "execution_count": 221,
   "metadata": {},
   "outputs": [],
   "source": [
    "# Selecting course name\n",
    "'''\n",
    "   - gestion-organizaciones-efectivas / 7\n",
    "   - camino-excelencia-gestion-proyectos / 5\n",
    "   - gestion-empresarial-pyme / 5\n",
    "   - aprendiendo-programar-python / 6\n",
    "   - electrones-en-accion / 4\n",
    "   - web-semantica / 7\n",
    "   - aula-constructivista / 10\n",
    "'''\n",
    "\n",
    "course_name = 'gestion-organizaciones-efectivas'\n",
    "number_weeks = 7\n"
   ]
  },
  {
   "cell_type": "code",
   "execution_count": 222,
   "metadata": {},
   "outputs": [],
   "source": [
    "# Grades & Progress\n",
    "df = pd.read_csv('../data/coursera/' + course_name + '/course_grades.csv', index_col='ucchile_user_id')\n",
    "df_formative_grades = pd.read_csv('../data/coursera/' + course_name + '/course_formative_quiz_grades.csv', index_col='ucchile_user_id')\n",
    "df_items_grades = pd.read_csv('../data/coursera/' + course_name + '/course_item_grades.csv', index_col='ucchile_user_id')\n",
    "df_progress = pd.read_csv('../data/coursera/' + course_name + '/course_progress.csv', index_col='ucchile_user_id')"
   ]
  },
  {
   "cell_type": "markdown",
   "metadata": {},
   "source": [
    "## Data Cleaning and Preparation"
   ]
  },
  {
   "cell_type": "code",
   "execution_count": 223,
   "metadata": {},
   "outputs": [],
   "source": [
    "def create_folder(directory):\n",
    "    if not os.path.exists(directory):\n",
    "        os.makedirs(directory)"
   ]
  },
  {
   "cell_type": "code",
   "execution_count": 224,
   "metadata": {},
   "outputs": [],
   "source": [
    "# Dropping unnesesary columns\n",
    "df.drop(columns=['course_id', 'course_grade_overall_passed_items', 'course_grade_overall', 'course_grade_ts'], inplace=True)\n",
    "df_formative_grades.drop(columns=['course_id'], inplace=True)\n",
    "df_items_grades.drop(columns=['course_id', 'course_item_grade_overall', 'course_item_grade_pending'], inplace=True)\n",
    "df_progress.drop(columns=['course_id'], inplace=True)"
   ]
  },
  {
   "cell_type": "code",
   "execution_count": 225,
   "metadata": {},
   "outputs": [],
   "source": [
    "# Dropping in df_formative_grades columns that are already in df_items_grades\n",
    "df_formative_grades = df_formative_grades[df_formative_grades.course_item_id.isin(df_items_grades.course_item_id) == False]"
   ]
  },
  {
   "cell_type": "code",
   "execution_count": 226,
   "metadata": {},
   "outputs": [],
   "source": [
    "# Items types availables in course_item_types.csv\n",
    "item_categories = ['lecture', \n",
    "                      'assess_open_single_page', \n",
    "                      'supplement',\n",
    "                      'peer', \n",
    "                      'quiz', \n",
    "                      'exam',\n",
    "                      'others', \n",
    "                      'graded_peer',\n",
    "                      'closed_peer', \n",
    "                      'graded_programming', \n",
    "                      'ungraded_programming', \n",
    "                      'phased_peer', \n",
    "                      'graded_lti',\n",
    "                      'ungraded_lti', \n",
    "                      'slideshow', \n",
    "                      'staff_graded',\n",
    "                      'notebook', \n",
    "                      'graded_discussion_prompt', \n",
    "                      'ungraded_widget']"
   ]
  },
  {
   "cell_type": "code",
   "execution_count": 227,
   "metadata": {},
   "outputs": [],
   "source": [
    "# Creating Folders\n",
    "for item_category in item_categories:\n",
    "    create_folder('../data/coursera/cooked_data/' + course_name +'/by_week_results/' + item_category)\n",
    "    create_folder('../data/coursera/cooked_data/' + course_name +'/by_week_results/' + item_category + '/formative_grades')\n",
    "    create_folder('../data/coursera/cooked_data/' + course_name +'/by_week_results/' + item_category + '/items_grades') \n",
    "    create_folder('../data/coursera/cooked_data/' + course_name +'/by_week_results/' + item_category + '/progress')           "
   ]
  },
  {
   "cell_type": "code",
   "execution_count": 228,
   "metadata": {},
   "outputs": [],
   "source": [
    "# Creating Data: \n",
    "for item_category in item_categories:\n",
    "    for i in range(1, number_weeks + 1):\n",
    "        # Leo el correspondiente a la week\n",
    "        df_raw = pd.read_csv('../data/coursera/cooked_data/' + course_name + '/metadata/raw/' + item_category + '/week_' + str(i)+ '.csv', index_col='course_item_id') \n",
    "\n",
    "        df_raw.drop(axis=1,  labels='Unnamed: 0', inplace=True)\n",
    "        \n",
    "        df_formative = df_formative_grades[df_formative_grades.course_item_id.isin(df_raw.index)]\n",
    "        df_formative.to_csv('../data/coursera/cooked_data/' + course_name + '/by_week_results/' + item_category + '/formative_grades/week_'+str(i)+ '.csv')\n",
    "\n",
    "        df_items = df_items_grades[df_items_grades.course_item_id.isin(df_raw.index)]\n",
    "        df_items.to_csv('../data/coursera/cooked_data/' + course_name + '/by_week_results/' + item_category + '/items_grades/week_'+str(i)+ '.csv')\n",
    "\n",
    "        df_progress_aux = df_progress[df_progress.course_item_id.isin(df_raw.index)]\n",
    "        df_progress_aux.to_csv('../data/coursera/cooked_data/' + course_name + '/by_week_results/' + item_category + '/progress/week_'+str(i)+ '.csv')\n",
    "        \n",
    "        if len(df_formative) > 0:\n",
    "            cols = []\n",
    "            for j in df_formative.course_item_id.unique():\n",
    "                cols.append('week_' + str(i) + '_' + item_category + '_' + j)\n",
    "                cols.append('week_' + str(i) + '_ts_' + item_category + '_' + j)\n",
    "\n",
    "            aux = pd.DataFrame(index=df_formative.index.unique(), columns=cols)\n",
    "\n",
    "            for index, row in df_formative.iterrows():\n",
    "                aux.at[index, 'week_' + str(i) + '_' + item_category + '_' + row.course_item_id] = row.course_quiz_grade / row.course_quiz_max_grade\n",
    "                aux.at[index, 'week_' + str(i) + '_ts_' + item_category + '_' + row.course_item_id] = row.course_quiz_grade_ts\n",
    "\n",
    "            df = df.merge(aux, left_on='ucchile_user_id', right_on='ucchile_user_id', how='outer', copy=False)\n",
    "\n",
    "        elif len(df_items) > 0:\n",
    "            cols = []\n",
    "            for j in df_items.course_item_id.unique():\n",
    "                cols.append('week_' + str(i) + '_' + item_category + '_' + j)\n",
    "                cols.append('week_' + str(i) + '_ts_' + item_category + '_' + j)\n",
    "\n",
    "            aux = pd.DataFrame(index=df_items.index.unique(), columns=cols)\n",
    "            for index, row in df_items.iterrows():\n",
    "                aux.at[index, 'week_' + str(i) + '_' + item_category + '_' + row.course_item_id] = row.course_item_grade_verified\n",
    "                aux.at[index, 'week_' + str(i) + '_ts_' + item_category + '_' + row.course_item_id] = row.course_item_grade_ts\n",
    "                \n",
    "            df = df.merge(aux, left_on='ucchile_user_id', right_on='ucchile_user_id', how='outer', copy=False)\n",
    "\n",
    "        elif len(df_progress_aux) > 0:\n",
    "            cols = []\n",
    "            for j in df_progress_aux.course_item_id.unique():\n",
    "                cols.append('week_' + str(i) + '_' + item_category + '_' + j)\n",
    "                cols.append('week_' + str(i) + '_ts_' + item_category + '_' + j)\n",
    "                \n",
    "            aux = pd.DataFrame(index=df_progress_aux.index.unique(), columns=cols)\n",
    "            \n",
    "            for index, row in df_progress_aux.iterrows():\n",
    "                aux.at[index, 'week_' + str(i) + '_' + item_category + '_' + row.course_item_id] = row.course_progress_state_type_id\n",
    "                aux.at[index, 'week_' + str(i) + '_ts_' + item_category + '_' + row.course_item_id] = row.course_progress_ts\n",
    "\n",
    "            df = df.merge(aux, left_on='ucchile_user_id', right_on='ucchile_user_id', how='outer', copy=False)\n",
    "\n"
   ]
  },
  {
   "cell_type": "code",
   "execution_count": 229,
   "metadata": {},
   "outputs": [],
   "source": [
    "def create_folder(directory):\n",
    "    if not os.path.exists(directory):\n",
    "        os.makedirs(directory)"
   ]
  },
  {
   "cell_type": "code",
   "execution_count": 230,
   "metadata": {},
   "outputs": [],
   "source": [
    "# Rename and Export Data\n",
    "df.rename(columns={'course_passing_state_id': 'course_passing_state', \n",
    "                   'course_grade_verified_passed_items': 'course_passed_items', \n",
    "                   'course_grade_verified': 'course_grade'}, inplace=True)\n"
   ]
  },
  {
   "cell_type": "markdown",
   "metadata": {},
   "source": [
    "## Export Data"
   ]
  },
  {
   "cell_type": "code",
   "execution_count": 231,
   "metadata": {},
   "outputs": [],
   "source": [
    "create_folder('../data/super_log/' + course_name)\n",
    "\n",
    "df.to_csv('../data/super_log/' + course_name + '/coursera.csv')"
   ]
  },
  {
   "cell_type": "code",
   "execution_count": null,
   "metadata": {},
   "outputs": [],
   "source": []
  }
 ],
 "metadata": {
  "kernelspec": {
   "display_name": "Python 3",
   "language": "python",
   "name": "python3"
  },
  "language_info": {
   "codemirror_mode": {
    "name": "ipython",
    "version": 3
   },
   "file_extension": ".py",
   "mimetype": "text/x-python",
   "name": "python",
   "nbconvert_exporter": "python",
   "pygments_lexer": "ipython3",
   "version": "3.7.1"
  }
 },
 "nbformat": 4,
 "nbformat_minor": 2
}
