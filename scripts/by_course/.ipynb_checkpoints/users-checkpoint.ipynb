{
 "cells": [
  {
   "cell_type": "markdown",
   "metadata": {},
   "source": [
    "# Users by Course"
   ]
  },
  {
   "cell_type": "markdown",
   "metadata": {},
   "source": [
    "## Import Packages"
   ]
  },
  {
   "cell_type": "code",
   "execution_count": 218,
   "metadata": {},
   "outputs": [],
   "source": [
    "# data analysis and wrangling\n",
    "import pandas as pd\n",
    "import numpy as np\n",
    "\n",
    "# visualization\n",
    "%matplotlib inline\n",
    "import matplotlib.pyplot as plt"
   ]
  },
  {
   "cell_type": "markdown",
   "metadata": {},
   "source": [
    "## Load Data"
   ]
  },
  {
   "cell_type": "code",
   "execution_count": 219,
   "metadata": {},
   "outputs": [],
   "source": [
    "df = pd.read_csv('../data/NMP/cooked_data_coursera_users/users.csv', index_col='user_id')"
   ]
  },
  {
   "cell_type": "markdown",
   "metadata": {},
   "source": [
    "## Data Cleaning and Preparation"
   ]
  },
  {
   "cell_type": "code",
   "execution_count": 220,
   "metadata": {},
   "outputs": [],
   "source": [
    "'''\n",
    "Selecting course name:\n",
    "   - gestion-organizaciones-efectivas\n",
    "   - explorando-energia-sustentable\n",
    "   - camino-excelencia-gestion-proyectos\n",
    "   - gestion-empresarial-pyme\n",
    "   - aprendiendo-programar-python\n",
    "   - analisis-sistemas-de-transporte\n",
    "   - electrones-en-accion\n",
    "   - web-semantica\n",
    "   - aula-constructivista\n",
    "   - liderazgo-educativo\n",
    "   - equilibrio\n",
    "'''\n",
    "course_name = 'aula-constructivista'"
   ]
  },
  {
   "cell_type": "code",
   "execution_count": 221,
   "metadata": {},
   "outputs": [],
   "source": [
    "# Creating the Data Frames and Deleting duplicates\n",
    "df = df[df.short_name == course_name]\n",
    "df = df.drop_duplicates(['lms_user_id'], keep='last')\n",
    "\n",
    "# Deleting Column 'short_name'\n",
    "df = df.drop(columns='short_name')"
   ]
  },
  {
   "cell_type": "markdown",
   "metadata": {},
   "source": [
    "## EDA: Exploratory Data Analysis"
   ]
  },
  {
   "cell_type": "code",
   "execution_count": 222,
   "metadata": {},
   "outputs": [
    {
     "data": {
      "text/plain": [
       "Index(['lms_user_id', 'email', 'gender', 'level_education', 'country',\n",
       "       'locale'],\n",
       "      dtype='object')"
      ]
     },
     "execution_count": 222,
     "metadata": {},
     "output_type": "execute_result"
    }
   ],
   "source": [
    "# Features/Variable names\n",
    "df.columns"
   ]
  },
  {
   "cell_type": "code",
   "execution_count": 223,
   "metadata": {},
   "outputs": [
    {
     "data": {
      "text/html": [
       "<div>\n",
       "<style scoped>\n",
       "    .dataframe tbody tr th:only-of-type {\n",
       "        vertical-align: middle;\n",
       "    }\n",
       "\n",
       "    .dataframe tbody tr th {\n",
       "        vertical-align: top;\n",
       "    }\n",
       "\n",
       "    .dataframe thead th {\n",
       "        text-align: right;\n",
       "    }\n",
       "</style>\n",
       "<table border=\"1\" class=\"dataframe\">\n",
       "  <thead>\n",
       "    <tr style=\"text-align: right;\">\n",
       "      <th></th>\n",
       "      <th>lms_user_id</th>\n",
       "      <th>email</th>\n",
       "      <th>gender</th>\n",
       "      <th>level_education</th>\n",
       "      <th>country</th>\n",
       "      <th>locale</th>\n",
       "    </tr>\n",
       "    <tr>\n",
       "      <th>user_id</th>\n",
       "      <th></th>\n",
       "      <th></th>\n",
       "      <th></th>\n",
       "      <th></th>\n",
       "      <th></th>\n",
       "      <th></th>\n",
       "    </tr>\n",
       "  </thead>\n",
       "  <tbody>\n",
       "    <tr>\n",
       "      <th>113</th>\n",
       "      <td>894867802d42b3aad77d37d532590348fa79803e</td>\n",
       "      <td>tveliz2710@gmail.com</td>\n",
       "      <td>Female</td>\n",
       "      <td>bachelor</td>\n",
       "      <td>CL</td>\n",
       "      <td>en</td>\n",
       "    </tr>\n",
       "    <tr>\n",
       "      <th>117</th>\n",
       "      <td>cfc3e5ee8fdc91d1d6d410afb37e5f3d794f5c80</td>\n",
       "      <td>catalina.matus.b@gmail.com</td>\n",
       "      <td>Female</td>\n",
       "      <td>bachelor</td>\n",
       "      <td>CL</td>\n",
       "      <td>en</td>\n",
       "    </tr>\n",
       "    <tr>\n",
       "      <th>121</th>\n",
       "      <td>f33d0f40f7177c9cbf071f68b404cd9617881284</td>\n",
       "      <td>claudiapaz1366@yahoo.com</td>\n",
       "      <td>Female</td>\n",
       "      <td>bachelor</td>\n",
       "      <td>US</td>\n",
       "      <td>en</td>\n",
       "    </tr>\n",
       "    <tr>\n",
       "      <th>160</th>\n",
       "      <td>110421d60aa03d0e7cb92a0c3cdd01956b1f77bc</td>\n",
       "      <td>belen.rios.valdivia@gmail.com</td>\n",
       "      <td>Female</td>\n",
       "      <td>bachelor</td>\n",
       "      <td>CL</td>\n",
       "      <td>es</td>\n",
       "    </tr>\n",
       "    <tr>\n",
       "      <th>272</th>\n",
       "      <td>d8f4e622fe26d4f416e18117c0eb6d5ed70ee3f5</td>\n",
       "      <td>teresa.andrade.edu@gmail.com</td>\n",
       "      <td>Female</td>\n",
       "      <td>bachelor</td>\n",
       "      <td>CL</td>\n",
       "      <td>es</td>\n",
       "    </tr>\n",
       "  </tbody>\n",
       "</table>\n",
       "</div>"
      ],
      "text/plain": [
       "                                      lms_user_id  \\\n",
       "user_id                                             \n",
       "113      894867802d42b3aad77d37d532590348fa79803e   \n",
       "117      cfc3e5ee8fdc91d1d6d410afb37e5f3d794f5c80   \n",
       "121      f33d0f40f7177c9cbf071f68b404cd9617881284   \n",
       "160      110421d60aa03d0e7cb92a0c3cdd01956b1f77bc   \n",
       "272      d8f4e622fe26d4f416e18117c0eb6d5ed70ee3f5   \n",
       "\n",
       "                                 email  gender level_education country locale  \n",
       "user_id                                                                        \n",
       "113               tveliz2710@gmail.com  Female        bachelor      CL     en  \n",
       "117         catalina.matus.b@gmail.com  Female        bachelor      CL     en  \n",
       "121           claudiapaz1366@yahoo.com  Female        bachelor      US     en  \n",
       "160      belen.rios.valdivia@gmail.com  Female        bachelor      CL     es  \n",
       "272       teresa.andrade.edu@gmail.com  Female        bachelor      CL     es  "
      ]
     },
     "execution_count": 223,
     "metadata": {},
     "output_type": "execute_result"
    }
   ],
   "source": [
    "# Preview the data\n",
    "df.head(5)"
   ]
  },
  {
   "cell_type": "code",
   "execution_count": 224,
   "metadata": {},
   "outputs": [
    {
     "data": {
      "text/html": [
       "<div>\n",
       "<style scoped>\n",
       "    .dataframe tbody tr th:only-of-type {\n",
       "        vertical-align: middle;\n",
       "    }\n",
       "\n",
       "    .dataframe tbody tr th {\n",
       "        vertical-align: top;\n",
       "    }\n",
       "\n",
       "    .dataframe thead th {\n",
       "        text-align: right;\n",
       "    }\n",
       "</style>\n",
       "<table border=\"1\" class=\"dataframe\">\n",
       "  <thead>\n",
       "    <tr style=\"text-align: right;\">\n",
       "      <th></th>\n",
       "      <th>lms_user_id</th>\n",
       "      <th>email</th>\n",
       "      <th>gender</th>\n",
       "      <th>level_education</th>\n",
       "      <th>country</th>\n",
       "      <th>locale</th>\n",
       "    </tr>\n",
       "  </thead>\n",
       "  <tbody>\n",
       "    <tr>\n",
       "      <th>count</th>\n",
       "      <td>15</td>\n",
       "      <td>15</td>\n",
       "      <td>15</td>\n",
       "      <td>15</td>\n",
       "      <td>15</td>\n",
       "      <td>15</td>\n",
       "    </tr>\n",
       "    <tr>\n",
       "      <th>unique</th>\n",
       "      <td>15</td>\n",
       "      <td>15</td>\n",
       "      <td>2</td>\n",
       "      <td>3</td>\n",
       "      <td>5</td>\n",
       "      <td>2</td>\n",
       "    </tr>\n",
       "    <tr>\n",
       "      <th>top</th>\n",
       "      <td>3ca5e1935208d35964510815981ab4e1c52728e1</td>\n",
       "      <td>mikeheandy@unad.edu.do</td>\n",
       "      <td>Female</td>\n",
       "      <td>bachelor</td>\n",
       "      <td>CL</td>\n",
       "      <td>es</td>\n",
       "    </tr>\n",
       "    <tr>\n",
       "      <th>freq</th>\n",
       "      <td>1</td>\n",
       "      <td>1</td>\n",
       "      <td>9</td>\n",
       "      <td>8</td>\n",
       "      <td>10</td>\n",
       "      <td>8</td>\n",
       "    </tr>\n",
       "  </tbody>\n",
       "</table>\n",
       "</div>"
      ],
      "text/plain": [
       "                                     lms_user_id                   email  \\\n",
       "count                                         15                      15   \n",
       "unique                                        15                      15   \n",
       "top     3ca5e1935208d35964510815981ab4e1c52728e1  mikeheandy@unad.edu.do   \n",
       "freq                                           1                       1   \n",
       "\n",
       "        gender level_education country locale  \n",
       "count       15              15      15     15  \n",
       "unique       2               3       5      2  \n",
       "top     Female        bachelor      CL     es  \n",
       "freq         9               8      10      8  "
      ]
     },
     "execution_count": 224,
     "metadata": {},
     "output_type": "execute_result"
    }
   ],
   "source": [
    "# General data statistics\n",
    "df.describe()"
   ]
  },
  {
   "cell_type": "markdown",
   "metadata": {},
   "source": [
    "## Data Analysis and Visualizations"
   ]
  },
  {
   "cell_type": "markdown",
   "metadata": {},
   "source": [
    "### Gender"
   ]
  },
  {
   "cell_type": "code",
   "execution_count": 225,
   "metadata": {},
   "outputs": [
    {
     "data": {
      "image/png": "[encoded data removed]",
      "text/plain": [
       "<Figure size 576x432 with 1 Axes>"
      ]
     },
     "metadata": {},
     "output_type": "display_data"
    }
   ],
   "source": [
    "ax = df.gender.value_counts().plot(kind='bar', figsize=(8,6), title=course_name + \" Gender\")\n",
    "ax.set_xlabel(\"Gender\")\n",
    "ax.set_ylabel(\"Quantity\")\n",
    "\n",
    "# Adding labels to the bars\n",
    "for p in ax.patches:\n",
    "    ax.annotate(str(p.get_height()), (p.get_x() * 1.005, p.get_height() * 1.005))"
   ]
  },
  {
   "cell_type": "markdown",
   "metadata": {},
   "source": [
    "### Education Level"
   ]
  },
  {
   "cell_type": "code",
   "execution_count": 226,
   "metadata": {},
   "outputs": [
    {
     "data": {
      "image/png": "[encoded data removed]",
      "text/plain": [
       "<Figure size 720x576 with 1 Axes>"
      ]
     },
     "metadata": {},
     "output_type": "display_data"
    }
   ],
   "source": [
    "ax = df.level_education.value_counts().plot(kind='bar', figsize=(10,8), title=course_name + \" Education Level\")\n",
    "ax.set_xlabel(\"Education Level\")\n",
    "ax.set_ylabel(\"Quantity\")\n",
    "\n",
    "# Adding labels to the bars\n",
    "for p in ax.patches:\n",
    "    ax.annotate(str(p.get_height()), (p.get_x() * 1.005, p.get_height() * 1.005))"
   ]
  },
  {
   "cell_type": "markdown",
   "metadata": {},
   "source": [
    "### Country"
   ]
  },
  {
   "cell_type": "code",
   "execution_count": 227,
   "metadata": {},
   "outputs": [
    {
     "data": {
      "image/png": "[encoded data removed]",
      "text/plain": [
       "<Figure size 864x720 with 1 Axes>"
      ]
     },
     "metadata": {},
     "output_type": "display_data"
    }
   ],
   "source": [
    "ax = df.country.value_counts().plot(kind='bar', figsize=(12,10), title=course_name + \" Country\")\n",
    "ax.set_xlabel(\"Country\")\n",
    "ax.set_ylabel(\"Quantity\")\n",
    "\n",
    "# Adding labels to the bars\n",
    "for p in ax.patches:\n",
    "    ax.annotate(str(p.get_height()), (p.get_x() * 1.005, p.get_height() * 1.005))"
   ]
  },
  {
   "cell_type": "markdown",
   "metadata": {},
   "source": [
    "### Locale"
   ]
  },
  {
   "cell_type": "code",
   "execution_count": 228,
   "metadata": {},
   "outputs": [
    {
     "data": {
      "image/png": "[encoded data removed]",
      "text/plain": [
       "<Figure size 576x432 with 1 Axes>"
      ]
     },
     "metadata": {},
     "output_type": "display_data"
    }
   ],
   "source": [
    "ax = df.locale.value_counts().plot(kind='bar', figsize=(8,6), title=course_name + \" Locale\")\n",
    "ax.set_xlabel(\"Locale\")\n",
    "ax.set_ylabel(\"Quantity\")\n",
    "\n",
    "# Adding labels to the bars\n",
    "for p in ax.patches:\n",
    "    ax.annotate(str(p.get_height()), (p.get_x() * 1.005, p.get_height() * 1.005))"
   ]
  },
  {
   "cell_type": "markdown",
   "metadata": {},
   "source": [
    "## Export Data"
   ]
  },
  {
   "cell_type": "code",
   "execution_count": 229,
   "metadata": {},
   "outputs": [],
   "source": [
    "df.to_csv('../data/NMP/cooked_data_by_course/' + course_name + '/users.csv')"
   ]
  },
  {
   "cell_type": "code",
   "execution_count": null,
   "metadata": {},
   "outputs": [],
   "source": []
  }
 ],
 "metadata": {
  "kernelspec": {
   "display_name": "Python 3",
   "language": "python",
   "name": "python3"
  },
  "language_info": {
   "codemirror_mode": {
    "name": "ipython",
    "version": 3
   },
   "file_extension": ".py",
   "mimetype": "text/x-python",
   "name": "python",
   "nbconvert_exporter": "python",
   "pygments_lexer": "ipython3",
   "version": "3.7.1"
  }
 },
 "nbformat": 4,
 "nbformat_minor": 2
}
